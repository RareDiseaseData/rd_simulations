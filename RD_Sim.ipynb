{
  "nbformat": 4,
  "nbformat_minor": 0,
  "metadata": {
    "colab": {
      "provenance": [],
      "include_colab_link": true
    },
    "kernelspec": {
      "name": "python3",
      "display_name": "Python 3"
    },
    "language_info": {
      "name": "python"
    }
  },
  "cells": [
    {
      "cell_type": "markdown",
      "metadata": {
        "id": "view-in-github",
        "colab_type": "text"
      },
      "source": [
        "<a href=\"https://colab.research.google.com/github/RareDiseaseData/rd_simulations/blob/main/RD_Sim.ipynb\" target=\"_parent\"><img src=\"https://colab.research.google.com/assets/colab-badge.svg\" alt=\"Open In Colab\"/></a>"
      ]
    },
    {
      "cell_type": "markdown",
      "source": [
        "# Meta-analysis simulation of data"
      ],
      "metadata": {
        "id": "DGHZNej0xw9o"
      }
    },
    {
      "cell_type": "markdown",
      "source": [
        "## Libraries"
      ],
      "metadata": {
        "id": "-mUDc62ExuYb"
      }
    },
    {
      "cell_type": "code",
      "execution_count": 306,
      "metadata": {
        "id": "tszfkSJY71_V"
      },
      "outputs": [],
      "source": [
        "import pandas as pd\n",
        "import numpy as np\n",
        "\n",
        "import matplotlib.pyplot as plt\n",
        "\n",
        "# Just for clarity\n",
        "import warnings\n",
        "warnings.filterwarnings(\"ignore\")"
      ]
    },
    {
      "cell_type": "markdown",
      "source": [
        "## Load data"
      ],
      "metadata": {
        "id": "9I4iK_OUxwKB"
      }
    },
    {
      "cell_type": "code",
      "source": [
        "df = pd.read_csv('/content/meta-analysis.csv')\n",
        "df.drop(columns = ['species'], inplace = True)\n",
        "df.columns = ['id', 'author', 'gender', 'health', 'control',\n",
        "       'intervention', 'marker', 'age', 'timepoint', 'outcome_unit', 'n',\n",
        "       'mean', 'sd', 'se', 'min', 'max', 'median', 't_score']\n",
        "df"
      ],
      "metadata": {
        "id": "dl-Qcmb39bXo",
        "outputId": "cc644360-992b-436a-f9b8-03289d83ea53",
        "colab": {
          "base_uri": "https://localhost:8080/",
          "height": 424
        }
      },
      "execution_count": 307,
      "outputs": [
        {
          "output_type": "execute_result",
          "data": {
            "text/plain": [
              "    id                 author gender            health            control  \\\n",
              "0   60  Brunetti et al., 2016     MF  Health age match                NaN   \n",
              "1   63   Iwamoto et al., 2002    NaN     Healthy (ref)                NaN   \n",
              "2   48    Semler et al., 2012      M     Healthy (ref)                NaN   \n",
              "3   48    Semler et al., 2012      M     Healthy (ref)                NaN   \n",
              "4   48    Semler et al., 2012      M     Healthy (ref)                NaN   \n",
              "..  ..                    ...    ...               ...                ...   \n",
              "90  11   Pressac et al., 2002     MF        I, III, IV  yes, ref control?   \n",
              "91  11   Pressac et al., 2002     MF        I, III, IV  yes, ref control?   \n",
              "92  11   Pressac et al., 2002     MF        I, III, IV  yes, ref control?   \n",
              "93  11   Pressac et al., 2002     MF        I, III, IV  yes, ref control?   \n",
              "94  11   Pressac et al., 2002     MF        I, III, IV  yes, ref control?   \n",
              "\n",
              "   intervention marker            age     timepoint   outcome_unit     n  \\\n",
              "0             x  sCTX5  8.23 y ± 3.19  no treatment          ng/ml  21.0   \n",
              "1             x   uNTX            NaN  No treatment  nmol/mmol Cr    NaN   \n",
              "2             x   uDPD          9.4 y  no treatment       nM/mM Cr   NaN   \n",
              "3             x   uDPD          6.9 y  no treatment       nM/mM Cr   NaN   \n",
              "4             x   uDPD         18.5 y  no treatment       nM/mM Cr   NaN   \n",
              "..          ...    ...            ...           ...            ...   ...   \n",
              "90            x   uCTX             <4  pretreatment        T-score   1.0   \n",
              "91            x   uCTX             <4  pretreatment        T-score   1.0   \n",
              "92            x   uCTX             <4  pretreatment        T-score   1.0   \n",
              "93            x   uCTX             <4  pretreatment        T-score   1.0   \n",
              "94            x   uCTX             <4  pretreatment        T-score   1.0   \n",
              "\n",
              "      mean        sd  se    min    max median   t_score  \n",
              "0    1.570  0.460000 NaN    NaN    NaN    NaN       NaN  \n",
              "1   43.000  8.351647 NaN  13.00  73.00    NaN       NaN  \n",
              "2   17.335  5.164301 NaN   6.40  28.27    NaN       NaN  \n",
              "3   17.335  5.164301 NaN   6.40  28.27    NaN       NaN  \n",
              "4   16.770  5.084535 NaN   6.15  27.39    NaN       NaN  \n",
              "..     ...       ...  ..    ...    ...    ...       ...  \n",
              "90     NaN       NaN NaN    NaN    NaN    NaN -0.995935  \n",
              "91     NaN       NaN NaN    NaN    NaN    NaN -0.569106  \n",
              "92     NaN       NaN NaN    NaN    NaN    NaN  0.426829  \n",
              "93     NaN       NaN NaN    NaN    NaN    NaN  3.794038  \n",
              "94     NaN       NaN NaN    NaN    NaN    NaN  5.216802  \n",
              "\n",
              "[95 rows x 18 columns]"
            ],
            "text/html": [
              "\n",
              "  <div id=\"df-9b8a2d32-57b7-462e-a12c-268ea7819c6c\">\n",
              "    <div class=\"colab-df-container\">\n",
              "      <div>\n",
              "<style scoped>\n",
              "    .dataframe tbody tr th:only-of-type {\n",
              "        vertical-align: middle;\n",
              "    }\n",
              "\n",
              "    .dataframe tbody tr th {\n",
              "        vertical-align: top;\n",
              "    }\n",
              "\n",
              "    .dataframe thead th {\n",
              "        text-align: right;\n",
              "    }\n",
              "</style>\n",
              "<table border=\"1\" class=\"dataframe\">\n",
              "  <thead>\n",
              "    <tr style=\"text-align: right;\">\n",
              "      <th></th>\n",
              "      <th>id</th>\n",
              "      <th>author</th>\n",
              "      <th>gender</th>\n",
              "      <th>health</th>\n",
              "      <th>control</th>\n",
              "      <th>intervention</th>\n",
              "      <th>marker</th>\n",
              "      <th>age</th>\n",
              "      <th>timepoint</th>\n",
              "      <th>outcome_unit</th>\n",
              "      <th>n</th>\n",
              "      <th>mean</th>\n",
              "      <th>sd</th>\n",
              "      <th>se</th>\n",
              "      <th>min</th>\n",
              "      <th>max</th>\n",
              "      <th>median</th>\n",
              "      <th>t_score</th>\n",
              "    </tr>\n",
              "  </thead>\n",
              "  <tbody>\n",
              "    <tr>\n",
              "      <th>0</th>\n",
              "      <td>60</td>\n",
              "      <td>Brunetti et al., 2016</td>\n",
              "      <td>MF</td>\n",
              "      <td>Health age match</td>\n",
              "      <td>NaN</td>\n",
              "      <td>x</td>\n",
              "      <td>sCTX5</td>\n",
              "      <td>8.23 y ± 3.19</td>\n",
              "      <td>no treatment</td>\n",
              "      <td>ng/ml</td>\n",
              "      <td>21.0</td>\n",
              "      <td>1.570</td>\n",
              "      <td>0.460000</td>\n",
              "      <td>NaN</td>\n",
              "      <td>NaN</td>\n",
              "      <td>NaN</td>\n",
              "      <td>NaN</td>\n",
              "      <td>NaN</td>\n",
              "    </tr>\n",
              "    <tr>\n",
              "      <th>1</th>\n",
              "      <td>63</td>\n",
              "      <td>Iwamoto et al., 2002</td>\n",
              "      <td>NaN</td>\n",
              "      <td>Healthy (ref)</td>\n",
              "      <td>NaN</td>\n",
              "      <td>x</td>\n",
              "      <td>uNTX</td>\n",
              "      <td>NaN</td>\n",
              "      <td>No treatment</td>\n",
              "      <td>nmol/mmol Cr</td>\n",
              "      <td>NaN</td>\n",
              "      <td>43.000</td>\n",
              "      <td>8.351647</td>\n",
              "      <td>NaN</td>\n",
              "      <td>13.00</td>\n",
              "      <td>73.00</td>\n",
              "      <td>NaN</td>\n",
              "      <td>NaN</td>\n",
              "    </tr>\n",
              "    <tr>\n",
              "      <th>2</th>\n",
              "      <td>48</td>\n",
              "      <td>Semler et al., 2012</td>\n",
              "      <td>M</td>\n",
              "      <td>Healthy (ref)</td>\n",
              "      <td>NaN</td>\n",
              "      <td>x</td>\n",
              "      <td>uDPD</td>\n",
              "      <td>9.4 y</td>\n",
              "      <td>no treatment</td>\n",
              "      <td>nM/mM Cr</td>\n",
              "      <td>NaN</td>\n",
              "      <td>17.335</td>\n",
              "      <td>5.164301</td>\n",
              "      <td>NaN</td>\n",
              "      <td>6.40</td>\n",
              "      <td>28.27</td>\n",
              "      <td>NaN</td>\n",
              "      <td>NaN</td>\n",
              "    </tr>\n",
              "    <tr>\n",
              "      <th>3</th>\n",
              "      <td>48</td>\n",
              "      <td>Semler et al., 2012</td>\n",
              "      <td>M</td>\n",
              "      <td>Healthy (ref)</td>\n",
              "      <td>NaN</td>\n",
              "      <td>x</td>\n",
              "      <td>uDPD</td>\n",
              "      <td>6.9 y</td>\n",
              "      <td>no treatment</td>\n",
              "      <td>nM/mM Cr</td>\n",
              "      <td>NaN</td>\n",
              "      <td>17.335</td>\n",
              "      <td>5.164301</td>\n",
              "      <td>NaN</td>\n",
              "      <td>6.40</td>\n",
              "      <td>28.27</td>\n",
              "      <td>NaN</td>\n",
              "      <td>NaN</td>\n",
              "    </tr>\n",
              "    <tr>\n",
              "      <th>4</th>\n",
              "      <td>48</td>\n",
              "      <td>Semler et al., 2012</td>\n",
              "      <td>M</td>\n",
              "      <td>Healthy (ref)</td>\n",
              "      <td>NaN</td>\n",
              "      <td>x</td>\n",
              "      <td>uDPD</td>\n",
              "      <td>18.5 y</td>\n",
              "      <td>no treatment</td>\n",
              "      <td>nM/mM Cr</td>\n",
              "      <td>NaN</td>\n",
              "      <td>16.770</td>\n",
              "      <td>5.084535</td>\n",
              "      <td>NaN</td>\n",
              "      <td>6.15</td>\n",
              "      <td>27.39</td>\n",
              "      <td>NaN</td>\n",
              "      <td>NaN</td>\n",
              "    </tr>\n",
              "    <tr>\n",
              "      <th>...</th>\n",
              "      <td>...</td>\n",
              "      <td>...</td>\n",
              "      <td>...</td>\n",
              "      <td>...</td>\n",
              "      <td>...</td>\n",
              "      <td>...</td>\n",
              "      <td>...</td>\n",
              "      <td>...</td>\n",
              "      <td>...</td>\n",
              "      <td>...</td>\n",
              "      <td>...</td>\n",
              "      <td>...</td>\n",
              "      <td>...</td>\n",
              "      <td>...</td>\n",
              "      <td>...</td>\n",
              "      <td>...</td>\n",
              "      <td>...</td>\n",
              "      <td>...</td>\n",
              "    </tr>\n",
              "    <tr>\n",
              "      <th>90</th>\n",
              "      <td>11</td>\n",
              "      <td>Pressac et al., 2002</td>\n",
              "      <td>MF</td>\n",
              "      <td>I, III, IV</td>\n",
              "      <td>yes, ref control?</td>\n",
              "      <td>x</td>\n",
              "      <td>uCTX</td>\n",
              "      <td>&lt;4</td>\n",
              "      <td>pretreatment</td>\n",
              "      <td>T-score</td>\n",
              "      <td>1.0</td>\n",
              "      <td>NaN</td>\n",
              "      <td>NaN</td>\n",
              "      <td>NaN</td>\n",
              "      <td>NaN</td>\n",
              "      <td>NaN</td>\n",
              "      <td>NaN</td>\n",
              "      <td>-0.995935</td>\n",
              "    </tr>\n",
              "    <tr>\n",
              "      <th>91</th>\n",
              "      <td>11</td>\n",
              "      <td>Pressac et al., 2002</td>\n",
              "      <td>MF</td>\n",
              "      <td>I, III, IV</td>\n",
              "      <td>yes, ref control?</td>\n",
              "      <td>x</td>\n",
              "      <td>uCTX</td>\n",
              "      <td>&lt;4</td>\n",
              "      <td>pretreatment</td>\n",
              "      <td>T-score</td>\n",
              "      <td>1.0</td>\n",
              "      <td>NaN</td>\n",
              "      <td>NaN</td>\n",
              "      <td>NaN</td>\n",
              "      <td>NaN</td>\n",
              "      <td>NaN</td>\n",
              "      <td>NaN</td>\n",
              "      <td>-0.569106</td>\n",
              "    </tr>\n",
              "    <tr>\n",
              "      <th>92</th>\n",
              "      <td>11</td>\n",
              "      <td>Pressac et al., 2002</td>\n",
              "      <td>MF</td>\n",
              "      <td>I, III, IV</td>\n",
              "      <td>yes, ref control?</td>\n",
              "      <td>x</td>\n",
              "      <td>uCTX</td>\n",
              "      <td>&lt;4</td>\n",
              "      <td>pretreatment</td>\n",
              "      <td>T-score</td>\n",
              "      <td>1.0</td>\n",
              "      <td>NaN</td>\n",
              "      <td>NaN</td>\n",
              "      <td>NaN</td>\n",
              "      <td>NaN</td>\n",
              "      <td>NaN</td>\n",
              "      <td>NaN</td>\n",
              "      <td>0.426829</td>\n",
              "    </tr>\n",
              "    <tr>\n",
              "      <th>93</th>\n",
              "      <td>11</td>\n",
              "      <td>Pressac et al., 2002</td>\n",
              "      <td>MF</td>\n",
              "      <td>I, III, IV</td>\n",
              "      <td>yes, ref control?</td>\n",
              "      <td>x</td>\n",
              "      <td>uCTX</td>\n",
              "      <td>&lt;4</td>\n",
              "      <td>pretreatment</td>\n",
              "      <td>T-score</td>\n",
              "      <td>1.0</td>\n",
              "      <td>NaN</td>\n",
              "      <td>NaN</td>\n",
              "      <td>NaN</td>\n",
              "      <td>NaN</td>\n",
              "      <td>NaN</td>\n",
              "      <td>NaN</td>\n",
              "      <td>3.794038</td>\n",
              "    </tr>\n",
              "    <tr>\n",
              "      <th>94</th>\n",
              "      <td>11</td>\n",
              "      <td>Pressac et al., 2002</td>\n",
              "      <td>MF</td>\n",
              "      <td>I, III, IV</td>\n",
              "      <td>yes, ref control?</td>\n",
              "      <td>x</td>\n",
              "      <td>uCTX</td>\n",
              "      <td>&lt;4</td>\n",
              "      <td>pretreatment</td>\n",
              "      <td>T-score</td>\n",
              "      <td>1.0</td>\n",
              "      <td>NaN</td>\n",
              "      <td>NaN</td>\n",
              "      <td>NaN</td>\n",
              "      <td>NaN</td>\n",
              "      <td>NaN</td>\n",
              "      <td>NaN</td>\n",
              "      <td>5.216802</td>\n",
              "    </tr>\n",
              "  </tbody>\n",
              "</table>\n",
              "<p>95 rows × 18 columns</p>\n",
              "</div>\n",
              "      <button class=\"colab-df-convert\" onclick=\"convertToInteractive('df-9b8a2d32-57b7-462e-a12c-268ea7819c6c')\"\n",
              "              title=\"Convert this dataframe to an interactive table.\"\n",
              "              style=\"display:none;\">\n",
              "        \n",
              "  <svg xmlns=\"http://www.w3.org/2000/svg\" height=\"24px\"viewBox=\"0 0 24 24\"\n",
              "       width=\"24px\">\n",
              "    <path d=\"M0 0h24v24H0V0z\" fill=\"none\"/>\n",
              "    <path d=\"M18.56 5.44l.94 2.06.94-2.06 2.06-.94-2.06-.94-.94-2.06-.94 2.06-2.06.94zm-11 1L8.5 8.5l.94-2.06 2.06-.94-2.06-.94L8.5 2.5l-.94 2.06-2.06.94zm10 10l.94 2.06.94-2.06 2.06-.94-2.06-.94-.94-2.06-.94 2.06-2.06.94z\"/><path d=\"M17.41 7.96l-1.37-1.37c-.4-.4-.92-.59-1.43-.59-.52 0-1.04.2-1.43.59L10.3 9.45l-7.72 7.72c-.78.78-.78 2.05 0 2.83L4 21.41c.39.39.9.59 1.41.59.51 0 1.02-.2 1.41-.59l7.78-7.78 2.81-2.81c.8-.78.8-2.07 0-2.86zM5.41 20L4 18.59l7.72-7.72 1.47 1.35L5.41 20z\"/>\n",
              "  </svg>\n",
              "      </button>\n",
              "      \n",
              "  <style>\n",
              "    .colab-df-container {\n",
              "      display:flex;\n",
              "      flex-wrap:wrap;\n",
              "      gap: 12px;\n",
              "    }\n",
              "\n",
              "    .colab-df-convert {\n",
              "      background-color: #E8F0FE;\n",
              "      border: none;\n",
              "      border-radius: 50%;\n",
              "      cursor: pointer;\n",
              "      display: none;\n",
              "      fill: #1967D2;\n",
              "      height: 32px;\n",
              "      padding: 0 0 0 0;\n",
              "      width: 32px;\n",
              "    }\n",
              "\n",
              "    .colab-df-convert:hover {\n",
              "      background-color: #E2EBFA;\n",
              "      box-shadow: 0px 1px 2px rgba(60, 64, 67, 0.3), 0px 1px 3px 1px rgba(60, 64, 67, 0.15);\n",
              "      fill: #174EA6;\n",
              "    }\n",
              "\n",
              "    [theme=dark] .colab-df-convert {\n",
              "      background-color: #3B4455;\n",
              "      fill: #D2E3FC;\n",
              "    }\n",
              "\n",
              "    [theme=dark] .colab-df-convert:hover {\n",
              "      background-color: #434B5C;\n",
              "      box-shadow: 0px 1px 3px 1px rgba(0, 0, 0, 0.15);\n",
              "      filter: drop-shadow(0px 1px 2px rgba(0, 0, 0, 0.3));\n",
              "      fill: #FFFFFF;\n",
              "    }\n",
              "  </style>\n",
              "\n",
              "      <script>\n",
              "        const buttonEl =\n",
              "          document.querySelector('#df-9b8a2d32-57b7-462e-a12c-268ea7819c6c button.colab-df-convert');\n",
              "        buttonEl.style.display =\n",
              "          google.colab.kernel.accessAllowed ? 'block' : 'none';\n",
              "\n",
              "        async function convertToInteractive(key) {\n",
              "          const element = document.querySelector('#df-9b8a2d32-57b7-462e-a12c-268ea7819c6c');\n",
              "          const dataTable =\n",
              "            await google.colab.kernel.invokeFunction('convertToInteractive',\n",
              "                                                     [key], {});\n",
              "          if (!dataTable) return;\n",
              "\n",
              "          const docLinkHtml = 'Like what you see? Visit the ' +\n",
              "            '<a target=\"_blank\" href=https://colab.research.google.com/notebooks/data_table.ipynb>data table notebook</a>'\n",
              "            + ' to learn more about interactive tables.';\n",
              "          element.innerHTML = '';\n",
              "          dataTable['output_type'] = 'display_data';\n",
              "          await google.colab.output.renderOutput(dataTable, element);\n",
              "          const docLink = document.createElement('div');\n",
              "          docLink.innerHTML = docLinkHtml;\n",
              "          element.appendChild(docLink);\n",
              "        }\n",
              "      </script>\n",
              "    </div>\n",
              "  </div>\n",
              "  "
            ]
          },
          "metadata": {},
          "execution_count": 307
        }
      ]
    },
    {
      "cell_type": "code",
      "source": [
        "df.dtypes"
      ],
      "metadata": {
        "id": "K4X7eUmyiphb",
        "outputId": "cdd25167-993d-474f-fd6b-68dfd3690f87",
        "colab": {
          "base_uri": "https://localhost:8080/"
        }
      },
      "execution_count": 308,
      "outputs": [
        {
          "output_type": "execute_result",
          "data": {
            "text/plain": [
              "id                int64\n",
              "author           object\n",
              "gender           object\n",
              "health           object\n",
              "control          object\n",
              "intervention     object\n",
              "marker           object\n",
              "age              object\n",
              "timepoint        object\n",
              "outcome_unit     object\n",
              "n               float64\n",
              "mean            float64\n",
              "sd              float64\n",
              "se              float64\n",
              "min             float64\n",
              "max             float64\n",
              "median           object\n",
              "t_score         float64\n",
              "dtype: object"
            ]
          },
          "metadata": {},
          "execution_count": 308
        }
      ]
    },
    {
      "cell_type": "markdown",
      "source": [
        "## Simulation\n",
        "\n",
        "- `value`: From normal distribution based on mean and standard deviation\n",
        "- `gender`: From normal distribution where not specified"
      ],
      "metadata": {
        "id": "x23QvHzEx3iA"
      }
    },
    {
      "cell_type": "code",
      "source": [
        "simulated = []\n",
        "for i, r in df.iterrows():\n",
        "  if np.isnan(r.n):\n",
        "    continue\n",
        "  for j in range(int(r.n)):\n",
        "    if r.gender == 'M':\n",
        "      gender = 'M'\n",
        "    elif r.gender == 'F':\n",
        "      gender = 'F'\n",
        "    else: # MF, NA and others, are random\n",
        "      gender = np.random.choice(['M', 'F'])\n",
        "    d = {\n",
        "      'author' : r.author,\n",
        "      'gender' : gender,\n",
        "      'health' : r.health,\n",
        "      'control' : r.control,\n",
        "      'intervention' : r.intervention,\n",
        "      'marker' : r.marker,\n",
        "      'age' : r.age,\n",
        "      'timepoint' : r.timepoint,\n",
        "      'outcome_unit' : r.outcome_unit,\n",
        "      'value' : np.random.normal(r['mean'], r['sd'], 1)[0],\n",
        "      't_score' : r.t_score\n",
        "    }\n",
        "    simulated.append(d)\n",
        "df_simulated = pd.DataFrame(simulated)"
      ],
      "metadata": {
        "id": "73WDvkcTeZvb"
      },
      "execution_count": 309,
      "outputs": []
    },
    {
      "cell_type": "markdown",
      "source": [
        "## Preprocessing age"
      ],
      "metadata": {
        "id": "nLEH-E_byR_W"
      }
    },
    {
      "cell_type": "code",
      "source": [
        "df_simulated.age.unique()"
      ],
      "metadata": {
        "id": "gAKIyUhOjdHh",
        "outputId": "88188990-ea62-4bf5-d7fd-312230d55db4",
        "colab": {
          "base_uri": "https://localhost:8080/"
        }
      },
      "execution_count": 310,
      "outputs": [
        {
          "output_type": "execute_result",
          "data": {
            "text/plain": [
              "array(['8.23 y ± 3.19', '1 y', '2 y', '3 y', '4 y', '5 y', '6 y', '7 y',\n",
              "       '8 y', '9 y', '10 y', '11 y', '12 y', '13 y', '14 y', '15 y',\n",
              "       '16 y', '17 y', '58 y', '4.4 y ± 1.8', '5.30 y ±1.5',\n",
              "       '4.20 y ±1.1', '4  y', '9m-13 y ', '7.0 y (5.0 – 11.0) ', '8.6 y',\n",
              "       '8.86  y ± 3.90 ', '1.4 - 17.5 y ', '42 y', '40 y', '0 y',\n",
              "       '2-15 y (mean 7.5, SD 3.7)', '9.4 y', '6.9 y', '18.5 y', '5-17 y',\n",
              "       '<4'], dtype=object)"
            ]
          },
          "metadata": {},
          "execution_count": 310
        }
      ]
    },
    {
      "cell_type": "code",
      "source": [
        "df_simulated.age = df_simulated.age.str.replace('y', '')\n",
        "df_simulated.age = df_simulated.age.str.replace(' ', '')\n",
        "df_simulated.age.unique()"
      ],
      "metadata": {
        "id": "k4CpqiVzjkeY",
        "outputId": "ff7ef78c-53d2-4cc2-f064-6c9fd16ee138",
        "colab": {
          "base_uri": "https://localhost:8080/"
        }
      },
      "execution_count": 311,
      "outputs": [
        {
          "output_type": "execute_result",
          "data": {
            "text/plain": [
              "array(['8.23±3.19', '1', '2', '3', '4', '5', '6', '7', '8', '9', '10',\n",
              "       '11', '12', '13', '14', '15', '16', '17', '58', '4.4±1.8',\n",
              "       '5.30±1.5', '4.20±1.1', '9m-13', '7.0(5.0–11.0)', '8.6',\n",
              "       '8.86±3.90', '1.4-17.5', '42', '40', '0', '2-15(mean7.5,SD3.7)',\n",
              "       '9.4', '6.9', '18.5', '5-17', '<4'], dtype=object)"
            ]
          },
          "metadata": {},
          "execution_count": 311
        }
      ]
    },
    {
      "cell_type": "code",
      "source": [
        "t = df_simulated[df_simulated.age.str.contains('±')]\n",
        "t = t.age.str.split('±')\n",
        "t"
      ],
      "metadata": {
        "id": "9fi8znBDj9BO",
        "outputId": "ceec02a7-9a9e-4e45-a3d1-60d8d8339515",
        "colab": {
          "base_uri": "https://localhost:8080/"
        }
      },
      "execution_count": 312,
      "outputs": [
        {
          "output_type": "execute_result",
          "data": {
            "text/plain": [
              "0       [8.23, 3.19]\n",
              "1       [8.23, 3.19]\n",
              "2       [8.23, 3.19]\n",
              "3       [8.23, 3.19]\n",
              "4       [8.23, 3.19]\n",
              "            ...     \n",
              "1104    [8.86, 3.90]\n",
              "1105    [8.86, 3.90]\n",
              "1106    [8.86, 3.90]\n",
              "1107    [8.86, 3.90]\n",
              "1108    [8.86, 3.90]\n",
              "Name: age, Length: 75, dtype: object"
            ]
          },
          "metadata": {},
          "execution_count": 312
        }
      ]
    },
    {
      "cell_type": "code",
      "source": [
        "# [ ] From normal distribution?\n",
        "for i in t.iteritems():\n",
        "  indice = i[0]\n",
        "  mu = float(i[1][0])\n",
        "  sigma = float(i[1][1])\n",
        "  t[i[0]] = round(np.random.normal(mu, sigma, 1)[0])\n",
        "t"
      ],
      "metadata": {
        "id": "CckHsjhVkuQh",
        "outputId": "cdac222b-a6d3-4feb-e08e-1dda3cfba6f4",
        "colab": {
          "base_uri": "https://localhost:8080/"
        }
      },
      "execution_count": 313,
      "outputs": [
        {
          "output_type": "execute_result",
          "data": {
            "text/plain": [
              "0       11\n",
              "1        8\n",
              "2       10\n",
              "3        7\n",
              "4        7\n",
              "        ..\n",
              "1104    15\n",
              "1105     8\n",
              "1106     9\n",
              "1107     4\n",
              "1108    13\n",
              "Name: age, Length: 75, dtype: object"
            ]
          },
          "metadata": {},
          "execution_count": 313
        }
      ]
    },
    {
      "cell_type": "code",
      "source": [
        "df_simulated.loc[t.index, 'age'] = t\n",
        "df_simulated"
      ],
      "metadata": {
        "id": "M7AzcLL9keUw",
        "outputId": "71e29a13-e7be-4df4-fb9a-e385df8be927",
        "colab": {
          "base_uri": "https://localhost:8080/",
          "height": 424
        }
      },
      "execution_count": 314,
      "outputs": [
        {
          "output_type": "execute_result",
          "data": {
            "text/plain": [
              "                     author gender            health            control  \\\n",
              "0     Brunetti et al., 2016      M  Health age match                NaN   \n",
              "1     Brunetti et al., 2016      F  Health age match                NaN   \n",
              "2     Brunetti et al., 2016      F  Health age match                NaN   \n",
              "3     Brunetti et al., 2016      M  Health age match                NaN   \n",
              "4     Brunetti et al., 2016      M  Health age match                NaN   \n",
              "...                     ...    ...               ...                ...   \n",
              "1191   Pressac et al., 2002      F        I, III, IV  yes, ref control?   \n",
              "1192   Pressac et al., 2002      F        I, III, IV  yes, ref control?   \n",
              "1193   Pressac et al., 2002      M        I, III, IV  yes, ref control?   \n",
              "1194   Pressac et al., 2002      F        I, III, IV  yes, ref control?   \n",
              "1195   Pressac et al., 2002      F        I, III, IV  yes, ref control?   \n",
              "\n",
              "     intervention marker age     timepoint outcome_unit     value   t_score  \n",
              "0               x  sCTX5  11  no treatment        ng/ml  1.743813       NaN  \n",
              "1               x  sCTX5   8  no treatment        ng/ml  1.002854       NaN  \n",
              "2               x  sCTX5  10  no treatment        ng/ml  1.527691       NaN  \n",
              "3               x  sCTX5   7  no treatment        ng/ml  1.133160       NaN  \n",
              "4               x  sCTX5   7  no treatment        ng/ml  1.960783       NaN  \n",
              "...           ...    ...  ..           ...          ...       ...       ...  \n",
              "1191            x   uCTX  <4  pretreatment      T-score       NaN -0.995935  \n",
              "1192            x   uCTX  <4  pretreatment      T-score       NaN -0.569106  \n",
              "1193            x   uCTX  <4  pretreatment      T-score       NaN  0.426829  \n",
              "1194            x   uCTX  <4  pretreatment      T-score       NaN  3.794038  \n",
              "1195            x   uCTX  <4  pretreatment      T-score       NaN  5.216802  \n",
              "\n",
              "[1196 rows x 11 columns]"
            ],
            "text/html": [
              "\n",
              "  <div id=\"df-9698ed46-f35d-4615-8349-a4506a5f806b\">\n",
              "    <div class=\"colab-df-container\">\n",
              "      <div>\n",
              "<style scoped>\n",
              "    .dataframe tbody tr th:only-of-type {\n",
              "        vertical-align: middle;\n",
              "    }\n",
              "\n",
              "    .dataframe tbody tr th {\n",
              "        vertical-align: top;\n",
              "    }\n",
              "\n",
              "    .dataframe thead th {\n",
              "        text-align: right;\n",
              "    }\n",
              "</style>\n",
              "<table border=\"1\" class=\"dataframe\">\n",
              "  <thead>\n",
              "    <tr style=\"text-align: right;\">\n",
              "      <th></th>\n",
              "      <th>author</th>\n",
              "      <th>gender</th>\n",
              "      <th>health</th>\n",
              "      <th>control</th>\n",
              "      <th>intervention</th>\n",
              "      <th>marker</th>\n",
              "      <th>age</th>\n",
              "      <th>timepoint</th>\n",
              "      <th>outcome_unit</th>\n",
              "      <th>value</th>\n",
              "      <th>t_score</th>\n",
              "    </tr>\n",
              "  </thead>\n",
              "  <tbody>\n",
              "    <tr>\n",
              "      <th>0</th>\n",
              "      <td>Brunetti et al., 2016</td>\n",
              "      <td>M</td>\n",
              "      <td>Health age match</td>\n",
              "      <td>NaN</td>\n",
              "      <td>x</td>\n",
              "      <td>sCTX5</td>\n",
              "      <td>11</td>\n",
              "      <td>no treatment</td>\n",
              "      <td>ng/ml</td>\n",
              "      <td>1.743813</td>\n",
              "      <td>NaN</td>\n",
              "    </tr>\n",
              "    <tr>\n",
              "      <th>1</th>\n",
              "      <td>Brunetti et al., 2016</td>\n",
              "      <td>F</td>\n",
              "      <td>Health age match</td>\n",
              "      <td>NaN</td>\n",
              "      <td>x</td>\n",
              "      <td>sCTX5</td>\n",
              "      <td>8</td>\n",
              "      <td>no treatment</td>\n",
              "      <td>ng/ml</td>\n",
              "      <td>1.002854</td>\n",
              "      <td>NaN</td>\n",
              "    </tr>\n",
              "    <tr>\n",
              "      <th>2</th>\n",
              "      <td>Brunetti et al., 2016</td>\n",
              "      <td>F</td>\n",
              "      <td>Health age match</td>\n",
              "      <td>NaN</td>\n",
              "      <td>x</td>\n",
              "      <td>sCTX5</td>\n",
              "      <td>10</td>\n",
              "      <td>no treatment</td>\n",
              "      <td>ng/ml</td>\n",
              "      <td>1.527691</td>\n",
              "      <td>NaN</td>\n",
              "    </tr>\n",
              "    <tr>\n",
              "      <th>3</th>\n",
              "      <td>Brunetti et al., 2016</td>\n",
              "      <td>M</td>\n",
              "      <td>Health age match</td>\n",
              "      <td>NaN</td>\n",
              "      <td>x</td>\n",
              "      <td>sCTX5</td>\n",
              "      <td>7</td>\n",
              "      <td>no treatment</td>\n",
              "      <td>ng/ml</td>\n",
              "      <td>1.133160</td>\n",
              "      <td>NaN</td>\n",
              "    </tr>\n",
              "    <tr>\n",
              "      <th>4</th>\n",
              "      <td>Brunetti et al., 2016</td>\n",
              "      <td>M</td>\n",
              "      <td>Health age match</td>\n",
              "      <td>NaN</td>\n",
              "      <td>x</td>\n",
              "      <td>sCTX5</td>\n",
              "      <td>7</td>\n",
              "      <td>no treatment</td>\n",
              "      <td>ng/ml</td>\n",
              "      <td>1.960783</td>\n",
              "      <td>NaN</td>\n",
              "    </tr>\n",
              "    <tr>\n",
              "      <th>...</th>\n",
              "      <td>...</td>\n",
              "      <td>...</td>\n",
              "      <td>...</td>\n",
              "      <td>...</td>\n",
              "      <td>...</td>\n",
              "      <td>...</td>\n",
              "      <td>...</td>\n",
              "      <td>...</td>\n",
              "      <td>...</td>\n",
              "      <td>...</td>\n",
              "      <td>...</td>\n",
              "    </tr>\n",
              "    <tr>\n",
              "      <th>1191</th>\n",
              "      <td>Pressac et al., 2002</td>\n",
              "      <td>F</td>\n",
              "      <td>I, III, IV</td>\n",
              "      <td>yes, ref control?</td>\n",
              "      <td>x</td>\n",
              "      <td>uCTX</td>\n",
              "      <td>&lt;4</td>\n",
              "      <td>pretreatment</td>\n",
              "      <td>T-score</td>\n",
              "      <td>NaN</td>\n",
              "      <td>-0.995935</td>\n",
              "    </tr>\n",
              "    <tr>\n",
              "      <th>1192</th>\n",
              "      <td>Pressac et al., 2002</td>\n",
              "      <td>F</td>\n",
              "      <td>I, III, IV</td>\n",
              "      <td>yes, ref control?</td>\n",
              "      <td>x</td>\n",
              "      <td>uCTX</td>\n",
              "      <td>&lt;4</td>\n",
              "      <td>pretreatment</td>\n",
              "      <td>T-score</td>\n",
              "      <td>NaN</td>\n",
              "      <td>-0.569106</td>\n",
              "    </tr>\n",
              "    <tr>\n",
              "      <th>1193</th>\n",
              "      <td>Pressac et al., 2002</td>\n",
              "      <td>M</td>\n",
              "      <td>I, III, IV</td>\n",
              "      <td>yes, ref control?</td>\n",
              "      <td>x</td>\n",
              "      <td>uCTX</td>\n",
              "      <td>&lt;4</td>\n",
              "      <td>pretreatment</td>\n",
              "      <td>T-score</td>\n",
              "      <td>NaN</td>\n",
              "      <td>0.426829</td>\n",
              "    </tr>\n",
              "    <tr>\n",
              "      <th>1194</th>\n",
              "      <td>Pressac et al., 2002</td>\n",
              "      <td>F</td>\n",
              "      <td>I, III, IV</td>\n",
              "      <td>yes, ref control?</td>\n",
              "      <td>x</td>\n",
              "      <td>uCTX</td>\n",
              "      <td>&lt;4</td>\n",
              "      <td>pretreatment</td>\n",
              "      <td>T-score</td>\n",
              "      <td>NaN</td>\n",
              "      <td>3.794038</td>\n",
              "    </tr>\n",
              "    <tr>\n",
              "      <th>1195</th>\n",
              "      <td>Pressac et al., 2002</td>\n",
              "      <td>F</td>\n",
              "      <td>I, III, IV</td>\n",
              "      <td>yes, ref control?</td>\n",
              "      <td>x</td>\n",
              "      <td>uCTX</td>\n",
              "      <td>&lt;4</td>\n",
              "      <td>pretreatment</td>\n",
              "      <td>T-score</td>\n",
              "      <td>NaN</td>\n",
              "      <td>5.216802</td>\n",
              "    </tr>\n",
              "  </tbody>\n",
              "</table>\n",
              "<p>1196 rows × 11 columns</p>\n",
              "</div>\n",
              "      <button class=\"colab-df-convert\" onclick=\"convertToInteractive('df-9698ed46-f35d-4615-8349-a4506a5f806b')\"\n",
              "              title=\"Convert this dataframe to an interactive table.\"\n",
              "              style=\"display:none;\">\n",
              "        \n",
              "  <svg xmlns=\"http://www.w3.org/2000/svg\" height=\"24px\"viewBox=\"0 0 24 24\"\n",
              "       width=\"24px\">\n",
              "    <path d=\"M0 0h24v24H0V0z\" fill=\"none\"/>\n",
              "    <path d=\"M18.56 5.44l.94 2.06.94-2.06 2.06-.94-2.06-.94-.94-2.06-.94 2.06-2.06.94zm-11 1L8.5 8.5l.94-2.06 2.06-.94-2.06-.94L8.5 2.5l-.94 2.06-2.06.94zm10 10l.94 2.06.94-2.06 2.06-.94-2.06-.94-.94-2.06-.94 2.06-2.06.94z\"/><path d=\"M17.41 7.96l-1.37-1.37c-.4-.4-.92-.59-1.43-.59-.52 0-1.04.2-1.43.59L10.3 9.45l-7.72 7.72c-.78.78-.78 2.05 0 2.83L4 21.41c.39.39.9.59 1.41.59.51 0 1.02-.2 1.41-.59l7.78-7.78 2.81-2.81c.8-.78.8-2.07 0-2.86zM5.41 20L4 18.59l7.72-7.72 1.47 1.35L5.41 20z\"/>\n",
              "  </svg>\n",
              "      </button>\n",
              "      \n",
              "  <style>\n",
              "    .colab-df-container {\n",
              "      display:flex;\n",
              "      flex-wrap:wrap;\n",
              "      gap: 12px;\n",
              "    }\n",
              "\n",
              "    .colab-df-convert {\n",
              "      background-color: #E8F0FE;\n",
              "      border: none;\n",
              "      border-radius: 50%;\n",
              "      cursor: pointer;\n",
              "      display: none;\n",
              "      fill: #1967D2;\n",
              "      height: 32px;\n",
              "      padding: 0 0 0 0;\n",
              "      width: 32px;\n",
              "    }\n",
              "\n",
              "    .colab-df-convert:hover {\n",
              "      background-color: #E2EBFA;\n",
              "      box-shadow: 0px 1px 2px rgba(60, 64, 67, 0.3), 0px 1px 3px 1px rgba(60, 64, 67, 0.15);\n",
              "      fill: #174EA6;\n",
              "    }\n",
              "\n",
              "    [theme=dark] .colab-df-convert {\n",
              "      background-color: #3B4455;\n",
              "      fill: #D2E3FC;\n",
              "    }\n",
              "\n",
              "    [theme=dark] .colab-df-convert:hover {\n",
              "      background-color: #434B5C;\n",
              "      box-shadow: 0px 1px 3px 1px rgba(0, 0, 0, 0.15);\n",
              "      filter: drop-shadow(0px 1px 2px rgba(0, 0, 0, 0.3));\n",
              "      fill: #FFFFFF;\n",
              "    }\n",
              "  </style>\n",
              "\n",
              "      <script>\n",
              "        const buttonEl =\n",
              "          document.querySelector('#df-9698ed46-f35d-4615-8349-a4506a5f806b button.colab-df-convert');\n",
              "        buttonEl.style.display =\n",
              "          google.colab.kernel.accessAllowed ? 'block' : 'none';\n",
              "\n",
              "        async function convertToInteractive(key) {\n",
              "          const element = document.querySelector('#df-9698ed46-f35d-4615-8349-a4506a5f806b');\n",
              "          const dataTable =\n",
              "            await google.colab.kernel.invokeFunction('convertToInteractive',\n",
              "                                                     [key], {});\n",
              "          if (!dataTable) return;\n",
              "\n",
              "          const docLinkHtml = 'Like what you see? Visit the ' +\n",
              "            '<a target=\"_blank\" href=https://colab.research.google.com/notebooks/data_table.ipynb>data table notebook</a>'\n",
              "            + ' to learn more about interactive tables.';\n",
              "          element.innerHTML = '';\n",
              "          dataTable['output_type'] = 'display_data';\n",
              "          await google.colab.output.renderOutput(dataTable, element);\n",
              "          const docLink = document.createElement('div');\n",
              "          docLink.innerHTML = docLinkHtml;\n",
              "          element.appendChild(docLink);\n",
              "        }\n",
              "      </script>\n",
              "    </div>\n",
              "  </div>\n",
              "  "
            ]
          },
          "metadata": {},
          "execution_count": 314
        }
      ]
    },
    {
      "cell_type": "code",
      "source": [
        "df_simulated.age.unique()"
      ],
      "metadata": {
        "id": "opamAAuomcvy",
        "outputId": "6d1d426e-fe86-4e8e-d6d0-26d9356b1732",
        "colab": {
          "base_uri": "https://localhost:8080/"
        }
      },
      "execution_count": 315,
      "outputs": [
        {
          "output_type": "execute_result",
          "data": {
            "text/plain": [
              "array([11, 8, 10, 7, 6, 4, 12, 16, 2, 5, 13, 3, '1', '2', '3', '4', '5',\n",
              "       '6', '7', '8', '9', '10', '11', '12', '13', '14', '15', '16', '17',\n",
              "       '58', '9m-13', '7.0(5.0–11.0)', '8.6', 1, 9, 15, '1.4-17.5', '42',\n",
              "       '40', '0', '2-15(mean7.5,SD3.7)', '9.4', '6.9', '18.5', '5-17',\n",
              "       '<4'], dtype=object)"
            ]
          },
          "metadata": {},
          "execution_count": 315
        }
      ]
    },
    {
      "cell_type": "code",
      "source": [
        "t = df_simulated[df_simulated.age == '7.0(5.0–11.0)']\n",
        "for i in t.iteritems():\n",
        "  # [ ] 5 <= age , 12 ? \n",
        "  t[i[0]] = np.random.randint(5, 12)\n",
        "df_simulated.loc[t.index, 'age'] = t\n",
        "df_simulated.age.unique()"
      ],
      "metadata": {
        "id": "40UtYW1InZCt",
        "outputId": "4b7f8de6-39ab-44a9-d2ee-ff5b3fa479a0",
        "colab": {
          "base_uri": "https://localhost:8080/"
        }
      },
      "execution_count": 316,
      "outputs": [
        {
          "output_type": "execute_result",
          "data": {
            "text/plain": [
              "array([11, 8, 10, 7, 6, 4, 12, 16, 2, 5, 13, 3, '1', '2', '3', '4', '5',\n",
              "       '6', '7', '8', '9', '10', '11', '12', '13', '14', '15', '16', '17',\n",
              "       '58', '9m-13', '8.6', 1, 9, 15, '1.4-17.5', '42', '40', '0',\n",
              "       '2-15(mean7.5,SD3.7)', '9.4', '6.9', '18.5', '5-17', '<4'],\n",
              "      dtype=object)"
            ]
          },
          "metadata": {},
          "execution_count": 316
        }
      ]
    },
    {
      "cell_type": "code",
      "source": [
        "17.5 - 1.4"
      ],
      "metadata": {
        "id": "1JtrN_GXoZxm",
        "outputId": "7bdfa978-43a4-444c-f4bb-899f987a5647",
        "colab": {
          "base_uri": "https://localhost:8080/"
        }
      },
      "execution_count": 317,
      "outputs": [
        {
          "output_type": "execute_result",
          "data": {
            "text/plain": [
              "16.1"
            ]
          },
          "metadata": {},
          "execution_count": 317
        }
      ]
    },
    {
      "cell_type": "code",
      "source": [
        "t = df_simulated[df_simulated.age == '1.4-17.5']\n",
        "for i in t.iteritems():\n",
        "  t[i[0]] = round(np.random.rand(1)[0] * 16.1 + 1.4, 1)\n",
        "df_simulated.loc[t.index, 'age'] = t\n",
        "df_simulated.age.unique()"
      ],
      "metadata": {
        "id": "55Pffj3Hn85s",
        "outputId": "f26a0d36-04ee-4e5c-9362-9489ee8270c8",
        "colab": {
          "base_uri": "https://localhost:8080/"
        }
      },
      "execution_count": 318,
      "outputs": [
        {
          "output_type": "execute_result",
          "data": {
            "text/plain": [
              "array([11, 8, 10, 7, 6, 4, 12, 16, 2, 5, 13, 3, '1', '2', '3', '4', '5',\n",
              "       '6', '7', '8', '9', '10', '11', '12', '13', '14', '15', '16', '17',\n",
              "       '58', '9m-13', '8.6', 1, 9, 15, 4.6, '42', '40', '0',\n",
              "       '2-15(mean7.5,SD3.7)', '9.4', '6.9', '18.5', '5-17', '<4'],\n",
              "      dtype=object)"
            ]
          },
          "metadata": {},
          "execution_count": 318
        }
      ]
    },
    {
      "cell_type": "code",
      "source": [
        "t = df_simulated[df_simulated.age == '2-15(mean7.5,SD3.7)']\n",
        "for i in t.iteritems():\n",
        "  t[i[0]] = round(np.random.normal(7.5, 3.7, 1)[0])\n",
        "df_simulated.loc[t.index, 'age'] = t\n",
        "df_simulated.age.unique()"
      ],
      "metadata": {
        "id": "u9ki_wAboy5T",
        "outputId": "18c555f5-3cc0-4592-b022-5ec1bd20cf0c",
        "colab": {
          "base_uri": "https://localhost:8080/"
        }
      },
      "execution_count": 319,
      "outputs": [
        {
          "output_type": "execute_result",
          "data": {
            "text/plain": [
              "array([11, 8, 10, 7, 6, 4, 12, 16, 2, 5, 13, 3, '1', '2', '3', '4', '5',\n",
              "       '6', '7', '8', '9', '10', '11', '12', '13', '14', '15', '16', '17',\n",
              "       '58', '9m-13', '8.6', 1, 9, 15, 4.6, '42', '40', '0', '9.4', '6.9',\n",
              "       '18.5', '5-17', '<4'], dtype=object)"
            ]
          },
          "metadata": {},
          "execution_count": 319
        }
      ]
    },
    {
      "cell_type": "code",
      "source": [
        "t = df_simulated[df_simulated.age == '5-17']\n",
        "for i in t.iteritems():\n",
        "  t[i[0]] = np.random.randint(5, 18)\n",
        "df_simulated.loc[t.index, 'age'] = t\n",
        "df_simulated.age.unique()"
      ],
      "metadata": {
        "id": "JrLQ1VVIo6TO",
        "outputId": "cf27f955-205a-44b3-bf5d-b650f26decf4",
        "colab": {
          "base_uri": "https://localhost:8080/"
        }
      },
      "execution_count": 320,
      "outputs": [
        {
          "output_type": "execute_result",
          "data": {
            "text/plain": [
              "array([11, 8, 10, 7, 6, 4, 12, 16, 2, 5, 13, 3, '1', '2', '3', '4', '5',\n",
              "       '6', '7', '8', '9', '10', '11', '12', '13', '14', '15', '16', '17',\n",
              "       '58', '9m-13', '8.6', 1, 9, 15, 4.6, '42', '40', '0', '9.4', '6.9',\n",
              "       '18.5', '<4'], dtype=object)"
            ]
          },
          "metadata": {},
          "execution_count": 320
        }
      ]
    },
    {
      "cell_type": "code",
      "source": [
        "9 / 12"
      ],
      "metadata": {
        "id": "j-TSDkZdpGAI",
        "outputId": "d69650d6-0353-4f84-bb9f-774dbea043ec",
        "colab": {
          "base_uri": "https://localhost:8080/"
        }
      },
      "execution_count": 321,
      "outputs": [
        {
          "output_type": "execute_result",
          "data": {
            "text/plain": [
              "0.75"
            ]
          },
          "metadata": {},
          "execution_count": 321
        }
      ]
    },
    {
      "cell_type": "code",
      "source": [
        "13 - 0.75"
      ],
      "metadata": {
        "id": "Gv1uCsczpMFg",
        "outputId": "9ea34eba-c2a9-4ebc-bdcc-74be33a9b031",
        "colab": {
          "base_uri": "https://localhost:8080/"
        }
      },
      "execution_count": 322,
      "outputs": [
        {
          "output_type": "execute_result",
          "data": {
            "text/plain": [
              "12.25"
            ]
          },
          "metadata": {},
          "execution_count": 322
        }
      ]
    },
    {
      "cell_type": "code",
      "source": [
        "# [ ] Are this months?\n",
        "t = df_simulated[df_simulated.age == '9m-13']\n",
        "for i in t.iteritems():\n",
        "  t[i[0]] = round(np.random.rand(1)[0] * 12.25 + 0.75, 1)\n",
        "df_simulated.loc[t.index, 'age'] = t\n",
        "df_simulated.age.unique()"
      ],
      "metadata": {
        "id": "MuxyatxEpDnr",
        "outputId": "d8343de3-3c2f-4d9c-f9b2-a0f0e0066204",
        "colab": {
          "base_uri": "https://localhost:8080/"
        }
      },
      "execution_count": 323,
      "outputs": [
        {
          "output_type": "execute_result",
          "data": {
            "text/plain": [
              "array([11, 8, 10, 7, 6, 4, 12, 16, 2, 5, 13, 3, '1', '2', '3', '4', '5',\n",
              "       '6', '7', '8', '9', '10', '11', '12', '13', '14', '15', '16', '17',\n",
              "       '58', 0.8, '8.6', 1, 9, 15, 4.6, '42', '40', '0', '9.4', '6.9',\n",
              "       '18.5', '<4'], dtype=object)"
            ]
          },
          "metadata": {},
          "execution_count": 323
        }
      ]
    },
    {
      "cell_type": "code",
      "source": [
        "# [ ] I'm supposing this are years 😬\n",
        "t = df_simulated[df_simulated.age == '<4']\n",
        "for i in t.iteritems():\n",
        "  t[i[0]] = round(np.random.rand(1)[0] * 4, 1)\n",
        "df_simulated.loc[t.index, 'age'] = t\n",
        "df_simulated.age.unique()"
      ],
      "metadata": {
        "id": "_M6NMu_xpU3Q",
        "outputId": "346a6a38-3266-4fd9-b38a-00699efd7c9a",
        "colab": {
          "base_uri": "https://localhost:8080/"
        }
      },
      "execution_count": 324,
      "outputs": [
        {
          "output_type": "execute_result",
          "data": {
            "text/plain": [
              "array([11, 8, 10, 7, 6, 4, 12, 16, 2, 5, 13, 3, '1', '2', '3', '4', '5',\n",
              "       '6', '7', '8', '9', '10', '11', '12', '13', '14', '15', '16', '17',\n",
              "       '58', 0.8, '8.6', 1, 9, 15, 4.6, '42', '40', '0', '9.4', '6.9',\n",
              "       '18.5', 3.6], dtype=object)"
            ]
          },
          "metadata": {},
          "execution_count": 324
        }
      ]
    },
    {
      "cell_type": "code",
      "source": [
        "df_simulated.age = df_simulated.age.astype('float')"
      ],
      "metadata": {
        "id": "BnD6tEvmwAE3"
      },
      "execution_count": 325,
      "outputs": []
    },
    {
      "cell_type": "code",
      "source": [
        "df_simulated"
      ],
      "metadata": {
        "id": "zGTO-iEdpf-O",
        "outputId": "0f12569c-bcde-484d-ba18-2c20388ecfa3",
        "colab": {
          "base_uri": "https://localhost:8080/",
          "height": 424
        }
      },
      "execution_count": 326,
      "outputs": [
        {
          "output_type": "execute_result",
          "data": {
            "text/plain": [
              "                     author gender            health            control  \\\n",
              "0     Brunetti et al., 2016      M  Health age match                NaN   \n",
              "1     Brunetti et al., 2016      F  Health age match                NaN   \n",
              "2     Brunetti et al., 2016      F  Health age match                NaN   \n",
              "3     Brunetti et al., 2016      M  Health age match                NaN   \n",
              "4     Brunetti et al., 2016      M  Health age match                NaN   \n",
              "...                     ...    ...               ...                ...   \n",
              "1191   Pressac et al., 2002      F        I, III, IV  yes, ref control?   \n",
              "1192   Pressac et al., 2002      F        I, III, IV  yes, ref control?   \n",
              "1193   Pressac et al., 2002      M        I, III, IV  yes, ref control?   \n",
              "1194   Pressac et al., 2002      F        I, III, IV  yes, ref control?   \n",
              "1195   Pressac et al., 2002      F        I, III, IV  yes, ref control?   \n",
              "\n",
              "     intervention marker   age     timepoint outcome_unit     value   t_score  \n",
              "0               x  sCTX5  11.0  no treatment        ng/ml  1.743813       NaN  \n",
              "1               x  sCTX5   8.0  no treatment        ng/ml  1.002854       NaN  \n",
              "2               x  sCTX5  10.0  no treatment        ng/ml  1.527691       NaN  \n",
              "3               x  sCTX5   7.0  no treatment        ng/ml  1.133160       NaN  \n",
              "4               x  sCTX5   7.0  no treatment        ng/ml  1.960783       NaN  \n",
              "...           ...    ...   ...           ...          ...       ...       ...  \n",
              "1191            x   uCTX   3.6  pretreatment      T-score       NaN -0.995935  \n",
              "1192            x   uCTX   3.6  pretreatment      T-score       NaN -0.569106  \n",
              "1193            x   uCTX   3.6  pretreatment      T-score       NaN  0.426829  \n",
              "1194            x   uCTX   3.6  pretreatment      T-score       NaN  3.794038  \n",
              "1195            x   uCTX   3.6  pretreatment      T-score       NaN  5.216802  \n",
              "\n",
              "[1196 rows x 11 columns]"
            ],
            "text/html": [
              "\n",
              "  <div id=\"df-e5feaa0b-7f2e-4867-bc7c-d03b3dd22e69\">\n",
              "    <div class=\"colab-df-container\">\n",
              "      <div>\n",
              "<style scoped>\n",
              "    .dataframe tbody tr th:only-of-type {\n",
              "        vertical-align: middle;\n",
              "    }\n",
              "\n",
              "    .dataframe tbody tr th {\n",
              "        vertical-align: top;\n",
              "    }\n",
              "\n",
              "    .dataframe thead th {\n",
              "        text-align: right;\n",
              "    }\n",
              "</style>\n",
              "<table border=\"1\" class=\"dataframe\">\n",
              "  <thead>\n",
              "    <tr style=\"text-align: right;\">\n",
              "      <th></th>\n",
              "      <th>author</th>\n",
              "      <th>gender</th>\n",
              "      <th>health</th>\n",
              "      <th>control</th>\n",
              "      <th>intervention</th>\n",
              "      <th>marker</th>\n",
              "      <th>age</th>\n",
              "      <th>timepoint</th>\n",
              "      <th>outcome_unit</th>\n",
              "      <th>value</th>\n",
              "      <th>t_score</th>\n",
              "    </tr>\n",
              "  </thead>\n",
              "  <tbody>\n",
              "    <tr>\n",
              "      <th>0</th>\n",
              "      <td>Brunetti et al., 2016</td>\n",
              "      <td>M</td>\n",
              "      <td>Health age match</td>\n",
              "      <td>NaN</td>\n",
              "      <td>x</td>\n",
              "      <td>sCTX5</td>\n",
              "      <td>11.0</td>\n",
              "      <td>no treatment</td>\n",
              "      <td>ng/ml</td>\n",
              "      <td>1.743813</td>\n",
              "      <td>NaN</td>\n",
              "    </tr>\n",
              "    <tr>\n",
              "      <th>1</th>\n",
              "      <td>Brunetti et al., 2016</td>\n",
              "      <td>F</td>\n",
              "      <td>Health age match</td>\n",
              "      <td>NaN</td>\n",
              "      <td>x</td>\n",
              "      <td>sCTX5</td>\n",
              "      <td>8.0</td>\n",
              "      <td>no treatment</td>\n",
              "      <td>ng/ml</td>\n",
              "      <td>1.002854</td>\n",
              "      <td>NaN</td>\n",
              "    </tr>\n",
              "    <tr>\n",
              "      <th>2</th>\n",
              "      <td>Brunetti et al., 2016</td>\n",
              "      <td>F</td>\n",
              "      <td>Health age match</td>\n",
              "      <td>NaN</td>\n",
              "      <td>x</td>\n",
              "      <td>sCTX5</td>\n",
              "      <td>10.0</td>\n",
              "      <td>no treatment</td>\n",
              "      <td>ng/ml</td>\n",
              "      <td>1.527691</td>\n",
              "      <td>NaN</td>\n",
              "    </tr>\n",
              "    <tr>\n",
              "      <th>3</th>\n",
              "      <td>Brunetti et al., 2016</td>\n",
              "      <td>M</td>\n",
              "      <td>Health age match</td>\n",
              "      <td>NaN</td>\n",
              "      <td>x</td>\n",
              "      <td>sCTX5</td>\n",
              "      <td>7.0</td>\n",
              "      <td>no treatment</td>\n",
              "      <td>ng/ml</td>\n",
              "      <td>1.133160</td>\n",
              "      <td>NaN</td>\n",
              "    </tr>\n",
              "    <tr>\n",
              "      <th>4</th>\n",
              "      <td>Brunetti et al., 2016</td>\n",
              "      <td>M</td>\n",
              "      <td>Health age match</td>\n",
              "      <td>NaN</td>\n",
              "      <td>x</td>\n",
              "      <td>sCTX5</td>\n",
              "      <td>7.0</td>\n",
              "      <td>no treatment</td>\n",
              "      <td>ng/ml</td>\n",
              "      <td>1.960783</td>\n",
              "      <td>NaN</td>\n",
              "    </tr>\n",
              "    <tr>\n",
              "      <th>...</th>\n",
              "      <td>...</td>\n",
              "      <td>...</td>\n",
              "      <td>...</td>\n",
              "      <td>...</td>\n",
              "      <td>...</td>\n",
              "      <td>...</td>\n",
              "      <td>...</td>\n",
              "      <td>...</td>\n",
              "      <td>...</td>\n",
              "      <td>...</td>\n",
              "      <td>...</td>\n",
              "    </tr>\n",
              "    <tr>\n",
              "      <th>1191</th>\n",
              "      <td>Pressac et al., 2002</td>\n",
              "      <td>F</td>\n",
              "      <td>I, III, IV</td>\n",
              "      <td>yes, ref control?</td>\n",
              "      <td>x</td>\n",
              "      <td>uCTX</td>\n",
              "      <td>3.6</td>\n",
              "      <td>pretreatment</td>\n",
              "      <td>T-score</td>\n",
              "      <td>NaN</td>\n",
              "      <td>-0.995935</td>\n",
              "    </tr>\n",
              "    <tr>\n",
              "      <th>1192</th>\n",
              "      <td>Pressac et al., 2002</td>\n",
              "      <td>F</td>\n",
              "      <td>I, III, IV</td>\n",
              "      <td>yes, ref control?</td>\n",
              "      <td>x</td>\n",
              "      <td>uCTX</td>\n",
              "      <td>3.6</td>\n",
              "      <td>pretreatment</td>\n",
              "      <td>T-score</td>\n",
              "      <td>NaN</td>\n",
              "      <td>-0.569106</td>\n",
              "    </tr>\n",
              "    <tr>\n",
              "      <th>1193</th>\n",
              "      <td>Pressac et al., 2002</td>\n",
              "      <td>M</td>\n",
              "      <td>I, III, IV</td>\n",
              "      <td>yes, ref control?</td>\n",
              "      <td>x</td>\n",
              "      <td>uCTX</td>\n",
              "      <td>3.6</td>\n",
              "      <td>pretreatment</td>\n",
              "      <td>T-score</td>\n",
              "      <td>NaN</td>\n",
              "      <td>0.426829</td>\n",
              "    </tr>\n",
              "    <tr>\n",
              "      <th>1194</th>\n",
              "      <td>Pressac et al., 2002</td>\n",
              "      <td>F</td>\n",
              "      <td>I, III, IV</td>\n",
              "      <td>yes, ref control?</td>\n",
              "      <td>x</td>\n",
              "      <td>uCTX</td>\n",
              "      <td>3.6</td>\n",
              "      <td>pretreatment</td>\n",
              "      <td>T-score</td>\n",
              "      <td>NaN</td>\n",
              "      <td>3.794038</td>\n",
              "    </tr>\n",
              "    <tr>\n",
              "      <th>1195</th>\n",
              "      <td>Pressac et al., 2002</td>\n",
              "      <td>F</td>\n",
              "      <td>I, III, IV</td>\n",
              "      <td>yes, ref control?</td>\n",
              "      <td>x</td>\n",
              "      <td>uCTX</td>\n",
              "      <td>3.6</td>\n",
              "      <td>pretreatment</td>\n",
              "      <td>T-score</td>\n",
              "      <td>NaN</td>\n",
              "      <td>5.216802</td>\n",
              "    </tr>\n",
              "  </tbody>\n",
              "</table>\n",
              "<p>1196 rows × 11 columns</p>\n",
              "</div>\n",
              "      <button class=\"colab-df-convert\" onclick=\"convertToInteractive('df-e5feaa0b-7f2e-4867-bc7c-d03b3dd22e69')\"\n",
              "              title=\"Convert this dataframe to an interactive table.\"\n",
              "              style=\"display:none;\">\n",
              "        \n",
              "  <svg xmlns=\"http://www.w3.org/2000/svg\" height=\"24px\"viewBox=\"0 0 24 24\"\n",
              "       width=\"24px\">\n",
              "    <path d=\"M0 0h24v24H0V0z\" fill=\"none\"/>\n",
              "    <path d=\"M18.56 5.44l.94 2.06.94-2.06 2.06-.94-2.06-.94-.94-2.06-.94 2.06-2.06.94zm-11 1L8.5 8.5l.94-2.06 2.06-.94-2.06-.94L8.5 2.5l-.94 2.06-2.06.94zm10 10l.94 2.06.94-2.06 2.06-.94-2.06-.94-.94-2.06-.94 2.06-2.06.94z\"/><path d=\"M17.41 7.96l-1.37-1.37c-.4-.4-.92-.59-1.43-.59-.52 0-1.04.2-1.43.59L10.3 9.45l-7.72 7.72c-.78.78-.78 2.05 0 2.83L4 21.41c.39.39.9.59 1.41.59.51 0 1.02-.2 1.41-.59l7.78-7.78 2.81-2.81c.8-.78.8-2.07 0-2.86zM5.41 20L4 18.59l7.72-7.72 1.47 1.35L5.41 20z\"/>\n",
              "  </svg>\n",
              "      </button>\n",
              "      \n",
              "  <style>\n",
              "    .colab-df-container {\n",
              "      display:flex;\n",
              "      flex-wrap:wrap;\n",
              "      gap: 12px;\n",
              "    }\n",
              "\n",
              "    .colab-df-convert {\n",
              "      background-color: #E8F0FE;\n",
              "      border: none;\n",
              "      border-radius: 50%;\n",
              "      cursor: pointer;\n",
              "      display: none;\n",
              "      fill: #1967D2;\n",
              "      height: 32px;\n",
              "      padding: 0 0 0 0;\n",
              "      width: 32px;\n",
              "    }\n",
              "\n",
              "    .colab-df-convert:hover {\n",
              "      background-color: #E2EBFA;\n",
              "      box-shadow: 0px 1px 2px rgba(60, 64, 67, 0.3), 0px 1px 3px 1px rgba(60, 64, 67, 0.15);\n",
              "      fill: #174EA6;\n",
              "    }\n",
              "\n",
              "    [theme=dark] .colab-df-convert {\n",
              "      background-color: #3B4455;\n",
              "      fill: #D2E3FC;\n",
              "    }\n",
              "\n",
              "    [theme=dark] .colab-df-convert:hover {\n",
              "      background-color: #434B5C;\n",
              "      box-shadow: 0px 1px 3px 1px rgba(0, 0, 0, 0.15);\n",
              "      filter: drop-shadow(0px 1px 2px rgba(0, 0, 0, 0.3));\n",
              "      fill: #FFFFFF;\n",
              "    }\n",
              "  </style>\n",
              "\n",
              "      <script>\n",
              "        const buttonEl =\n",
              "          document.querySelector('#df-e5feaa0b-7f2e-4867-bc7c-d03b3dd22e69 button.colab-df-convert');\n",
              "        buttonEl.style.display =\n",
              "          google.colab.kernel.accessAllowed ? 'block' : 'none';\n",
              "\n",
              "        async function convertToInteractive(key) {\n",
              "          const element = document.querySelector('#df-e5feaa0b-7f2e-4867-bc7c-d03b3dd22e69');\n",
              "          const dataTable =\n",
              "            await google.colab.kernel.invokeFunction('convertToInteractive',\n",
              "                                                     [key], {});\n",
              "          if (!dataTable) return;\n",
              "\n",
              "          const docLinkHtml = 'Like what you see? Visit the ' +\n",
              "            '<a target=\"_blank\" href=https://colab.research.google.com/notebooks/data_table.ipynb>data table notebook</a>'\n",
              "            + ' to learn more about interactive tables.';\n",
              "          element.innerHTML = '';\n",
              "          dataTable['output_type'] = 'display_data';\n",
              "          await google.colab.output.renderOutput(dataTable, element);\n",
              "          const docLink = document.createElement('div');\n",
              "          docLink.innerHTML = docLinkHtml;\n",
              "          element.appendChild(docLink);\n",
              "        }\n",
              "      </script>\n",
              "    </div>\n",
              "  </div>\n",
              "  "
            ]
          },
          "metadata": {},
          "execution_count": 326
        }
      ]
    },
    {
      "cell_type": "markdown",
      "source": [
        "## Outcome conversion (pending)"
      ],
      "metadata": {
        "id": "bVgZPZ39y2dV"
      }
    },
    {
      "cell_type": "code",
      "source": [
        "# [ ] What should we do here?\n",
        "# 776.87 g/mol * (1 mole / 10^-12 picomole)\n",
        "# et cetera?\n",
        "df_simulated.outcome_unit.unique()"
      ],
      "metadata": {
        "id": "HgKYOVhnpncD",
        "outputId": "ffb0c83a-e04d-4a31-fed3-6201dd4f0f90",
        "colab": {
          "base_uri": "https://localhost:8080/"
        }
      },
      "execution_count": 327,
      "outputs": [
        {
          "output_type": "execute_result",
          "data": {
            "text/plain": [
              "array(['ng/ml', 'picomole/micromole CR', 'nmol/mmol Cr ', 'nmolBCE/l ',\n",
              "       'ug/g Cr', 'mmol/mmol Cr', 'nmol/mmol CR', 'nmol BCE/mmol Cr ',\n",
              "       'nM/mM Cr', ' ng/ml', 'T-score'], dtype=object)"
            ]
          },
          "metadata": {},
          "execution_count": 327
        }
      ]
    },
    {
      "cell_type": "markdown",
      "source": [
        "## $T$-score (pending)"
      ],
      "metadata": {
        "id": "E0G4LN6Uy6m8"
      }
    },
    {
      "cell_type": "code",
      "source": [
        "# [ ] What should we do with t_score rows?\n",
        "df_simulated[~df_simulated.t_score.isna()]"
      ],
      "metadata": {
        "id": "ux3J4X_mrC0S",
        "outputId": "c5f6b78f-59c7-440e-f98d-04986ffa319f",
        "colab": {
          "base_uri": "https://localhost:8080/",
          "height": 269
        }
      },
      "execution_count": 328,
      "outputs": [
        {
          "output_type": "execute_result",
          "data": {
            "text/plain": [
              "                    author gender      health            control intervention  \\\n",
              "1189  Pressac et al., 2002      F  I, III, IV  yes, ref control?            x   \n",
              "1190  Pressac et al., 2002      F  I, III, IV  yes, ref control?            x   \n",
              "1191  Pressac et al., 2002      F  I, III, IV  yes, ref control?            x   \n",
              "1192  Pressac et al., 2002      F  I, III, IV  yes, ref control?            x   \n",
              "1193  Pressac et al., 2002      M  I, III, IV  yes, ref control?            x   \n",
              "1194  Pressac et al., 2002      F  I, III, IV  yes, ref control?            x   \n",
              "1195  Pressac et al., 2002      F  I, III, IV  yes, ref control?            x   \n",
              "\n",
              "     marker  age     timepoint outcome_unit  value   t_score  \n",
              "1189   uCTX  3.6  pretreatment      T-score    NaN -2.228997  \n",
              "1190   uCTX  3.6  pretreatment      T-score    NaN -1.470190  \n",
              "1191   uCTX  3.6  pretreatment      T-score    NaN -0.995935  \n",
              "1192   uCTX  3.6  pretreatment      T-score    NaN -0.569106  \n",
              "1193   uCTX  3.6  pretreatment      T-score    NaN  0.426829  \n",
              "1194   uCTX  3.6  pretreatment      T-score    NaN  3.794038  \n",
              "1195   uCTX  3.6  pretreatment      T-score    NaN  5.216802  "
            ],
            "text/html": [
              "\n",
              "  <div id=\"df-d29be592-4714-40c8-ae1f-1ae714bc18d0\">\n",
              "    <div class=\"colab-df-container\">\n",
              "      <div>\n",
              "<style scoped>\n",
              "    .dataframe tbody tr th:only-of-type {\n",
              "        vertical-align: middle;\n",
              "    }\n",
              "\n",
              "    .dataframe tbody tr th {\n",
              "        vertical-align: top;\n",
              "    }\n",
              "\n",
              "    .dataframe thead th {\n",
              "        text-align: right;\n",
              "    }\n",
              "</style>\n",
              "<table border=\"1\" class=\"dataframe\">\n",
              "  <thead>\n",
              "    <tr style=\"text-align: right;\">\n",
              "      <th></th>\n",
              "      <th>author</th>\n",
              "      <th>gender</th>\n",
              "      <th>health</th>\n",
              "      <th>control</th>\n",
              "      <th>intervention</th>\n",
              "      <th>marker</th>\n",
              "      <th>age</th>\n",
              "      <th>timepoint</th>\n",
              "      <th>outcome_unit</th>\n",
              "      <th>value</th>\n",
              "      <th>t_score</th>\n",
              "    </tr>\n",
              "  </thead>\n",
              "  <tbody>\n",
              "    <tr>\n",
              "      <th>1189</th>\n",
              "      <td>Pressac et al., 2002</td>\n",
              "      <td>F</td>\n",
              "      <td>I, III, IV</td>\n",
              "      <td>yes, ref control?</td>\n",
              "      <td>x</td>\n",
              "      <td>uCTX</td>\n",
              "      <td>3.6</td>\n",
              "      <td>pretreatment</td>\n",
              "      <td>T-score</td>\n",
              "      <td>NaN</td>\n",
              "      <td>-2.228997</td>\n",
              "    </tr>\n",
              "    <tr>\n",
              "      <th>1190</th>\n",
              "      <td>Pressac et al., 2002</td>\n",
              "      <td>F</td>\n",
              "      <td>I, III, IV</td>\n",
              "      <td>yes, ref control?</td>\n",
              "      <td>x</td>\n",
              "      <td>uCTX</td>\n",
              "      <td>3.6</td>\n",
              "      <td>pretreatment</td>\n",
              "      <td>T-score</td>\n",
              "      <td>NaN</td>\n",
              "      <td>-1.470190</td>\n",
              "    </tr>\n",
              "    <tr>\n",
              "      <th>1191</th>\n",
              "      <td>Pressac et al., 2002</td>\n",
              "      <td>F</td>\n",
              "      <td>I, III, IV</td>\n",
              "      <td>yes, ref control?</td>\n",
              "      <td>x</td>\n",
              "      <td>uCTX</td>\n",
              "      <td>3.6</td>\n",
              "      <td>pretreatment</td>\n",
              "      <td>T-score</td>\n",
              "      <td>NaN</td>\n",
              "      <td>-0.995935</td>\n",
              "    </tr>\n",
              "    <tr>\n",
              "      <th>1192</th>\n",
              "      <td>Pressac et al., 2002</td>\n",
              "      <td>F</td>\n",
              "      <td>I, III, IV</td>\n",
              "      <td>yes, ref control?</td>\n",
              "      <td>x</td>\n",
              "      <td>uCTX</td>\n",
              "      <td>3.6</td>\n",
              "      <td>pretreatment</td>\n",
              "      <td>T-score</td>\n",
              "      <td>NaN</td>\n",
              "      <td>-0.569106</td>\n",
              "    </tr>\n",
              "    <tr>\n",
              "      <th>1193</th>\n",
              "      <td>Pressac et al., 2002</td>\n",
              "      <td>M</td>\n",
              "      <td>I, III, IV</td>\n",
              "      <td>yes, ref control?</td>\n",
              "      <td>x</td>\n",
              "      <td>uCTX</td>\n",
              "      <td>3.6</td>\n",
              "      <td>pretreatment</td>\n",
              "      <td>T-score</td>\n",
              "      <td>NaN</td>\n",
              "      <td>0.426829</td>\n",
              "    </tr>\n",
              "    <tr>\n",
              "      <th>1194</th>\n",
              "      <td>Pressac et al., 2002</td>\n",
              "      <td>F</td>\n",
              "      <td>I, III, IV</td>\n",
              "      <td>yes, ref control?</td>\n",
              "      <td>x</td>\n",
              "      <td>uCTX</td>\n",
              "      <td>3.6</td>\n",
              "      <td>pretreatment</td>\n",
              "      <td>T-score</td>\n",
              "      <td>NaN</td>\n",
              "      <td>3.794038</td>\n",
              "    </tr>\n",
              "    <tr>\n",
              "      <th>1195</th>\n",
              "      <td>Pressac et al., 2002</td>\n",
              "      <td>F</td>\n",
              "      <td>I, III, IV</td>\n",
              "      <td>yes, ref control?</td>\n",
              "      <td>x</td>\n",
              "      <td>uCTX</td>\n",
              "      <td>3.6</td>\n",
              "      <td>pretreatment</td>\n",
              "      <td>T-score</td>\n",
              "      <td>NaN</td>\n",
              "      <td>5.216802</td>\n",
              "    </tr>\n",
              "  </tbody>\n",
              "</table>\n",
              "</div>\n",
              "      <button class=\"colab-df-convert\" onclick=\"convertToInteractive('df-d29be592-4714-40c8-ae1f-1ae714bc18d0')\"\n",
              "              title=\"Convert this dataframe to an interactive table.\"\n",
              "              style=\"display:none;\">\n",
              "        \n",
              "  <svg xmlns=\"http://www.w3.org/2000/svg\" height=\"24px\"viewBox=\"0 0 24 24\"\n",
              "       width=\"24px\">\n",
              "    <path d=\"M0 0h24v24H0V0z\" fill=\"none\"/>\n",
              "    <path d=\"M18.56 5.44l.94 2.06.94-2.06 2.06-.94-2.06-.94-.94-2.06-.94 2.06-2.06.94zm-11 1L8.5 8.5l.94-2.06 2.06-.94-2.06-.94L8.5 2.5l-.94 2.06-2.06.94zm10 10l.94 2.06.94-2.06 2.06-.94-2.06-.94-.94-2.06-.94 2.06-2.06.94z\"/><path d=\"M17.41 7.96l-1.37-1.37c-.4-.4-.92-.59-1.43-.59-.52 0-1.04.2-1.43.59L10.3 9.45l-7.72 7.72c-.78.78-.78 2.05 0 2.83L4 21.41c.39.39.9.59 1.41.59.51 0 1.02-.2 1.41-.59l7.78-7.78 2.81-2.81c.8-.78.8-2.07 0-2.86zM5.41 20L4 18.59l7.72-7.72 1.47 1.35L5.41 20z\"/>\n",
              "  </svg>\n",
              "      </button>\n",
              "      \n",
              "  <style>\n",
              "    .colab-df-container {\n",
              "      display:flex;\n",
              "      flex-wrap:wrap;\n",
              "      gap: 12px;\n",
              "    }\n",
              "\n",
              "    .colab-df-convert {\n",
              "      background-color: #E8F0FE;\n",
              "      border: none;\n",
              "      border-radius: 50%;\n",
              "      cursor: pointer;\n",
              "      display: none;\n",
              "      fill: #1967D2;\n",
              "      height: 32px;\n",
              "      padding: 0 0 0 0;\n",
              "      width: 32px;\n",
              "    }\n",
              "\n",
              "    .colab-df-convert:hover {\n",
              "      background-color: #E2EBFA;\n",
              "      box-shadow: 0px 1px 2px rgba(60, 64, 67, 0.3), 0px 1px 3px 1px rgba(60, 64, 67, 0.15);\n",
              "      fill: #174EA6;\n",
              "    }\n",
              "\n",
              "    [theme=dark] .colab-df-convert {\n",
              "      background-color: #3B4455;\n",
              "      fill: #D2E3FC;\n",
              "    }\n",
              "\n",
              "    [theme=dark] .colab-df-convert:hover {\n",
              "      background-color: #434B5C;\n",
              "      box-shadow: 0px 1px 3px 1px rgba(0, 0, 0, 0.15);\n",
              "      filter: drop-shadow(0px 1px 2px rgba(0, 0, 0, 0.3));\n",
              "      fill: #FFFFFF;\n",
              "    }\n",
              "  </style>\n",
              "\n",
              "      <script>\n",
              "        const buttonEl =\n",
              "          document.querySelector('#df-d29be592-4714-40c8-ae1f-1ae714bc18d0 button.colab-df-convert');\n",
              "        buttonEl.style.display =\n",
              "          google.colab.kernel.accessAllowed ? 'block' : 'none';\n",
              "\n",
              "        async function convertToInteractive(key) {\n",
              "          const element = document.querySelector('#df-d29be592-4714-40c8-ae1f-1ae714bc18d0');\n",
              "          const dataTable =\n",
              "            await google.colab.kernel.invokeFunction('convertToInteractive',\n",
              "                                                     [key], {});\n",
              "          if (!dataTable) return;\n",
              "\n",
              "          const docLinkHtml = 'Like what you see? Visit the ' +\n",
              "            '<a target=\"_blank\" href=https://colab.research.google.com/notebooks/data_table.ipynb>data table notebook</a>'\n",
              "            + ' to learn more about interactive tables.';\n",
              "          element.innerHTML = '';\n",
              "          dataTable['output_type'] = 'display_data';\n",
              "          await google.colab.output.renderOutput(dataTable, element);\n",
              "          const docLink = document.createElement('div');\n",
              "          docLink.innerHTML = docLinkHtml;\n",
              "          element.appendChild(docLink);\n",
              "        }\n",
              "      </script>\n",
              "    </div>\n",
              "  </div>\n",
              "  "
            ]
          },
          "metadata": {},
          "execution_count": 328
        }
      ]
    },
    {
      "cell_type": "code",
      "source": [
        "# Value is a number\n",
        "df_final = df_simulated[~df_simulated.value.isna()]\n",
        "df_final"
      ],
      "metadata": {
        "id": "vVmWf7s2rLG0",
        "outputId": "d1eeff17-34e3-45c7-863a-3caa97fe3242",
        "colab": {
          "base_uri": "https://localhost:8080/",
          "height": 424
        }
      },
      "execution_count": 329,
      "outputs": [
        {
          "output_type": "execute_result",
          "data": {
            "text/plain": [
              "                           author gender            health control  \\\n",
              "0           Brunetti et al., 2016      M  Health age match     NaN   \n",
              "1           Brunetti et al., 2016      F  Health age match     NaN   \n",
              "2           Brunetti et al., 2016      F  Health age match     NaN   \n",
              "3           Brunetti et al., 2016      M  Health age match     NaN   \n",
              "4           Brunetti et al., 2016      M  Health age match     NaN   \n",
              "...                           ...    ...               ...     ...   \n",
              "1172  Zacharin & Kanumakala, 2004      F              mild      no   \n",
              "1173  Zacharin & Kanumakala, 2004      M              mild      no   \n",
              "1174  Zacharin & Kanumakala, 2004      F              mild      no   \n",
              "1175  Zacharin & Kanumakala, 2004      M              mild      no   \n",
              "1176  Zacharin & Kanumakala, 2004      M              mild      no   \n",
              "\n",
              "     intervention marker   age     timepoint   outcome_unit      value  \\\n",
              "0               x  sCTX5  11.0  no treatment          ng/ml   1.743813   \n",
              "1               x  sCTX5   8.0  no treatment          ng/ml   1.002854   \n",
              "2               x  sCTX5  10.0  no treatment          ng/ml   1.527691   \n",
              "3               x  sCTX5   7.0  no treatment          ng/ml   1.133160   \n",
              "4               x  sCTX5   7.0  no treatment          ng/ml   1.960783   \n",
              "...           ...    ...   ...           ...            ...        ...   \n",
              "1172            x   uDPD   9.0      baseline  nmol/mmol Cr   33.633108   \n",
              "1173            x   uDPD   9.0      baseline  nmol/mmol Cr   25.793676   \n",
              "1174            x   uDPD   9.0      baseline  nmol/mmol Cr   21.236011   \n",
              "1175            x   uDPD   9.0      baseline  nmol/mmol Cr   18.465284   \n",
              "1176            x   uDPD   9.0      baseline  nmol/mmol Cr   25.581606   \n",
              "\n",
              "      t_score  \n",
              "0         NaN  \n",
              "1         NaN  \n",
              "2         NaN  \n",
              "3         NaN  \n",
              "4         NaN  \n",
              "...       ...  \n",
              "1172      NaN  \n",
              "1173      NaN  \n",
              "1174      NaN  \n",
              "1175      NaN  \n",
              "1176      NaN  \n",
              "\n",
              "[1149 rows x 11 columns]"
            ],
            "text/html": [
              "\n",
              "  <div id=\"df-b640341b-846f-40ab-8c89-6789f9234f31\">\n",
              "    <div class=\"colab-df-container\">\n",
              "      <div>\n",
              "<style scoped>\n",
              "    .dataframe tbody tr th:only-of-type {\n",
              "        vertical-align: middle;\n",
              "    }\n",
              "\n",
              "    .dataframe tbody tr th {\n",
              "        vertical-align: top;\n",
              "    }\n",
              "\n",
              "    .dataframe thead th {\n",
              "        text-align: right;\n",
              "    }\n",
              "</style>\n",
              "<table border=\"1\" class=\"dataframe\">\n",
              "  <thead>\n",
              "    <tr style=\"text-align: right;\">\n",
              "      <th></th>\n",
              "      <th>author</th>\n",
              "      <th>gender</th>\n",
              "      <th>health</th>\n",
              "      <th>control</th>\n",
              "      <th>intervention</th>\n",
              "      <th>marker</th>\n",
              "      <th>age</th>\n",
              "      <th>timepoint</th>\n",
              "      <th>outcome_unit</th>\n",
              "      <th>value</th>\n",
              "      <th>t_score</th>\n",
              "    </tr>\n",
              "  </thead>\n",
              "  <tbody>\n",
              "    <tr>\n",
              "      <th>0</th>\n",
              "      <td>Brunetti et al., 2016</td>\n",
              "      <td>M</td>\n",
              "      <td>Health age match</td>\n",
              "      <td>NaN</td>\n",
              "      <td>x</td>\n",
              "      <td>sCTX5</td>\n",
              "      <td>11.0</td>\n",
              "      <td>no treatment</td>\n",
              "      <td>ng/ml</td>\n",
              "      <td>1.743813</td>\n",
              "      <td>NaN</td>\n",
              "    </tr>\n",
              "    <tr>\n",
              "      <th>1</th>\n",
              "      <td>Brunetti et al., 2016</td>\n",
              "      <td>F</td>\n",
              "      <td>Health age match</td>\n",
              "      <td>NaN</td>\n",
              "      <td>x</td>\n",
              "      <td>sCTX5</td>\n",
              "      <td>8.0</td>\n",
              "      <td>no treatment</td>\n",
              "      <td>ng/ml</td>\n",
              "      <td>1.002854</td>\n",
              "      <td>NaN</td>\n",
              "    </tr>\n",
              "    <tr>\n",
              "      <th>2</th>\n",
              "      <td>Brunetti et al., 2016</td>\n",
              "      <td>F</td>\n",
              "      <td>Health age match</td>\n",
              "      <td>NaN</td>\n",
              "      <td>x</td>\n",
              "      <td>sCTX5</td>\n",
              "      <td>10.0</td>\n",
              "      <td>no treatment</td>\n",
              "      <td>ng/ml</td>\n",
              "      <td>1.527691</td>\n",
              "      <td>NaN</td>\n",
              "    </tr>\n",
              "    <tr>\n",
              "      <th>3</th>\n",
              "      <td>Brunetti et al., 2016</td>\n",
              "      <td>M</td>\n",
              "      <td>Health age match</td>\n",
              "      <td>NaN</td>\n",
              "      <td>x</td>\n",
              "      <td>sCTX5</td>\n",
              "      <td>7.0</td>\n",
              "      <td>no treatment</td>\n",
              "      <td>ng/ml</td>\n",
              "      <td>1.133160</td>\n",
              "      <td>NaN</td>\n",
              "    </tr>\n",
              "    <tr>\n",
              "      <th>4</th>\n",
              "      <td>Brunetti et al., 2016</td>\n",
              "      <td>M</td>\n",
              "      <td>Health age match</td>\n",
              "      <td>NaN</td>\n",
              "      <td>x</td>\n",
              "      <td>sCTX5</td>\n",
              "      <td>7.0</td>\n",
              "      <td>no treatment</td>\n",
              "      <td>ng/ml</td>\n",
              "      <td>1.960783</td>\n",
              "      <td>NaN</td>\n",
              "    </tr>\n",
              "    <tr>\n",
              "      <th>...</th>\n",
              "      <td>...</td>\n",
              "      <td>...</td>\n",
              "      <td>...</td>\n",
              "      <td>...</td>\n",
              "      <td>...</td>\n",
              "      <td>...</td>\n",
              "      <td>...</td>\n",
              "      <td>...</td>\n",
              "      <td>...</td>\n",
              "      <td>...</td>\n",
              "      <td>...</td>\n",
              "    </tr>\n",
              "    <tr>\n",
              "      <th>1172</th>\n",
              "      <td>Zacharin &amp; Kanumakala, 2004</td>\n",
              "      <td>F</td>\n",
              "      <td>mild</td>\n",
              "      <td>no</td>\n",
              "      <td>x</td>\n",
              "      <td>uDPD</td>\n",
              "      <td>9.0</td>\n",
              "      <td>baseline</td>\n",
              "      <td>nmol/mmol Cr</td>\n",
              "      <td>33.633108</td>\n",
              "      <td>NaN</td>\n",
              "    </tr>\n",
              "    <tr>\n",
              "      <th>1173</th>\n",
              "      <td>Zacharin &amp; Kanumakala, 2004</td>\n",
              "      <td>M</td>\n",
              "      <td>mild</td>\n",
              "      <td>no</td>\n",
              "      <td>x</td>\n",
              "      <td>uDPD</td>\n",
              "      <td>9.0</td>\n",
              "      <td>baseline</td>\n",
              "      <td>nmol/mmol Cr</td>\n",
              "      <td>25.793676</td>\n",
              "      <td>NaN</td>\n",
              "    </tr>\n",
              "    <tr>\n",
              "      <th>1174</th>\n",
              "      <td>Zacharin &amp; Kanumakala, 2004</td>\n",
              "      <td>F</td>\n",
              "      <td>mild</td>\n",
              "      <td>no</td>\n",
              "      <td>x</td>\n",
              "      <td>uDPD</td>\n",
              "      <td>9.0</td>\n",
              "      <td>baseline</td>\n",
              "      <td>nmol/mmol Cr</td>\n",
              "      <td>21.236011</td>\n",
              "      <td>NaN</td>\n",
              "    </tr>\n",
              "    <tr>\n",
              "      <th>1175</th>\n",
              "      <td>Zacharin &amp; Kanumakala, 2004</td>\n",
              "      <td>M</td>\n",
              "      <td>mild</td>\n",
              "      <td>no</td>\n",
              "      <td>x</td>\n",
              "      <td>uDPD</td>\n",
              "      <td>9.0</td>\n",
              "      <td>baseline</td>\n",
              "      <td>nmol/mmol Cr</td>\n",
              "      <td>18.465284</td>\n",
              "      <td>NaN</td>\n",
              "    </tr>\n",
              "    <tr>\n",
              "      <th>1176</th>\n",
              "      <td>Zacharin &amp; Kanumakala, 2004</td>\n",
              "      <td>M</td>\n",
              "      <td>mild</td>\n",
              "      <td>no</td>\n",
              "      <td>x</td>\n",
              "      <td>uDPD</td>\n",
              "      <td>9.0</td>\n",
              "      <td>baseline</td>\n",
              "      <td>nmol/mmol Cr</td>\n",
              "      <td>25.581606</td>\n",
              "      <td>NaN</td>\n",
              "    </tr>\n",
              "  </tbody>\n",
              "</table>\n",
              "<p>1149 rows × 11 columns</p>\n",
              "</div>\n",
              "      <button class=\"colab-df-convert\" onclick=\"convertToInteractive('df-b640341b-846f-40ab-8c89-6789f9234f31')\"\n",
              "              title=\"Convert this dataframe to an interactive table.\"\n",
              "              style=\"display:none;\">\n",
              "        \n",
              "  <svg xmlns=\"http://www.w3.org/2000/svg\" height=\"24px\"viewBox=\"0 0 24 24\"\n",
              "       width=\"24px\">\n",
              "    <path d=\"M0 0h24v24H0V0z\" fill=\"none\"/>\n",
              "    <path d=\"M18.56 5.44l.94 2.06.94-2.06 2.06-.94-2.06-.94-.94-2.06-.94 2.06-2.06.94zm-11 1L8.5 8.5l.94-2.06 2.06-.94-2.06-.94L8.5 2.5l-.94 2.06-2.06.94zm10 10l.94 2.06.94-2.06 2.06-.94-2.06-.94-.94-2.06-.94 2.06-2.06.94z\"/><path d=\"M17.41 7.96l-1.37-1.37c-.4-.4-.92-.59-1.43-.59-.52 0-1.04.2-1.43.59L10.3 9.45l-7.72 7.72c-.78.78-.78 2.05 0 2.83L4 21.41c.39.39.9.59 1.41.59.51 0 1.02-.2 1.41-.59l7.78-7.78 2.81-2.81c.8-.78.8-2.07 0-2.86zM5.41 20L4 18.59l7.72-7.72 1.47 1.35L5.41 20z\"/>\n",
              "  </svg>\n",
              "      </button>\n",
              "      \n",
              "  <style>\n",
              "    .colab-df-container {\n",
              "      display:flex;\n",
              "      flex-wrap:wrap;\n",
              "      gap: 12px;\n",
              "    }\n",
              "\n",
              "    .colab-df-convert {\n",
              "      background-color: #E8F0FE;\n",
              "      border: none;\n",
              "      border-radius: 50%;\n",
              "      cursor: pointer;\n",
              "      display: none;\n",
              "      fill: #1967D2;\n",
              "      height: 32px;\n",
              "      padding: 0 0 0 0;\n",
              "      width: 32px;\n",
              "    }\n",
              "\n",
              "    .colab-df-convert:hover {\n",
              "      background-color: #E2EBFA;\n",
              "      box-shadow: 0px 1px 2px rgba(60, 64, 67, 0.3), 0px 1px 3px 1px rgba(60, 64, 67, 0.15);\n",
              "      fill: #174EA6;\n",
              "    }\n",
              "\n",
              "    [theme=dark] .colab-df-convert {\n",
              "      background-color: #3B4455;\n",
              "      fill: #D2E3FC;\n",
              "    }\n",
              "\n",
              "    [theme=dark] .colab-df-convert:hover {\n",
              "      background-color: #434B5C;\n",
              "      box-shadow: 0px 1px 3px 1px rgba(0, 0, 0, 0.15);\n",
              "      filter: drop-shadow(0px 1px 2px rgba(0, 0, 0, 0.3));\n",
              "      fill: #FFFFFF;\n",
              "    }\n",
              "  </style>\n",
              "\n",
              "      <script>\n",
              "        const buttonEl =\n",
              "          document.querySelector('#df-b640341b-846f-40ab-8c89-6789f9234f31 button.colab-df-convert');\n",
              "        buttonEl.style.display =\n",
              "          google.colab.kernel.accessAllowed ? 'block' : 'none';\n",
              "\n",
              "        async function convertToInteractive(key) {\n",
              "          const element = document.querySelector('#df-b640341b-846f-40ab-8c89-6789f9234f31');\n",
              "          const dataTable =\n",
              "            await google.colab.kernel.invokeFunction('convertToInteractive',\n",
              "                                                     [key], {});\n",
              "          if (!dataTable) return;\n",
              "\n",
              "          const docLinkHtml = 'Like what you see? Visit the ' +\n",
              "            '<a target=\"_blank\" href=https://colab.research.google.com/notebooks/data_table.ipynb>data table notebook</a>'\n",
              "            + ' to learn more about interactive tables.';\n",
              "          element.innerHTML = '';\n",
              "          dataTable['output_type'] = 'display_data';\n",
              "          await google.colab.output.renderOutput(dataTable, element);\n",
              "          const docLink = document.createElement('div');\n",
              "          docLink.innerHTML = docLinkHtml;\n",
              "          element.appendChild(docLink);\n",
              "        }\n",
              "      </script>\n",
              "    </div>\n",
              "  </div>\n",
              "  "
            ]
          },
          "metadata": {},
          "execution_count": 329
        }
      ]
    },
    {
      "cell_type": "markdown",
      "source": [
        "## Data description"
      ],
      "metadata": {
        "id": "gE8beI1bzBqU"
      }
    },
    {
      "cell_type": "markdown",
      "source": [
        "### Gender"
      ],
      "metadata": {
        "id": "KDyJQbKvw2S_"
      }
    },
    {
      "cell_type": "code",
      "source": [
        "df_final.gender.unique()"
      ],
      "metadata": {
        "id": "RptBuDbDwZrx",
        "outputId": "b927d0dc-ad9d-4e93-a521-3edf254623a2",
        "colab": {
          "base_uri": "https://localhost:8080/"
        }
      },
      "execution_count": 330,
      "outputs": [
        {
          "output_type": "execute_result",
          "data": {
            "text/plain": [
              "array(['M', 'F'], dtype=object)"
            ]
          },
          "metadata": {},
          "execution_count": 330
        }
      ]
    },
    {
      "cell_type": "code",
      "source": [
        "gender_freq = df_final.groupby('gender').size()\n",
        "plt.figure()\n",
        "plt.pie(gender_freq, labels = gender_freq.index, autopct='%1.1f%%')\n",
        "plt.show()"
      ],
      "metadata": {
        "id": "NltILARwwTJz",
        "outputId": "a408fb3a-a14c-42a6-dfa6-093e80534eb1",
        "colab": {
          "base_uri": "https://localhost:8080/",
          "height": 248
        }
      },
      "execution_count": 331,
      "outputs": [
        {
          "output_type": "display_data",
          "data": {
            "text/plain": [
              "<Figure size 432x288 with 1 Axes>"
            ],
            "image/png": "[encoded data removed]"
          },
          "metadata": {}
        }
      ]
    },
    {
      "cell_type": "markdown",
      "source": [
        "### Age"
      ],
      "metadata": {
        "id": "FbdMSQzgw4bt"
      }
    },
    {
      "cell_type": "code",
      "source": [
        "plt.figure()\n",
        "plt.hist(df_final.age)\n",
        "plt.ylabel('Frequency')\n",
        "plt.xlabel('Age (years)')\n",
        "plt.show()"
      ],
      "metadata": {
        "id": "h9BElvm2vyf2",
        "outputId": "e6294a3e-70c0-432c-a6d1-9cf21347d271",
        "colab": {
          "base_uri": "https://localhost:8080/",
          "height": 279
        }
      },
      "execution_count": 332,
      "outputs": [
        {
          "output_type": "display_data",
          "data": {
            "text/plain": [
              "<Figure size 432x288 with 1 Axes>"
            ],
            "image/png": "[encoded data removed]"
          },
          "metadata": {
            "needs_background": "light"
          }
        }
      ]
    },
    {
      "cell_type": "markdown",
      "source": [
        "### Control"
      ],
      "metadata": {
        "id": "s8WKzO7Lw9Y9"
      }
    },
    {
      "cell_type": "code",
      "source": [
        "df_final.control.unique()"
      ],
      "metadata": {
        "id": "1uocQssMsiC0",
        "outputId": "77839e64-383f-4229-dbbf-5bb98cd66c04",
        "colab": {
          "base_uri": "https://localhost:8080/"
        }
      },
      "execution_count": 333,
      "outputs": [
        {
          "output_type": "execute_result",
          "data": {
            "text/plain": [
              "array([nan, 'no ', 'no (Brunetti 2016?)', 'no', 'yes',\n",
              "       'yes, ref control?'], dtype=object)"
            ]
          },
          "metadata": {},
          "execution_count": 333
        }
      ]
    },
    {
      "cell_type": "code",
      "source": [
        "df_final[(df_final.control == 'no ') | (df_final.control == 'no (Brunetti 2016?)')] = 'no'\n",
        "df_final[df_final.control == 'yes, ref control?'] = 'yes'\n",
        "df_final.control.unique()"
      ],
      "metadata": {
        "id": "TC9EOToDsqYl",
        "outputId": "b149e161-4563-4b2d-dc3a-7675375b996a",
        "colab": {
          "base_uri": "https://localhost:8080/"
        }
      },
      "execution_count": 334,
      "outputs": [
        {
          "output_type": "execute_result",
          "data": {
            "text/plain": [
              "array([nan, 'no', 'yes'], dtype=object)"
            ]
          },
          "metadata": {},
          "execution_count": 334
        }
      ]
    },
    {
      "cell_type": "code",
      "source": [
        "control_freq = df_final.groupby('control').size()\n",
        "control_freq"
      ],
      "metadata": {
        "id": "zcBdctkQwy_b",
        "outputId": "fae46f4c-4742-4cc7-ff78-1939bb0e019c",
        "colab": {
          "base_uri": "https://localhost:8080/"
        }
      },
      "execution_count": 335,
      "outputs": [
        {
          "output_type": "execute_result",
          "data": {
            "text/plain": [
              "control\n",
              "no     99\n",
              "yes    62\n",
              "dtype: int64"
            ]
          },
          "metadata": {},
          "execution_count": 335
        }
      ]
    },
    {
      "cell_type": "code",
      "source": [
        "# nans\n",
        "df_final.control.isna().count()"
      ],
      "metadata": {
        "id": "2mOZxd52tFbu",
        "outputId": "1670a063-92d4-48e4-8490-713176a0aac2",
        "colab": {
          "base_uri": "https://localhost:8080/"
        }
      },
      "execution_count": 336,
      "outputs": [
        {
          "output_type": "execute_result",
          "data": {
            "text/plain": [
              "1149"
            ]
          },
          "metadata": {},
          "execution_count": 336
        }
      ]
    },
    {
      "cell_type": "code",
      "source": [
        "nan_series = pd.Series(df_final.control.isna().count(), index = ['nan'])\n",
        "nan_series"
      ],
      "metadata": {
        "id": "DklyclM2umlQ",
        "outputId": "e4b10be0-7938-4b85-de16-d335b562aaac",
        "colab": {
          "base_uri": "https://localhost:8080/"
        }
      },
      "execution_count": 337,
      "outputs": [
        {
          "output_type": "execute_result",
          "data": {
            "text/plain": [
              "nan    1149\n",
              "dtype: int64"
            ]
          },
          "metadata": {},
          "execution_count": 337
        }
      ]
    },
    {
      "cell_type": "code",
      "source": [
        "control_freq = pd.concat([control_freq, nan_series])\n",
        "control_freq"
      ],
      "metadata": {
        "id": "535zU7oBudgV",
        "outputId": "d839d9b0-152b-4e56-cf16-2329841d9af2",
        "colab": {
          "base_uri": "https://localhost:8080/"
        }
      },
      "execution_count": 338,
      "outputs": [
        {
          "output_type": "execute_result",
          "data": {
            "text/plain": [
              "no       99\n",
              "yes      62\n",
              "nan    1149\n",
              "dtype: int64"
            ]
          },
          "metadata": {},
          "execution_count": 338
        }
      ]
    },
    {
      "cell_type": "code",
      "source": [
        "plt.figure()\n",
        "plt.pie(control_freq, labels = control_freq.index, autopct='%1.1f%%')\n",
        "plt.show()"
      ],
      "metadata": {
        "id": "W1gU5t8HryG6",
        "outputId": "6f76598e-62b2-4846-ba62-a4212871ec15",
        "colab": {
          "base_uri": "https://localhost:8080/",
          "height": 248
        }
      },
      "execution_count": 339,
      "outputs": [
        {
          "output_type": "display_data",
          "data": {
            "text/plain": [
              "<Figure size 432x288 with 1 Axes>"
            ],
            "image/png": "[encoded data removed]"
          },
          "metadata": {}
        }
      ]
    },
    {
      "cell_type": "markdown",
      "source": [
        "### Marker"
      ],
      "metadata": {
        "id": "CxiRFl8kxa3M"
      }
    },
    {
      "cell_type": "code",
      "source": [
        "marker_freq = df_final.groupby('marker').size()\n",
        "marker_freq.sort_values(ascending = False, inplace = True)\n",
        "marker_freq"
      ],
      "metadata": {
        "id": "wViCrYXOu7Pe",
        "outputId": "db666c31-4b1f-496d-a266-6f4c917cc4d5",
        "colab": {
          "base_uri": "https://localhost:8080/"
        }
      },
      "execution_count": 340,
      "outputs": [
        {
          "output_type": "execute_result",
          "data": {
            "text/plain": [
              "marker\n",
              "uNTX     967\n",
              "yes       44\n",
              "no        36\n",
              "sNTX      36\n",
              "uDPD      27\n",
              "sCTX5     21\n",
              "sCTX6     18\n",
              "dtype: int64"
            ]
          },
          "metadata": {},
          "execution_count": 340
        }
      ]
    },
    {
      "cell_type": "code",
      "source": [
        "plt.figure()\n",
        "plt.bar(marker_freq.index, marker_freq)\n",
        "plt.show()"
      ],
      "metadata": {
        "id": "k2jkOni9u4R3",
        "outputId": "03e4002a-f7ff-42f6-b480-d62f394a0d84",
        "colab": {
          "base_uri": "https://localhost:8080/",
          "height": 266
        }
      },
      "execution_count": 341,
      "outputs": [
        {
          "output_type": "display_data",
          "data": {
            "text/plain": [
              "<Figure size 432x288 with 1 Axes>"
            ],
            "image/png": "[encoded data removed]"
          },
          "metadata": {
            "needs_background": "light"
          }
        }
      ]
    },
    {
      "cell_type": "markdown",
      "source": [
        "### Value (multiple units 😅)"
      ],
      "metadata": {
        "id": "kIC018AsxiJJ"
      }
    },
    {
      "cell_type": "code",
      "source": [
        "plt.figure()\n",
        "plt.hist(df_final.value)\n",
        "plt.ylabel('Frequency')\n",
        "plt.xlabel('Value (multiple units)')\n",
        "plt.show()"
      ],
      "metadata": {
        "id": "TbzCBdVCrdCU",
        "outputId": "d619202e-ccf2-4cce-c1c5-d9a9b96b63be",
        "colab": {
          "base_uri": "https://localhost:8080/",
          "height": 279
        }
      },
      "execution_count": 264,
      "outputs": [
        {
          "output_type": "display_data",
          "data": {
            "text/plain": [
              "<Figure size 432x288 with 1 Axes>"
            ],
            "image/png": "[encoded data removed]"
          },
          "metadata": {
            "needs_background": "light"
          }
        }
      ]
    }
  ]
}