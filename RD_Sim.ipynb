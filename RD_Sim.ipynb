{
  "nbformat": 4,
  "nbformat_minor": 0,
  "metadata": {
    "colab": {
      "provenance": [],
      "include_colab_link": true
    },
    "kernelspec": {
      "name": "python3",
      "display_name": "Python 3"
    },
    "language_info": {
      "name": "python"
    }
  },
  "cells": [
    {
      "cell_type": "markdown",
      "metadata": {
        "id": "view-in-github",
        "colab_type": "text"
      },
      "source": [
        "<a href=\"https://colab.research.google.com/github/RareDiseaseData/rd_simulations/blob/main/RD_Sim.ipynb\" target=\"_parent\"><img src=\"https://colab.research.google.com/assets/colab-badge.svg\" alt=\"Open In Colab\"/></a>"
      ]
    },
    {
      "cell_type": "markdown",
      "source": [
        "# Meta-analysis simulation of data"
      ],
      "metadata": {
        "id": "DGHZNej0xw9o"
      }
    },
    {
      "cell_type": "markdown",
      "source": [
        "## Libraries"
      ],
      "metadata": {
        "id": "-mUDc62ExuYb"
      }
    },
    {
      "cell_type": "code",
      "execution_count": 501,
      "metadata": {
        "id": "tszfkSJY71_V"
      },
      "outputs": [],
      "source": [
        "import pandas as pd\n",
        "import numpy as np\n",
        "\n",
        "import matplotlib.pyplot as plt\n",
        "\n",
        "# Just for clarity\n",
        "import warnings\n",
        "warnings.filterwarnings(\"ignore\")"
      ]
    },
    {
      "cell_type": "markdown",
      "source": [
        "## Load data"
      ],
      "metadata": {
        "id": "9I4iK_OUxwKB"
      }
    },
    {
      "cell_type": "code",
      "source": [
        "df = pd.read_csv('/content/meta-analysis.csv')\n",
        "df.drop(columns = ['species'], inplace = True)\n",
        "df.columns = ['id', 'author', 'gender', 'health', 'control',\n",
        "       'intervention', 'marker', 'age', 'timepoint', 'outcome_unit', 'n',\n",
        "       'mean', 'sd', 'se', 'min', 'max', 'median', 't_score']\n",
        "df"
      ],
      "metadata": {
        "id": "dl-Qcmb39bXo",
        "colab": {
          "base_uri": "https://localhost:8080/",
          "height": 424
        },
        "outputId": "80b8d7c4-c475-4f1a-e804-53cd084a8423"
      },
      "execution_count": 502,
      "outputs": [
        {
          "output_type": "execute_result",
          "data": {
            "text/plain": [
              "    id                 author gender            health            control  \\\n",
              "0   60  Brunetti et al., 2016     MF  Health age match                NaN   \n",
              "1   63   Iwamoto et al., 2002    NaN     Healthy (ref)                NaN   \n",
              "2   48    Semler et al., 2012      M     Healthy (ref)                NaN   \n",
              "3   48    Semler et al., 2012      M     Healthy (ref)                NaN   \n",
              "4   48    Semler et al., 2012      M     Healthy (ref)                NaN   \n",
              "..  ..                    ...    ...               ...                ...   \n",
              "90  11   Pressac et al., 2002     MF        I, III, IV  yes, ref control?   \n",
              "91  11   Pressac et al., 2002     MF        I, III, IV  yes, ref control?   \n",
              "92  11   Pressac et al., 2002     MF        I, III, IV  yes, ref control?   \n",
              "93  11   Pressac et al., 2002     MF        I, III, IV  yes, ref control?   \n",
              "94  11   Pressac et al., 2002     MF        I, III, IV  yes, ref control?   \n",
              "\n",
              "   intervention marker            age     timepoint   outcome_unit     n  \\\n",
              "0             x  sCTX5  8.23 y ± 3.19  no treatment          ng/ml  21.0   \n",
              "1             x   uNTX            NaN  No treatment  nmol/mmol Cr    NaN   \n",
              "2             x   uDPD          9.4 y  no treatment       nM/mM Cr   NaN   \n",
              "3             x   uDPD          6.9 y  no treatment       nM/mM Cr   NaN   \n",
              "4             x   uDPD         18.5 y  no treatment       nM/mM Cr   NaN   \n",
              "..          ...    ...            ...           ...            ...   ...   \n",
              "90            x   uCTX             <4  pretreatment        T-score   1.0   \n",
              "91            x   uCTX             <4  pretreatment        T-score   1.0   \n",
              "92            x   uCTX             <4  pretreatment        T-score   1.0   \n",
              "93            x   uCTX             <4  pretreatment        T-score   1.0   \n",
              "94            x   uCTX             <4  pretreatment        T-score   1.0   \n",
              "\n",
              "      mean        sd  se    min    max median   t_score  \n",
              "0    1.570  0.460000 NaN    NaN    NaN    NaN       NaN  \n",
              "1   43.000  8.351647 NaN  13.00  73.00    NaN       NaN  \n",
              "2   17.335  5.164301 NaN   6.40  28.27    NaN       NaN  \n",
              "3   17.335  5.164301 NaN   6.40  28.27    NaN       NaN  \n",
              "4   16.770  5.084535 NaN   6.15  27.39    NaN       NaN  \n",
              "..     ...       ...  ..    ...    ...    ...       ...  \n",
              "90     NaN       NaN NaN    NaN    NaN    NaN -0.995935  \n",
              "91     NaN       NaN NaN    NaN    NaN    NaN -0.569106  \n",
              "92     NaN       NaN NaN    NaN    NaN    NaN  0.426829  \n",
              "93     NaN       NaN NaN    NaN    NaN    NaN  3.794038  \n",
              "94     NaN       NaN NaN    NaN    NaN    NaN  5.216802  \n",
              "\n",
              "[95 rows x 18 columns]"
            ],
            "text/html": [
              "\n",
              "  <div id=\"df-491ee5b7-65e5-4bf2-b24f-05b41ade87f2\">\n",
              "    <div class=\"colab-df-container\">\n",
              "      <div>\n",
              "<style scoped>\n",
              "    .dataframe tbody tr th:only-of-type {\n",
              "        vertical-align: middle;\n",
              "    }\n",
              "\n",
              "    .dataframe tbody tr th {\n",
              "        vertical-align: top;\n",
              "    }\n",
              "\n",
              "    .dataframe thead th {\n",
              "        text-align: right;\n",
              "    }\n",
              "</style>\n",
              "<table border=\"1\" class=\"dataframe\">\n",
              "  <thead>\n",
              "    <tr style=\"text-align: right;\">\n",
              "      <th></th>\n",
              "      <th>id</th>\n",
              "      <th>author</th>\n",
              "      <th>gender</th>\n",
              "      <th>health</th>\n",
              "      <th>control</th>\n",
              "      <th>intervention</th>\n",
              "      <th>marker</th>\n",
              "      <th>age</th>\n",
              "      <th>timepoint</th>\n",
              "      <th>outcome_unit</th>\n",
              "      <th>n</th>\n",
              "      <th>mean</th>\n",
              "      <th>sd</th>\n",
              "      <th>se</th>\n",
              "      <th>min</th>\n",
              "      <th>max</th>\n",
              "      <th>median</th>\n",
              "      <th>t_score</th>\n",
              "    </tr>\n",
              "  </thead>\n",
              "  <tbody>\n",
              "    <tr>\n",
              "      <th>0</th>\n",
              "      <td>60</td>\n",
              "      <td>Brunetti et al., 2016</td>\n",
              "      <td>MF</td>\n",
              "      <td>Health age match</td>\n",
              "      <td>NaN</td>\n",
              "      <td>x</td>\n",
              "      <td>sCTX5</td>\n",
              "      <td>8.23 y ± 3.19</td>\n",
              "      <td>no treatment</td>\n",
              "      <td>ng/ml</td>\n",
              "      <td>21.0</td>\n",
              "      <td>1.570</td>\n",
              "      <td>0.460000</td>\n",
              "      <td>NaN</td>\n",
              "      <td>NaN</td>\n",
              "      <td>NaN</td>\n",
              "      <td>NaN</td>\n",
              "      <td>NaN</td>\n",
              "    </tr>\n",
              "    <tr>\n",
              "      <th>1</th>\n",
              "      <td>63</td>\n",
              "      <td>Iwamoto et al., 2002</td>\n",
              "      <td>NaN</td>\n",
              "      <td>Healthy (ref)</td>\n",
              "      <td>NaN</td>\n",
              "      <td>x</td>\n",
              "      <td>uNTX</td>\n",
              "      <td>NaN</td>\n",
              "      <td>No treatment</td>\n",
              "      <td>nmol/mmol Cr</td>\n",
              "      <td>NaN</td>\n",
              "      <td>43.000</td>\n",
              "      <td>8.351647</td>\n",
              "      <td>NaN</td>\n",
              "      <td>13.00</td>\n",
              "      <td>73.00</td>\n",
              "      <td>NaN</td>\n",
              "      <td>NaN</td>\n",
              "    </tr>\n",
              "    <tr>\n",
              "      <th>2</th>\n",
              "      <td>48</td>\n",
              "      <td>Semler et al., 2012</td>\n",
              "      <td>M</td>\n",
              "      <td>Healthy (ref)</td>\n",
              "      <td>NaN</td>\n",
              "      <td>x</td>\n",
              "      <td>uDPD</td>\n",
              "      <td>9.4 y</td>\n",
              "      <td>no treatment</td>\n",
              "      <td>nM/mM Cr</td>\n",
              "      <td>NaN</td>\n",
              "      <td>17.335</td>\n",
              "      <td>5.164301</td>\n",
              "      <td>NaN</td>\n",
              "      <td>6.40</td>\n",
              "      <td>28.27</td>\n",
              "      <td>NaN</td>\n",
              "      <td>NaN</td>\n",
              "    </tr>\n",
              "    <tr>\n",
              "      <th>3</th>\n",
              "      <td>48</td>\n",
              "      <td>Semler et al., 2012</td>\n",
              "      <td>M</td>\n",
              "      <td>Healthy (ref)</td>\n",
              "      <td>NaN</td>\n",
              "      <td>x</td>\n",
              "      <td>uDPD</td>\n",
              "      <td>6.9 y</td>\n",
              "      <td>no treatment</td>\n",
              "      <td>nM/mM Cr</td>\n",
              "      <td>NaN</td>\n",
              "      <td>17.335</td>\n",
              "      <td>5.164301</td>\n",
              "      <td>NaN</td>\n",
              "      <td>6.40</td>\n",
              "      <td>28.27</td>\n",
              "      <td>NaN</td>\n",
              "      <td>NaN</td>\n",
              "    </tr>\n",
              "    <tr>\n",
              "      <th>4</th>\n",
              "      <td>48</td>\n",
              "      <td>Semler et al., 2012</td>\n",
              "      <td>M</td>\n",
              "      <td>Healthy (ref)</td>\n",
              "      <td>NaN</td>\n",
              "      <td>x</td>\n",
              "      <td>uDPD</td>\n",
              "      <td>18.5 y</td>\n",
              "      <td>no treatment</td>\n",
              "      <td>nM/mM Cr</td>\n",
              "      <td>NaN</td>\n",
              "      <td>16.770</td>\n",
              "      <td>5.084535</td>\n",
              "      <td>NaN</td>\n",
              "      <td>6.15</td>\n",
              "      <td>27.39</td>\n",
              "      <td>NaN</td>\n",
              "      <td>NaN</td>\n",
              "    </tr>\n",
              "    <tr>\n",
              "      <th>...</th>\n",
              "      <td>...</td>\n",
              "      <td>...</td>\n",
              "      <td>...</td>\n",
              "      <td>...</td>\n",
              "      <td>...</td>\n",
              "      <td>...</td>\n",
              "      <td>...</td>\n",
              "      <td>...</td>\n",
              "      <td>...</td>\n",
              "      <td>...</td>\n",
              "      <td>...</td>\n",
              "      <td>...</td>\n",
              "      <td>...</td>\n",
              "      <td>...</td>\n",
              "      <td>...</td>\n",
              "      <td>...</td>\n",
              "      <td>...</td>\n",
              "      <td>...</td>\n",
              "    </tr>\n",
              "    <tr>\n",
              "      <th>90</th>\n",
              "      <td>11</td>\n",
              "      <td>Pressac et al., 2002</td>\n",
              "      <td>MF</td>\n",
              "      <td>I, III, IV</td>\n",
              "      <td>yes, ref control?</td>\n",
              "      <td>x</td>\n",
              "      <td>uCTX</td>\n",
              "      <td>&lt;4</td>\n",
              "      <td>pretreatment</td>\n",
              "      <td>T-score</td>\n",
              "      <td>1.0</td>\n",
              "      <td>NaN</td>\n",
              "      <td>NaN</td>\n",
              "      <td>NaN</td>\n",
              "      <td>NaN</td>\n",
              "      <td>NaN</td>\n",
              "      <td>NaN</td>\n",
              "      <td>-0.995935</td>\n",
              "    </tr>\n",
              "    <tr>\n",
              "      <th>91</th>\n",
              "      <td>11</td>\n",
              "      <td>Pressac et al., 2002</td>\n",
              "      <td>MF</td>\n",
              "      <td>I, III, IV</td>\n",
              "      <td>yes, ref control?</td>\n",
              "      <td>x</td>\n",
              "      <td>uCTX</td>\n",
              "      <td>&lt;4</td>\n",
              "      <td>pretreatment</td>\n",
              "      <td>T-score</td>\n",
              "      <td>1.0</td>\n",
              "      <td>NaN</td>\n",
              "      <td>NaN</td>\n",
              "      <td>NaN</td>\n",
              "      <td>NaN</td>\n",
              "      <td>NaN</td>\n",
              "      <td>NaN</td>\n",
              "      <td>-0.569106</td>\n",
              "    </tr>\n",
              "    <tr>\n",
              "      <th>92</th>\n",
              "      <td>11</td>\n",
              "      <td>Pressac et al., 2002</td>\n",
              "      <td>MF</td>\n",
              "      <td>I, III, IV</td>\n",
              "      <td>yes, ref control?</td>\n",
              "      <td>x</td>\n",
              "      <td>uCTX</td>\n",
              "      <td>&lt;4</td>\n",
              "      <td>pretreatment</td>\n",
              "      <td>T-score</td>\n",
              "      <td>1.0</td>\n",
              "      <td>NaN</td>\n",
              "      <td>NaN</td>\n",
              "      <td>NaN</td>\n",
              "      <td>NaN</td>\n",
              "      <td>NaN</td>\n",
              "      <td>NaN</td>\n",
              "      <td>0.426829</td>\n",
              "    </tr>\n",
              "    <tr>\n",
              "      <th>93</th>\n",
              "      <td>11</td>\n",
              "      <td>Pressac et al., 2002</td>\n",
              "      <td>MF</td>\n",
              "      <td>I, III, IV</td>\n",
              "      <td>yes, ref control?</td>\n",
              "      <td>x</td>\n",
              "      <td>uCTX</td>\n",
              "      <td>&lt;4</td>\n",
              "      <td>pretreatment</td>\n",
              "      <td>T-score</td>\n",
              "      <td>1.0</td>\n",
              "      <td>NaN</td>\n",
              "      <td>NaN</td>\n",
              "      <td>NaN</td>\n",
              "      <td>NaN</td>\n",
              "      <td>NaN</td>\n",
              "      <td>NaN</td>\n",
              "      <td>3.794038</td>\n",
              "    </tr>\n",
              "    <tr>\n",
              "      <th>94</th>\n",
              "      <td>11</td>\n",
              "      <td>Pressac et al., 2002</td>\n",
              "      <td>MF</td>\n",
              "      <td>I, III, IV</td>\n",
              "      <td>yes, ref control?</td>\n",
              "      <td>x</td>\n",
              "      <td>uCTX</td>\n",
              "      <td>&lt;4</td>\n",
              "      <td>pretreatment</td>\n",
              "      <td>T-score</td>\n",
              "      <td>1.0</td>\n",
              "      <td>NaN</td>\n",
              "      <td>NaN</td>\n",
              "      <td>NaN</td>\n",
              "      <td>NaN</td>\n",
              "      <td>NaN</td>\n",
              "      <td>NaN</td>\n",
              "      <td>5.216802</td>\n",
              "    </tr>\n",
              "  </tbody>\n",
              "</table>\n",
              "<p>95 rows × 18 columns</p>\n",
              "</div>\n",
              "      <button class=\"colab-df-convert\" onclick=\"convertToInteractive('df-491ee5b7-65e5-4bf2-b24f-05b41ade87f2')\"\n",
              "              title=\"Convert this dataframe to an interactive table.\"\n",
              "              style=\"display:none;\">\n",
              "        \n",
              "  <svg xmlns=\"http://www.w3.org/2000/svg\" height=\"24px\"viewBox=\"0 0 24 24\"\n",
              "       width=\"24px\">\n",
              "    <path d=\"M0 0h24v24H0V0z\" fill=\"none\"/>\n",
              "    <path d=\"M18.56 5.44l.94 2.06.94-2.06 2.06-.94-2.06-.94-.94-2.06-.94 2.06-2.06.94zm-11 1L8.5 8.5l.94-2.06 2.06-.94-2.06-.94L8.5 2.5l-.94 2.06-2.06.94zm10 10l.94 2.06.94-2.06 2.06-.94-2.06-.94-.94-2.06-.94 2.06-2.06.94z\"/><path d=\"M17.41 7.96l-1.37-1.37c-.4-.4-.92-.59-1.43-.59-.52 0-1.04.2-1.43.59L10.3 9.45l-7.72 7.72c-.78.78-.78 2.05 0 2.83L4 21.41c.39.39.9.59 1.41.59.51 0 1.02-.2 1.41-.59l7.78-7.78 2.81-2.81c.8-.78.8-2.07 0-2.86zM5.41 20L4 18.59l7.72-7.72 1.47 1.35L5.41 20z\"/>\n",
              "  </svg>\n",
              "      </button>\n",
              "      \n",
              "  <style>\n",
              "    .colab-df-container {\n",
              "      display:flex;\n",
              "      flex-wrap:wrap;\n",
              "      gap: 12px;\n",
              "    }\n",
              "\n",
              "    .colab-df-convert {\n",
              "      background-color: #E8F0FE;\n",
              "      border: none;\n",
              "      border-radius: 50%;\n",
              "      cursor: pointer;\n",
              "      display: none;\n",
              "      fill: #1967D2;\n",
              "      height: 32px;\n",
              "      padding: 0 0 0 0;\n",
              "      width: 32px;\n",
              "    }\n",
              "\n",
              "    .colab-df-convert:hover {\n",
              "      background-color: #E2EBFA;\n",
              "      box-shadow: 0px 1px 2px rgba(60, 64, 67, 0.3), 0px 1px 3px 1px rgba(60, 64, 67, 0.15);\n",
              "      fill: #174EA6;\n",
              "    }\n",
              "\n",
              "    [theme=dark] .colab-df-convert {\n",
              "      background-color: #3B4455;\n",
              "      fill: #D2E3FC;\n",
              "    }\n",
              "\n",
              "    [theme=dark] .colab-df-convert:hover {\n",
              "      background-color: #434B5C;\n",
              "      box-shadow: 0px 1px 3px 1px rgba(0, 0, 0, 0.15);\n",
              "      filter: drop-shadow(0px 1px 2px rgba(0, 0, 0, 0.3));\n",
              "      fill: #FFFFFF;\n",
              "    }\n",
              "  </style>\n",
              "\n",
              "      <script>\n",
              "        const buttonEl =\n",
              "          document.querySelector('#df-491ee5b7-65e5-4bf2-b24f-05b41ade87f2 button.colab-df-convert');\n",
              "        buttonEl.style.display =\n",
              "          google.colab.kernel.accessAllowed ? 'block' : 'none';\n",
              "\n",
              "        async function convertToInteractive(key) {\n",
              "          const element = document.querySelector('#df-491ee5b7-65e5-4bf2-b24f-05b41ade87f2');\n",
              "          const dataTable =\n",
              "            await google.colab.kernel.invokeFunction('convertToInteractive',\n",
              "                                                     [key], {});\n",
              "          if (!dataTable) return;\n",
              "\n",
              "          const docLinkHtml = 'Like what you see? Visit the ' +\n",
              "            '<a target=\"_blank\" href=https://colab.research.google.com/notebooks/data_table.ipynb>data table notebook</a>'\n",
              "            + ' to learn more about interactive tables.';\n",
              "          element.innerHTML = '';\n",
              "          dataTable['output_type'] = 'display_data';\n",
              "          await google.colab.output.renderOutput(dataTable, element);\n",
              "          const docLink = document.createElement('div');\n",
              "          docLink.innerHTML = docLinkHtml;\n",
              "          element.appendChild(docLink);\n",
              "        }\n",
              "      </script>\n",
              "    </div>\n",
              "  </div>\n",
              "  "
            ]
          },
          "metadata": {},
          "execution_count": 502
        }
      ]
    },
    {
      "cell_type": "code",
      "source": [
        "df.dtypes"
      ],
      "metadata": {
        "colab": {
          "base_uri": "https://localhost:8080/"
        },
        "id": "K4X7eUmyiphb",
        "outputId": "4d7b46af-a1a2-47f6-df02-1d7d13296bee"
      },
      "execution_count": 503,
      "outputs": [
        {
          "output_type": "execute_result",
          "data": {
            "text/plain": [
              "id                int64\n",
              "author           object\n",
              "gender           object\n",
              "health           object\n",
              "control          object\n",
              "intervention     object\n",
              "marker           object\n",
              "age              object\n",
              "timepoint        object\n",
              "outcome_unit     object\n",
              "n               float64\n",
              "mean            float64\n",
              "sd              float64\n",
              "se              float64\n",
              "min             float64\n",
              "max             float64\n",
              "median           object\n",
              "t_score         float64\n",
              "dtype: object"
            ]
          },
          "metadata": {},
          "execution_count": 503
        }
      ]
    },
    {
      "cell_type": "markdown",
      "source": [
        "## Simulation\n",
        "\n",
        "- `value`: From normal distribution based on mean and standard deviation\n",
        "- `gender`: From normal distribution where not specified"
      ],
      "metadata": {
        "id": "x23QvHzEx3iA"
      }
    },
    {
      "cell_type": "code",
      "source": [
        "simulated = []\n",
        "for i, r in df.iterrows():\n",
        "  if np.isnan(r.n):\n",
        "    continue\n",
        "  for j in range(int(r.n)):\n",
        "    if r.gender == 'M':\n",
        "      gender = 'M'\n",
        "    elif r.gender == 'F':\n",
        "      gender = 'F'\n",
        "    else: # MF, NA and others, are random\n",
        "      gender = np.random.choice(['M', 'F'])\n",
        "    d = {\n",
        "      'author' : r.author,\n",
        "      'gender' : gender,\n",
        "      'health' : r.health,\n",
        "      'control' : r.control,\n",
        "      'intervention' : r.intervention,\n",
        "      'marker' : r.marker,\n",
        "      'age' : r.age,\n",
        "      'timepoint' : r.timepoint,\n",
        "      'outcome_unit' : r.outcome_unit,\n",
        "      'value' : np.random.normal(r['mean'], r['sd'], 1)[0],\n",
        "      't_score' : r.t_score\n",
        "    }\n",
        "    simulated.append(d)\n",
        "df_simulated = pd.DataFrame(simulated)"
      ],
      "metadata": {
        "id": "73WDvkcTeZvb"
      },
      "execution_count": 504,
      "outputs": []
    },
    {
      "cell_type": "markdown",
      "source": [
        "## Preprocessing age"
      ],
      "metadata": {
        "id": "nLEH-E_byR_W"
      }
    },
    {
      "cell_type": "code",
      "source": [
        "df_simulated.age.unique()"
      ],
      "metadata": {
        "colab": {
          "base_uri": "https://localhost:8080/"
        },
        "id": "gAKIyUhOjdHh",
        "outputId": "7972892e-2f14-4cc9-d549-877389bcd6de"
      },
      "execution_count": 505,
      "outputs": [
        {
          "output_type": "execute_result",
          "data": {
            "text/plain": [
              "array(['8.23 y ± 3.19', '1 y', '2 y', '3 y', '4 y', '5 y', '6 y', '7 y',\n",
              "       '8 y', '9 y', '10 y', '11 y', '12 y', '13 y', '14 y', '15 y',\n",
              "       '16 y', '17 y', '58 y', '4.4 y ± 1.8', '5.30 y ±1.5',\n",
              "       '4.20 y ±1.1', '4  y', '9m-13 y ', '7.0 y (5.0 – 11.0) ', '8.6 y',\n",
              "       '8.86  y ± 3.90 ', '1.4 - 17.5 y ', '42 y', '40 y', '0 y',\n",
              "       '2-15 y (mean 7.5, SD 3.7)', '9.4 y', '6.9 y', '18.5 y', '5-17 y',\n",
              "       '<4'], dtype=object)"
            ]
          },
          "metadata": {},
          "execution_count": 505
        }
      ]
    },
    {
      "cell_type": "code",
      "source": [
        "df_simulated.age = df_simulated.age.str.replace('y', '')\n",
        "df_simulated.age = df_simulated.age.str.replace(' ', '')\n",
        "df_simulated.age.unique()"
      ],
      "metadata": {
        "colab": {
          "base_uri": "https://localhost:8080/"
        },
        "id": "k4CpqiVzjkeY",
        "outputId": "5bf17bea-0e3f-40dc-8cb0-4d94099c6250"
      },
      "execution_count": 506,
      "outputs": [
        {
          "output_type": "execute_result",
          "data": {
            "text/plain": [
              "array(['8.23±3.19', '1', '2', '3', '4', '5', '6', '7', '8', '9', '10',\n",
              "       '11', '12', '13', '14', '15', '16', '17', '58', '4.4±1.8',\n",
              "       '5.30±1.5', '4.20±1.1', '9m-13', '7.0(5.0–11.0)', '8.6',\n",
              "       '8.86±3.90', '1.4-17.5', '42', '40', '0', '2-15(mean7.5,SD3.7)',\n",
              "       '9.4', '6.9', '18.5', '5-17', '<4'], dtype=object)"
            ]
          },
          "metadata": {},
          "execution_count": 506
        }
      ]
    },
    {
      "cell_type": "code",
      "source": [
        "t = df_simulated[df_simulated.age.str.contains('±')]\n",
        "t = t.age.str.split('±')\n",
        "t"
      ],
      "metadata": {
        "colab": {
          "base_uri": "https://localhost:8080/"
        },
        "id": "9fi8znBDj9BO",
        "outputId": "328d8474-0b34-4e96-b0cd-d957e62dab2a"
      },
      "execution_count": 507,
      "outputs": [
        {
          "output_type": "execute_result",
          "data": {
            "text/plain": [
              "0       [8.23, 3.19]\n",
              "1       [8.23, 3.19]\n",
              "2       [8.23, 3.19]\n",
              "3       [8.23, 3.19]\n",
              "4       [8.23, 3.19]\n",
              "            ...     \n",
              "1104    [8.86, 3.90]\n",
              "1105    [8.86, 3.90]\n",
              "1106    [8.86, 3.90]\n",
              "1107    [8.86, 3.90]\n",
              "1108    [8.86, 3.90]\n",
              "Name: age, Length: 75, dtype: object"
            ]
          },
          "metadata": {},
          "execution_count": 507
        }
      ]
    },
    {
      "cell_type": "code",
      "source": [
        "# [ ] From normal distribution?\n",
        "for i in t.iteritems():\n",
        "  indice = i[0]\n",
        "  mu = float(i[1][0])\n",
        "  sigma = float(i[1][1])\n",
        "  t[i[0]] = round(np.random.normal(mu, sigma, 1)[0])\n",
        "t"
      ],
      "metadata": {
        "colab": {
          "base_uri": "https://localhost:8080/"
        },
        "id": "CckHsjhVkuQh",
        "outputId": "810e3302-cc88-4b27-daf2-84525948907c"
      },
      "execution_count": 508,
      "outputs": [
        {
          "output_type": "execute_result",
          "data": {
            "text/plain": [
              "0       10\n",
              "1        9\n",
              "2        6\n",
              "3        4\n",
              "4        9\n",
              "        ..\n",
              "1104     0\n",
              "1105     7\n",
              "1106    15\n",
              "1107     4\n",
              "1108    10\n",
              "Name: age, Length: 75, dtype: object"
            ]
          },
          "metadata": {},
          "execution_count": 508
        }
      ]
    },
    {
      "cell_type": "code",
      "source": [
        "df_simulated.loc[t.index, 'age'] = t\n",
        "df_simulated"
      ],
      "metadata": {
        "colab": {
          "base_uri": "https://localhost:8080/",
          "height": 424
        },
        "id": "M7AzcLL9keUw",
        "outputId": "2043aef3-b8b1-4fda-ed30-fa6a2de95e9f"
      },
      "execution_count": 509,
      "outputs": [
        {
          "output_type": "execute_result",
          "data": {
            "text/plain": [
              "                     author gender            health            control  \\\n",
              "0     Brunetti et al., 2016      M  Health age match                NaN   \n",
              "1     Brunetti et al., 2016      M  Health age match                NaN   \n",
              "2     Brunetti et al., 2016      F  Health age match                NaN   \n",
              "3     Brunetti et al., 2016      F  Health age match                NaN   \n",
              "4     Brunetti et al., 2016      M  Health age match                NaN   \n",
              "...                     ...    ...               ...                ...   \n",
              "1191   Pressac et al., 2002      M        I, III, IV  yes, ref control?   \n",
              "1192   Pressac et al., 2002      F        I, III, IV  yes, ref control?   \n",
              "1193   Pressac et al., 2002      F        I, III, IV  yes, ref control?   \n",
              "1194   Pressac et al., 2002      F        I, III, IV  yes, ref control?   \n",
              "1195   Pressac et al., 2002      F        I, III, IV  yes, ref control?   \n",
              "\n",
              "     intervention marker age     timepoint outcome_unit     value   t_score  \n",
              "0               x  sCTX5  10  no treatment        ng/ml  2.287378       NaN  \n",
              "1               x  sCTX5   9  no treatment        ng/ml  1.175475       NaN  \n",
              "2               x  sCTX5   6  no treatment        ng/ml  1.876152       NaN  \n",
              "3               x  sCTX5   4  no treatment        ng/ml  1.738619       NaN  \n",
              "4               x  sCTX5   9  no treatment        ng/ml  1.487993       NaN  \n",
              "...           ...    ...  ..           ...          ...       ...       ...  \n",
              "1191            x   uCTX  <4  pretreatment      T-score       NaN -0.995935  \n",
              "1192            x   uCTX  <4  pretreatment      T-score       NaN -0.569106  \n",
              "1193            x   uCTX  <4  pretreatment      T-score       NaN  0.426829  \n",
              "1194            x   uCTX  <4  pretreatment      T-score       NaN  3.794038  \n",
              "1195            x   uCTX  <4  pretreatment      T-score       NaN  5.216802  \n",
              "\n",
              "[1196 rows x 11 columns]"
            ],
            "text/html": [
              "\n",
              "  <div id=\"df-b52070ec-9efb-4831-952b-413f9524e92d\">\n",
              "    <div class=\"colab-df-container\">\n",
              "      <div>\n",
              "<style scoped>\n",
              "    .dataframe tbody tr th:only-of-type {\n",
              "        vertical-align: middle;\n",
              "    }\n",
              "\n",
              "    .dataframe tbody tr th {\n",
              "        vertical-align: top;\n",
              "    }\n",
              "\n",
              "    .dataframe thead th {\n",
              "        text-align: right;\n",
              "    }\n",
              "</style>\n",
              "<table border=\"1\" class=\"dataframe\">\n",
              "  <thead>\n",
              "    <tr style=\"text-align: right;\">\n",
              "      <th></th>\n",
              "      <th>author</th>\n",
              "      <th>gender</th>\n",
              "      <th>health</th>\n",
              "      <th>control</th>\n",
              "      <th>intervention</th>\n",
              "      <th>marker</th>\n",
              "      <th>age</th>\n",
              "      <th>timepoint</th>\n",
              "      <th>outcome_unit</th>\n",
              "      <th>value</th>\n",
              "      <th>t_score</th>\n",
              "    </tr>\n",
              "  </thead>\n",
              "  <tbody>\n",
              "    <tr>\n",
              "      <th>0</th>\n",
              "      <td>Brunetti et al., 2016</td>\n",
              "      <td>M</td>\n",
              "      <td>Health age match</td>\n",
              "      <td>NaN</td>\n",
              "      <td>x</td>\n",
              "      <td>sCTX5</td>\n",
              "      <td>10</td>\n",
              "      <td>no treatment</td>\n",
              "      <td>ng/ml</td>\n",
              "      <td>2.287378</td>\n",
              "      <td>NaN</td>\n",
              "    </tr>\n",
              "    <tr>\n",
              "      <th>1</th>\n",
              "      <td>Brunetti et al., 2016</td>\n",
              "      <td>M</td>\n",
              "      <td>Health age match</td>\n",
              "      <td>NaN</td>\n",
              "      <td>x</td>\n",
              "      <td>sCTX5</td>\n",
              "      <td>9</td>\n",
              "      <td>no treatment</td>\n",
              "      <td>ng/ml</td>\n",
              "      <td>1.175475</td>\n",
              "      <td>NaN</td>\n",
              "    </tr>\n",
              "    <tr>\n",
              "      <th>2</th>\n",
              "      <td>Brunetti et al., 2016</td>\n",
              "      <td>F</td>\n",
              "      <td>Health age match</td>\n",
              "      <td>NaN</td>\n",
              "      <td>x</td>\n",
              "      <td>sCTX5</td>\n",
              "      <td>6</td>\n",
              "      <td>no treatment</td>\n",
              "      <td>ng/ml</td>\n",
              "      <td>1.876152</td>\n",
              "      <td>NaN</td>\n",
              "    </tr>\n",
              "    <tr>\n",
              "      <th>3</th>\n",
              "      <td>Brunetti et al., 2016</td>\n",
              "      <td>F</td>\n",
              "      <td>Health age match</td>\n",
              "      <td>NaN</td>\n",
              "      <td>x</td>\n",
              "      <td>sCTX5</td>\n",
              "      <td>4</td>\n",
              "      <td>no treatment</td>\n",
              "      <td>ng/ml</td>\n",
              "      <td>1.738619</td>\n",
              "      <td>NaN</td>\n",
              "    </tr>\n",
              "    <tr>\n",
              "      <th>4</th>\n",
              "      <td>Brunetti et al., 2016</td>\n",
              "      <td>M</td>\n",
              "      <td>Health age match</td>\n",
              "      <td>NaN</td>\n",
              "      <td>x</td>\n",
              "      <td>sCTX5</td>\n",
              "      <td>9</td>\n",
              "      <td>no treatment</td>\n",
              "      <td>ng/ml</td>\n",
              "      <td>1.487993</td>\n",
              "      <td>NaN</td>\n",
              "    </tr>\n",
              "    <tr>\n",
              "      <th>...</th>\n",
              "      <td>...</td>\n",
              "      <td>...</td>\n",
              "      <td>...</td>\n",
              "      <td>...</td>\n",
              "      <td>...</td>\n",
              "      <td>...</td>\n",
              "      <td>...</td>\n",
              "      <td>...</td>\n",
              "      <td>...</td>\n",
              "      <td>...</td>\n",
              "      <td>...</td>\n",
              "    </tr>\n",
              "    <tr>\n",
              "      <th>1191</th>\n",
              "      <td>Pressac et al., 2002</td>\n",
              "      <td>M</td>\n",
              "      <td>I, III, IV</td>\n",
              "      <td>yes, ref control?</td>\n",
              "      <td>x</td>\n",
              "      <td>uCTX</td>\n",
              "      <td>&lt;4</td>\n",
              "      <td>pretreatment</td>\n",
              "      <td>T-score</td>\n",
              "      <td>NaN</td>\n",
              "      <td>-0.995935</td>\n",
              "    </tr>\n",
              "    <tr>\n",
              "      <th>1192</th>\n",
              "      <td>Pressac et al., 2002</td>\n",
              "      <td>F</td>\n",
              "      <td>I, III, IV</td>\n",
              "      <td>yes, ref control?</td>\n",
              "      <td>x</td>\n",
              "      <td>uCTX</td>\n",
              "      <td>&lt;4</td>\n",
              "      <td>pretreatment</td>\n",
              "      <td>T-score</td>\n",
              "      <td>NaN</td>\n",
              "      <td>-0.569106</td>\n",
              "    </tr>\n",
              "    <tr>\n",
              "      <th>1193</th>\n",
              "      <td>Pressac et al., 2002</td>\n",
              "      <td>F</td>\n",
              "      <td>I, III, IV</td>\n",
              "      <td>yes, ref control?</td>\n",
              "      <td>x</td>\n",
              "      <td>uCTX</td>\n",
              "      <td>&lt;4</td>\n",
              "      <td>pretreatment</td>\n",
              "      <td>T-score</td>\n",
              "      <td>NaN</td>\n",
              "      <td>0.426829</td>\n",
              "    </tr>\n",
              "    <tr>\n",
              "      <th>1194</th>\n",
              "      <td>Pressac et al., 2002</td>\n",
              "      <td>F</td>\n",
              "      <td>I, III, IV</td>\n",
              "      <td>yes, ref control?</td>\n",
              "      <td>x</td>\n",
              "      <td>uCTX</td>\n",
              "      <td>&lt;4</td>\n",
              "      <td>pretreatment</td>\n",
              "      <td>T-score</td>\n",
              "      <td>NaN</td>\n",
              "      <td>3.794038</td>\n",
              "    </tr>\n",
              "    <tr>\n",
              "      <th>1195</th>\n",
              "      <td>Pressac et al., 2002</td>\n",
              "      <td>F</td>\n",
              "      <td>I, III, IV</td>\n",
              "      <td>yes, ref control?</td>\n",
              "      <td>x</td>\n",
              "      <td>uCTX</td>\n",
              "      <td>&lt;4</td>\n",
              "      <td>pretreatment</td>\n",
              "      <td>T-score</td>\n",
              "      <td>NaN</td>\n",
              "      <td>5.216802</td>\n",
              "    </tr>\n",
              "  </tbody>\n",
              "</table>\n",
              "<p>1196 rows × 11 columns</p>\n",
              "</div>\n",
              "      <button class=\"colab-df-convert\" onclick=\"convertToInteractive('df-b52070ec-9efb-4831-952b-413f9524e92d')\"\n",
              "              title=\"Convert this dataframe to an interactive table.\"\n",
              "              style=\"display:none;\">\n",
              "        \n",
              "  <svg xmlns=\"http://www.w3.org/2000/svg\" height=\"24px\"viewBox=\"0 0 24 24\"\n",
              "       width=\"24px\">\n",
              "    <path d=\"M0 0h24v24H0V0z\" fill=\"none\"/>\n",
              "    <path d=\"M18.56 5.44l.94 2.06.94-2.06 2.06-.94-2.06-.94-.94-2.06-.94 2.06-2.06.94zm-11 1L8.5 8.5l.94-2.06 2.06-.94-2.06-.94L8.5 2.5l-.94 2.06-2.06.94zm10 10l.94 2.06.94-2.06 2.06-.94-2.06-.94-.94-2.06-.94 2.06-2.06.94z\"/><path d=\"M17.41 7.96l-1.37-1.37c-.4-.4-.92-.59-1.43-.59-.52 0-1.04.2-1.43.59L10.3 9.45l-7.72 7.72c-.78.78-.78 2.05 0 2.83L4 21.41c.39.39.9.59 1.41.59.51 0 1.02-.2 1.41-.59l7.78-7.78 2.81-2.81c.8-.78.8-2.07 0-2.86zM5.41 20L4 18.59l7.72-7.72 1.47 1.35L5.41 20z\"/>\n",
              "  </svg>\n",
              "      </button>\n",
              "      \n",
              "  <style>\n",
              "    .colab-df-container {\n",
              "      display:flex;\n",
              "      flex-wrap:wrap;\n",
              "      gap: 12px;\n",
              "    }\n",
              "\n",
              "    .colab-df-convert {\n",
              "      background-color: #E8F0FE;\n",
              "      border: none;\n",
              "      border-radius: 50%;\n",
              "      cursor: pointer;\n",
              "      display: none;\n",
              "      fill: #1967D2;\n",
              "      height: 32px;\n",
              "      padding: 0 0 0 0;\n",
              "      width: 32px;\n",
              "    }\n",
              "\n",
              "    .colab-df-convert:hover {\n",
              "      background-color: #E2EBFA;\n",
              "      box-shadow: 0px 1px 2px rgba(60, 64, 67, 0.3), 0px 1px 3px 1px rgba(60, 64, 67, 0.15);\n",
              "      fill: #174EA6;\n",
              "    }\n",
              "\n",
              "    [theme=dark] .colab-df-convert {\n",
              "      background-color: #3B4455;\n",
              "      fill: #D2E3FC;\n",
              "    }\n",
              "\n",
              "    [theme=dark] .colab-df-convert:hover {\n",
              "      background-color: #434B5C;\n",
              "      box-shadow: 0px 1px 3px 1px rgba(0, 0, 0, 0.15);\n",
              "      filter: drop-shadow(0px 1px 2px rgba(0, 0, 0, 0.3));\n",
              "      fill: #FFFFFF;\n",
              "    }\n",
              "  </style>\n",
              "\n",
              "      <script>\n",
              "        const buttonEl =\n",
              "          document.querySelector('#df-b52070ec-9efb-4831-952b-413f9524e92d button.colab-df-convert');\n",
              "        buttonEl.style.display =\n",
              "          google.colab.kernel.accessAllowed ? 'block' : 'none';\n",
              "\n",
              "        async function convertToInteractive(key) {\n",
              "          const element = document.querySelector('#df-b52070ec-9efb-4831-952b-413f9524e92d');\n",
              "          const dataTable =\n",
              "            await google.colab.kernel.invokeFunction('convertToInteractive',\n",
              "                                                     [key], {});\n",
              "          if (!dataTable) return;\n",
              "\n",
              "          const docLinkHtml = 'Like what you see? Visit the ' +\n",
              "            '<a target=\"_blank\" href=https://colab.research.google.com/notebooks/data_table.ipynb>data table notebook</a>'\n",
              "            + ' to learn more about interactive tables.';\n",
              "          element.innerHTML = '';\n",
              "          dataTable['output_type'] = 'display_data';\n",
              "          await google.colab.output.renderOutput(dataTable, element);\n",
              "          const docLink = document.createElement('div');\n",
              "          docLink.innerHTML = docLinkHtml;\n",
              "          element.appendChild(docLink);\n",
              "        }\n",
              "      </script>\n",
              "    </div>\n",
              "  </div>\n",
              "  "
            ]
          },
          "metadata": {},
          "execution_count": 509
        }
      ]
    },
    {
      "cell_type": "code",
      "source": [
        "df_simulated.age.unique()"
      ],
      "metadata": {
        "colab": {
          "base_uri": "https://localhost:8080/"
        },
        "id": "opamAAuomcvy",
        "outputId": "266d2ecb-6422-4577-a346-f3b9a15003a4"
      },
      "execution_count": 510,
      "outputs": [
        {
          "output_type": "execute_result",
          "data": {
            "text/plain": [
              "array([10, 9, 6, 4, 5, 7, 12, 16, 17, 11, '1', '2', '3', '4', '5', '6',\n",
              "       '7', '8', '9', '10', '11', '12', '13', '14', '15', '16', '17',\n",
              "       '58', 3, 2, 8, '9m-13', '7.0(5.0–11.0)', '8.6', 14, 0, 15,\n",
              "       '1.4-17.5', '42', '40', '0', '2-15(mean7.5,SD3.7)', '9.4', '6.9',\n",
              "       '18.5', '5-17', '<4'], dtype=object)"
            ]
          },
          "metadata": {},
          "execution_count": 510
        }
      ]
    },
    {
      "cell_type": "code",
      "source": [
        "t = df_simulated[df_simulated.age == '7.0(5.0–11.0)']\n",
        "for i in t.iteritems():\n",
        "  # [ ] 5 <= age , 12 ? \n",
        "  t[i[0]] = np.random.randint(5, 12)\n",
        "df_simulated.loc[t.index, 'age'] = t\n",
        "df_simulated.age.unique()"
      ],
      "metadata": {
        "colab": {
          "base_uri": "https://localhost:8080/"
        },
        "id": "40UtYW1InZCt",
        "outputId": "07d3ae09-92aa-4bb0-fabd-8c09e5fc48bc"
      },
      "execution_count": 511,
      "outputs": [
        {
          "output_type": "execute_result",
          "data": {
            "text/plain": [
              "array([10, 9, 6, 4, 5, 7, 12, 16, 17, 11, '1', '2', '3', '4', '5', '6',\n",
              "       '7', '8', '9', '10', '11', '12', '13', '14', '15', '16', '17',\n",
              "       '58', 3, 2, 8, '9m-13', '8.6', 14, 0, 15, '1.4-17.5', '42', '40',\n",
              "       '0', '2-15(mean7.5,SD3.7)', '9.4', '6.9', '18.5', '5-17', '<4'],\n",
              "      dtype=object)"
            ]
          },
          "metadata": {},
          "execution_count": 511
        }
      ]
    },
    {
      "cell_type": "code",
      "source": [
        "17.5 - 1.4"
      ],
      "metadata": {
        "colab": {
          "base_uri": "https://localhost:8080/"
        },
        "id": "1JtrN_GXoZxm",
        "outputId": "51eaffe3-f267-4a46-d02f-1f1a41ac8c36"
      },
      "execution_count": 512,
      "outputs": [
        {
          "output_type": "execute_result",
          "data": {
            "text/plain": [
              "16.1"
            ]
          },
          "metadata": {},
          "execution_count": 512
        }
      ]
    },
    {
      "cell_type": "code",
      "source": [
        "t = df_simulated[df_simulated.age == '1.4-17.5']\n",
        "for i in t.iteritems():\n",
        "  t[i[0]] = round(np.random.rand(1)[0] * 16.1 + 1.4, 1)\n",
        "df_simulated.loc[t.index, 'age'] = t\n",
        "df_simulated.age.unique()"
      ],
      "metadata": {
        "colab": {
          "base_uri": "https://localhost:8080/"
        },
        "id": "55Pffj3Hn85s",
        "outputId": "606ffd7b-7218-412b-bee5-ef084caa114c"
      },
      "execution_count": 513,
      "outputs": [
        {
          "output_type": "execute_result",
          "data": {
            "text/plain": [
              "array([10, 9, 6, 4, 5, 7, 12, 16, 17, 11, '1', '2', '3', '4', '5', '6',\n",
              "       '7', '8', '9', '10', '11', '12', '13', '14', '15', '16', '17',\n",
              "       '58', 3, 2, 8, '9m-13', '8.6', 14, 0, 15, 12.8, '42', '40', '0',\n",
              "       '2-15(mean7.5,SD3.7)', '9.4', '6.9', '18.5', '5-17', '<4'],\n",
              "      dtype=object)"
            ]
          },
          "metadata": {},
          "execution_count": 513
        }
      ]
    },
    {
      "cell_type": "code",
      "source": [
        "t = df_simulated[df_simulated.age == '2-15(mean7.5,SD3.7)']\n",
        "for i in t.iteritems():\n",
        "  t[i[0]] = round(np.random.normal(7.5, 3.7, 1)[0])\n",
        "df_simulated.loc[t.index, 'age'] = t\n",
        "df_simulated.age.unique()"
      ],
      "metadata": {
        "colab": {
          "base_uri": "https://localhost:8080/"
        },
        "id": "u9ki_wAboy5T",
        "outputId": "bfd8f036-7031-49a8-da20-c301f65cf1cc"
      },
      "execution_count": 514,
      "outputs": [
        {
          "output_type": "execute_result",
          "data": {
            "text/plain": [
              "array([10, 9, 6, 4, 5, 7, 12, 16, 17, 11, '1', '2', '3', '4', '5', '6',\n",
              "       '7', '8', '9', '10', '11', '12', '13', '14', '15', '16', '17',\n",
              "       '58', 3, 2, 8, '9m-13', '8.6', 14, 0, 15, 12.8, '42', '40', '0',\n",
              "       '9.4', '6.9', '18.5', '5-17', '<4'], dtype=object)"
            ]
          },
          "metadata": {},
          "execution_count": 514
        }
      ]
    },
    {
      "cell_type": "code",
      "source": [
        "t = df_simulated[df_simulated.age == '5-17']\n",
        "for i in t.iteritems():\n",
        "  t[i[0]] = np.random.randint(5, 18)\n",
        "df_simulated.loc[t.index, 'age'] = t\n",
        "df_simulated.age.unique()"
      ],
      "metadata": {
        "colab": {
          "base_uri": "https://localhost:8080/"
        },
        "id": "JrLQ1VVIo6TO",
        "outputId": "e1031619-af6b-427d-c1ce-5ad3fa34f73a"
      },
      "execution_count": 515,
      "outputs": [
        {
          "output_type": "execute_result",
          "data": {
            "text/plain": [
              "array([10, 9, 6, 4, 5, 7, 12, 16, 17, 11, '1', '2', '3', '4', '5', '6',\n",
              "       '7', '8', '9', '10', '11', '12', '13', '14', '15', '16', '17',\n",
              "       '58', 3, 2, 8, '9m-13', '8.6', 14, 0, 15, 12.8, '42', '40', '0',\n",
              "       '9.4', '6.9', '18.5', '<4'], dtype=object)"
            ]
          },
          "metadata": {},
          "execution_count": 515
        }
      ]
    },
    {
      "cell_type": "code",
      "source": [
        "9 / 12"
      ],
      "metadata": {
        "colab": {
          "base_uri": "https://localhost:8080/"
        },
        "id": "j-TSDkZdpGAI",
        "outputId": "c5a25d8f-0570-4607-8221-0571d1244833"
      },
      "execution_count": 516,
      "outputs": [
        {
          "output_type": "execute_result",
          "data": {
            "text/plain": [
              "0.75"
            ]
          },
          "metadata": {},
          "execution_count": 516
        }
      ]
    },
    {
      "cell_type": "code",
      "source": [
        "13 - 0.75"
      ],
      "metadata": {
        "colab": {
          "base_uri": "https://localhost:8080/"
        },
        "id": "Gv1uCsczpMFg",
        "outputId": "b466bc6b-ed94-4641-d3e6-99e06f318eaa"
      },
      "execution_count": 517,
      "outputs": [
        {
          "output_type": "execute_result",
          "data": {
            "text/plain": [
              "12.25"
            ]
          },
          "metadata": {},
          "execution_count": 517
        }
      ]
    },
    {
      "cell_type": "code",
      "source": [
        "# [ ] Are this months?\n",
        "t = df_simulated[df_simulated.age == '9m-13']\n",
        "for i in t.iteritems():\n",
        "  t[i[0]] = round(np.random.rand(1)[0] * 12.25 + 0.75, 1)\n",
        "df_simulated.loc[t.index, 'age'] = t\n",
        "df_simulated.age.unique()"
      ],
      "metadata": {
        "colab": {
          "base_uri": "https://localhost:8080/"
        },
        "id": "MuxyatxEpDnr",
        "outputId": "c24aae30-01e9-4c7c-b5a8-e6fa69591cc3"
      },
      "execution_count": 518,
      "outputs": [
        {
          "output_type": "execute_result",
          "data": {
            "text/plain": [
              "array([10, 9, 6, 4, 5, 7, 12, 16, 17, 11, '1', '2', '3', '4', '5', '6',\n",
              "       '7', '8', '9', '10', '11', '12', '13', '14', '15', '16', '17',\n",
              "       '58', 3, 2, 8, 4.7, '8.6', 14, 0, 15, 12.8, '42', '40', '0', '9.4',\n",
              "       '6.9', '18.5', '<4'], dtype=object)"
            ]
          },
          "metadata": {},
          "execution_count": 518
        }
      ]
    },
    {
      "cell_type": "code",
      "source": [
        "# [ ] I'm supposing this are years 😬\n",
        "t = df_simulated[df_simulated.age == '<4']\n",
        "for i in t.iteritems():\n",
        "  t[i[0]] = round(np.random.rand(1)[0] * 4, 1)\n",
        "df_simulated.loc[t.index, 'age'] = t\n",
        "df_simulated.age.unique()"
      ],
      "metadata": {
        "colab": {
          "base_uri": "https://localhost:8080/"
        },
        "id": "_M6NMu_xpU3Q",
        "outputId": "5734aefd-2561-45bd-bb38-f86a40888700"
      },
      "execution_count": 519,
      "outputs": [
        {
          "output_type": "execute_result",
          "data": {
            "text/plain": [
              "array([10, 9, 6, 4, 5, 7, 12, 16, 17, 11, '1', '2', '3', '4', '5', '6',\n",
              "       '7', '8', '9', '10', '11', '12', '13', '14', '15', '16', '17',\n",
              "       '58', 3, 2, 8, 4.7, '8.6', 14, 0, 15, 12.8, '42', '40', '0', '9.4',\n",
              "       '6.9', '18.5', 3.4], dtype=object)"
            ]
          },
          "metadata": {},
          "execution_count": 519
        }
      ]
    },
    {
      "cell_type": "code",
      "source": [
        "df_simulated.age = df_simulated.age.astype('float')"
      ],
      "metadata": {
        "id": "BnD6tEvmwAE3"
      },
      "execution_count": 520,
      "outputs": []
    },
    {
      "cell_type": "code",
      "source": [
        "df_simulated"
      ],
      "metadata": {
        "colab": {
          "base_uri": "https://localhost:8080/",
          "height": 424
        },
        "id": "zGTO-iEdpf-O",
        "outputId": "060a967a-e0d9-4598-aac8-c913dfe3d306"
      },
      "execution_count": 521,
      "outputs": [
        {
          "output_type": "execute_result",
          "data": {
            "text/plain": [
              "                     author gender            health            control  \\\n",
              "0     Brunetti et al., 2016      M  Health age match                NaN   \n",
              "1     Brunetti et al., 2016      M  Health age match                NaN   \n",
              "2     Brunetti et al., 2016      F  Health age match                NaN   \n",
              "3     Brunetti et al., 2016      F  Health age match                NaN   \n",
              "4     Brunetti et al., 2016      M  Health age match                NaN   \n",
              "...                     ...    ...               ...                ...   \n",
              "1191   Pressac et al., 2002      M        I, III, IV  yes, ref control?   \n",
              "1192   Pressac et al., 2002      F        I, III, IV  yes, ref control?   \n",
              "1193   Pressac et al., 2002      F        I, III, IV  yes, ref control?   \n",
              "1194   Pressac et al., 2002      F        I, III, IV  yes, ref control?   \n",
              "1195   Pressac et al., 2002      F        I, III, IV  yes, ref control?   \n",
              "\n",
              "     intervention marker   age     timepoint outcome_unit     value   t_score  \n",
              "0               x  sCTX5  10.0  no treatment        ng/ml  2.287378       NaN  \n",
              "1               x  sCTX5   9.0  no treatment        ng/ml  1.175475       NaN  \n",
              "2               x  sCTX5   6.0  no treatment        ng/ml  1.876152       NaN  \n",
              "3               x  sCTX5   4.0  no treatment        ng/ml  1.738619       NaN  \n",
              "4               x  sCTX5   9.0  no treatment        ng/ml  1.487993       NaN  \n",
              "...           ...    ...   ...           ...          ...       ...       ...  \n",
              "1191            x   uCTX   3.4  pretreatment      T-score       NaN -0.995935  \n",
              "1192            x   uCTX   3.4  pretreatment      T-score       NaN -0.569106  \n",
              "1193            x   uCTX   3.4  pretreatment      T-score       NaN  0.426829  \n",
              "1194            x   uCTX   3.4  pretreatment      T-score       NaN  3.794038  \n",
              "1195            x   uCTX   3.4  pretreatment      T-score       NaN  5.216802  \n",
              "\n",
              "[1196 rows x 11 columns]"
            ],
            "text/html": [
              "\n",
              "  <div id=\"df-72276e72-eb55-424e-875c-7fbefc9879d1\">\n",
              "    <div class=\"colab-df-container\">\n",
              "      <div>\n",
              "<style scoped>\n",
              "    .dataframe tbody tr th:only-of-type {\n",
              "        vertical-align: middle;\n",
              "    }\n",
              "\n",
              "    .dataframe tbody tr th {\n",
              "        vertical-align: top;\n",
              "    }\n",
              "\n",
              "    .dataframe thead th {\n",
              "        text-align: right;\n",
              "    }\n",
              "</style>\n",
              "<table border=\"1\" class=\"dataframe\">\n",
              "  <thead>\n",
              "    <tr style=\"text-align: right;\">\n",
              "      <th></th>\n",
              "      <th>author</th>\n",
              "      <th>gender</th>\n",
              "      <th>health</th>\n",
              "      <th>control</th>\n",
              "      <th>intervention</th>\n",
              "      <th>marker</th>\n",
              "      <th>age</th>\n",
              "      <th>timepoint</th>\n",
              "      <th>outcome_unit</th>\n",
              "      <th>value</th>\n",
              "      <th>t_score</th>\n",
              "    </tr>\n",
              "  </thead>\n",
              "  <tbody>\n",
              "    <tr>\n",
              "      <th>0</th>\n",
              "      <td>Brunetti et al., 2016</td>\n",
              "      <td>M</td>\n",
              "      <td>Health age match</td>\n",
              "      <td>NaN</td>\n",
              "      <td>x</td>\n",
              "      <td>sCTX5</td>\n",
              "      <td>10.0</td>\n",
              "      <td>no treatment</td>\n",
              "      <td>ng/ml</td>\n",
              "      <td>2.287378</td>\n",
              "      <td>NaN</td>\n",
              "    </tr>\n",
              "    <tr>\n",
              "      <th>1</th>\n",
              "      <td>Brunetti et al., 2016</td>\n",
              "      <td>M</td>\n",
              "      <td>Health age match</td>\n",
              "      <td>NaN</td>\n",
              "      <td>x</td>\n",
              "      <td>sCTX5</td>\n",
              "      <td>9.0</td>\n",
              "      <td>no treatment</td>\n",
              "      <td>ng/ml</td>\n",
              "      <td>1.175475</td>\n",
              "      <td>NaN</td>\n",
              "    </tr>\n",
              "    <tr>\n",
              "      <th>2</th>\n",
              "      <td>Brunetti et al., 2016</td>\n",
              "      <td>F</td>\n",
              "      <td>Health age match</td>\n",
              "      <td>NaN</td>\n",
              "      <td>x</td>\n",
              "      <td>sCTX5</td>\n",
              "      <td>6.0</td>\n",
              "      <td>no treatment</td>\n",
              "      <td>ng/ml</td>\n",
              "      <td>1.876152</td>\n",
              "      <td>NaN</td>\n",
              "    </tr>\n",
              "    <tr>\n",
              "      <th>3</th>\n",
              "      <td>Brunetti et al., 2016</td>\n",
              "      <td>F</td>\n",
              "      <td>Health age match</td>\n",
              "      <td>NaN</td>\n",
              "      <td>x</td>\n",
              "      <td>sCTX5</td>\n",
              "      <td>4.0</td>\n",
              "      <td>no treatment</td>\n",
              "      <td>ng/ml</td>\n",
              "      <td>1.738619</td>\n",
              "      <td>NaN</td>\n",
              "    </tr>\n",
              "    <tr>\n",
              "      <th>4</th>\n",
              "      <td>Brunetti et al., 2016</td>\n",
              "      <td>M</td>\n",
              "      <td>Health age match</td>\n",
              "      <td>NaN</td>\n",
              "      <td>x</td>\n",
              "      <td>sCTX5</td>\n",
              "      <td>9.0</td>\n",
              "      <td>no treatment</td>\n",
              "      <td>ng/ml</td>\n",
              "      <td>1.487993</td>\n",
              "      <td>NaN</td>\n",
              "    </tr>\n",
              "    <tr>\n",
              "      <th>...</th>\n",
              "      <td>...</td>\n",
              "      <td>...</td>\n",
              "      <td>...</td>\n",
              "      <td>...</td>\n",
              "      <td>...</td>\n",
              "      <td>...</td>\n",
              "      <td>...</td>\n",
              "      <td>...</td>\n",
              "      <td>...</td>\n",
              "      <td>...</td>\n",
              "      <td>...</td>\n",
              "    </tr>\n",
              "    <tr>\n",
              "      <th>1191</th>\n",
              "      <td>Pressac et al., 2002</td>\n",
              "      <td>M</td>\n",
              "      <td>I, III, IV</td>\n",
              "      <td>yes, ref control?</td>\n",
              "      <td>x</td>\n",
              "      <td>uCTX</td>\n",
              "      <td>3.4</td>\n",
              "      <td>pretreatment</td>\n",
              "      <td>T-score</td>\n",
              "      <td>NaN</td>\n",
              "      <td>-0.995935</td>\n",
              "    </tr>\n",
              "    <tr>\n",
              "      <th>1192</th>\n",
              "      <td>Pressac et al., 2002</td>\n",
              "      <td>F</td>\n",
              "      <td>I, III, IV</td>\n",
              "      <td>yes, ref control?</td>\n",
              "      <td>x</td>\n",
              "      <td>uCTX</td>\n",
              "      <td>3.4</td>\n",
              "      <td>pretreatment</td>\n",
              "      <td>T-score</td>\n",
              "      <td>NaN</td>\n",
              "      <td>-0.569106</td>\n",
              "    </tr>\n",
              "    <tr>\n",
              "      <th>1193</th>\n",
              "      <td>Pressac et al., 2002</td>\n",
              "      <td>F</td>\n",
              "      <td>I, III, IV</td>\n",
              "      <td>yes, ref control?</td>\n",
              "      <td>x</td>\n",
              "      <td>uCTX</td>\n",
              "      <td>3.4</td>\n",
              "      <td>pretreatment</td>\n",
              "      <td>T-score</td>\n",
              "      <td>NaN</td>\n",
              "      <td>0.426829</td>\n",
              "    </tr>\n",
              "    <tr>\n",
              "      <th>1194</th>\n",
              "      <td>Pressac et al., 2002</td>\n",
              "      <td>F</td>\n",
              "      <td>I, III, IV</td>\n",
              "      <td>yes, ref control?</td>\n",
              "      <td>x</td>\n",
              "      <td>uCTX</td>\n",
              "      <td>3.4</td>\n",
              "      <td>pretreatment</td>\n",
              "      <td>T-score</td>\n",
              "      <td>NaN</td>\n",
              "      <td>3.794038</td>\n",
              "    </tr>\n",
              "    <tr>\n",
              "      <th>1195</th>\n",
              "      <td>Pressac et al., 2002</td>\n",
              "      <td>F</td>\n",
              "      <td>I, III, IV</td>\n",
              "      <td>yes, ref control?</td>\n",
              "      <td>x</td>\n",
              "      <td>uCTX</td>\n",
              "      <td>3.4</td>\n",
              "      <td>pretreatment</td>\n",
              "      <td>T-score</td>\n",
              "      <td>NaN</td>\n",
              "      <td>5.216802</td>\n",
              "    </tr>\n",
              "  </tbody>\n",
              "</table>\n",
              "<p>1196 rows × 11 columns</p>\n",
              "</div>\n",
              "      <button class=\"colab-df-convert\" onclick=\"convertToInteractive('df-72276e72-eb55-424e-875c-7fbefc9879d1')\"\n",
              "              title=\"Convert this dataframe to an interactive table.\"\n",
              "              style=\"display:none;\">\n",
              "        \n",
              "  <svg xmlns=\"http://www.w3.org/2000/svg\" height=\"24px\"viewBox=\"0 0 24 24\"\n",
              "       width=\"24px\">\n",
              "    <path d=\"M0 0h24v24H0V0z\" fill=\"none\"/>\n",
              "    <path d=\"M18.56 5.44l.94 2.06.94-2.06 2.06-.94-2.06-.94-.94-2.06-.94 2.06-2.06.94zm-11 1L8.5 8.5l.94-2.06 2.06-.94-2.06-.94L8.5 2.5l-.94 2.06-2.06.94zm10 10l.94 2.06.94-2.06 2.06-.94-2.06-.94-.94-2.06-.94 2.06-2.06.94z\"/><path d=\"M17.41 7.96l-1.37-1.37c-.4-.4-.92-.59-1.43-.59-.52 0-1.04.2-1.43.59L10.3 9.45l-7.72 7.72c-.78.78-.78 2.05 0 2.83L4 21.41c.39.39.9.59 1.41.59.51 0 1.02-.2 1.41-.59l7.78-7.78 2.81-2.81c.8-.78.8-2.07 0-2.86zM5.41 20L4 18.59l7.72-7.72 1.47 1.35L5.41 20z\"/>\n",
              "  </svg>\n",
              "      </button>\n",
              "      \n",
              "  <style>\n",
              "    .colab-df-container {\n",
              "      display:flex;\n",
              "      flex-wrap:wrap;\n",
              "      gap: 12px;\n",
              "    }\n",
              "\n",
              "    .colab-df-convert {\n",
              "      background-color: #E8F0FE;\n",
              "      border: none;\n",
              "      border-radius: 50%;\n",
              "      cursor: pointer;\n",
              "      display: none;\n",
              "      fill: #1967D2;\n",
              "      height: 32px;\n",
              "      padding: 0 0 0 0;\n",
              "      width: 32px;\n",
              "    }\n",
              "\n",
              "    .colab-df-convert:hover {\n",
              "      background-color: #E2EBFA;\n",
              "      box-shadow: 0px 1px 2px rgba(60, 64, 67, 0.3), 0px 1px 3px 1px rgba(60, 64, 67, 0.15);\n",
              "      fill: #174EA6;\n",
              "    }\n",
              "\n",
              "    [theme=dark] .colab-df-convert {\n",
              "      background-color: #3B4455;\n",
              "      fill: #D2E3FC;\n",
              "    }\n",
              "\n",
              "    [theme=dark] .colab-df-convert:hover {\n",
              "      background-color: #434B5C;\n",
              "      box-shadow: 0px 1px 3px 1px rgba(0, 0, 0, 0.15);\n",
              "      filter: drop-shadow(0px 1px 2px rgba(0, 0, 0, 0.3));\n",
              "      fill: #FFFFFF;\n",
              "    }\n",
              "  </style>\n",
              "\n",
              "      <script>\n",
              "        const buttonEl =\n",
              "          document.querySelector('#df-72276e72-eb55-424e-875c-7fbefc9879d1 button.colab-df-convert');\n",
              "        buttonEl.style.display =\n",
              "          google.colab.kernel.accessAllowed ? 'block' : 'none';\n",
              "\n",
              "        async function convertToInteractive(key) {\n",
              "          const element = document.querySelector('#df-72276e72-eb55-424e-875c-7fbefc9879d1');\n",
              "          const dataTable =\n",
              "            await google.colab.kernel.invokeFunction('convertToInteractive',\n",
              "                                                     [key], {});\n",
              "          if (!dataTable) return;\n",
              "\n",
              "          const docLinkHtml = 'Like what you see? Visit the ' +\n",
              "            '<a target=\"_blank\" href=https://colab.research.google.com/notebooks/data_table.ipynb>data table notebook</a>'\n",
              "            + ' to learn more about interactive tables.';\n",
              "          element.innerHTML = '';\n",
              "          dataTable['output_type'] = 'display_data';\n",
              "          await google.colab.output.renderOutput(dataTable, element);\n",
              "          const docLink = document.createElement('div');\n",
              "          docLink.innerHTML = docLinkHtml;\n",
              "          element.appendChild(docLink);\n",
              "        }\n",
              "      </script>\n",
              "    </div>\n",
              "  </div>\n",
              "  "
            ]
          },
          "metadata": {},
          "execution_count": 521
        }
      ]
    },
    {
      "cell_type": "markdown",
      "source": [
        "## Outcome conversion (pending)"
      ],
      "metadata": {
        "id": "bVgZPZ39y2dV"
      }
    },
    {
      "cell_type": "code",
      "source": [
        "# [ ] What should we do here?\n",
        "# 776.87 g/mol * (1 mole / 10^-12 picomole)\n",
        "# et cetera?\n",
        "df_simulated.outcome_unit.unique()"
      ],
      "metadata": {
        "colab": {
          "base_uri": "https://localhost:8080/"
        },
        "id": "HgKYOVhnpncD",
        "outputId": "103090e7-f2c0-4d02-946b-6d8501993dfb"
      },
      "execution_count": 522,
      "outputs": [
        {
          "output_type": "execute_result",
          "data": {
            "text/plain": [
              "array(['ng/ml', 'picomole/micromole CR', 'nmol/mmol Cr ', 'nmolBCE/l ',\n",
              "       'ug/g Cr', 'mmol/mmol Cr', 'nmol/mmol CR', 'nmol BCE/mmol Cr ',\n",
              "       'nM/mM Cr', ' ng/ml', 'T-score'], dtype=object)"
            ]
          },
          "metadata": {},
          "execution_count": 522
        }
      ]
    },
    {
      "cell_type": "markdown",
      "source": [
        "## $T$-score (pending)"
      ],
      "metadata": {
        "id": "E0G4LN6Uy6m8"
      }
    },
    {
      "cell_type": "code",
      "source": [
        "# [ ] What should we do with t_score rows?\n",
        "df_simulated[~df_simulated.t_score.isna()]"
      ],
      "metadata": {
        "colab": {
          "base_uri": "https://localhost:8080/",
          "height": 269
        },
        "id": "ux3J4X_mrC0S",
        "outputId": "709f03dc-b6aa-4894-912f-73ec8c95ed06"
      },
      "execution_count": 523,
      "outputs": [
        {
          "output_type": "execute_result",
          "data": {
            "text/plain": [
              "                    author gender      health            control intervention  \\\n",
              "1189  Pressac et al., 2002      M  I, III, IV  yes, ref control?            x   \n",
              "1190  Pressac et al., 2002      M  I, III, IV  yes, ref control?            x   \n",
              "1191  Pressac et al., 2002      M  I, III, IV  yes, ref control?            x   \n",
              "1192  Pressac et al., 2002      F  I, III, IV  yes, ref control?            x   \n",
              "1193  Pressac et al., 2002      F  I, III, IV  yes, ref control?            x   \n",
              "1194  Pressac et al., 2002      F  I, III, IV  yes, ref control?            x   \n",
              "1195  Pressac et al., 2002      F  I, III, IV  yes, ref control?            x   \n",
              "\n",
              "     marker  age     timepoint outcome_unit  value   t_score  \n",
              "1189   uCTX  3.4  pretreatment      T-score    NaN -2.228997  \n",
              "1190   uCTX  3.4  pretreatment      T-score    NaN -1.470190  \n",
              "1191   uCTX  3.4  pretreatment      T-score    NaN -0.995935  \n",
              "1192   uCTX  3.4  pretreatment      T-score    NaN -0.569106  \n",
              "1193   uCTX  3.4  pretreatment      T-score    NaN  0.426829  \n",
              "1194   uCTX  3.4  pretreatment      T-score    NaN  3.794038  \n",
              "1195   uCTX  3.4  pretreatment      T-score    NaN  5.216802  "
            ],
            "text/html": [
              "\n",
              "  <div id=\"df-ae5bf9bd-3b39-4900-855a-64222c157a93\">\n",
              "    <div class=\"colab-df-container\">\n",
              "      <div>\n",
              "<style scoped>\n",
              "    .dataframe tbody tr th:only-of-type {\n",
              "        vertical-align: middle;\n",
              "    }\n",
              "\n",
              "    .dataframe tbody tr th {\n",
              "        vertical-align: top;\n",
              "    }\n",
              "\n",
              "    .dataframe thead th {\n",
              "        text-align: right;\n",
              "    }\n",
              "</style>\n",
              "<table border=\"1\" class=\"dataframe\">\n",
              "  <thead>\n",
              "    <tr style=\"text-align: right;\">\n",
              "      <th></th>\n",
              "      <th>author</th>\n",
              "      <th>gender</th>\n",
              "      <th>health</th>\n",
              "      <th>control</th>\n",
              "      <th>intervention</th>\n",
              "      <th>marker</th>\n",
              "      <th>age</th>\n",
              "      <th>timepoint</th>\n",
              "      <th>outcome_unit</th>\n",
              "      <th>value</th>\n",
              "      <th>t_score</th>\n",
              "    </tr>\n",
              "  </thead>\n",
              "  <tbody>\n",
              "    <tr>\n",
              "      <th>1189</th>\n",
              "      <td>Pressac et al., 2002</td>\n",
              "      <td>M</td>\n",
              "      <td>I, III, IV</td>\n",
              "      <td>yes, ref control?</td>\n",
              "      <td>x</td>\n",
              "      <td>uCTX</td>\n",
              "      <td>3.4</td>\n",
              "      <td>pretreatment</td>\n",
              "      <td>T-score</td>\n",
              "      <td>NaN</td>\n",
              "      <td>-2.228997</td>\n",
              "    </tr>\n",
              "    <tr>\n",
              "      <th>1190</th>\n",
              "      <td>Pressac et al., 2002</td>\n",
              "      <td>M</td>\n",
              "      <td>I, III, IV</td>\n",
              "      <td>yes, ref control?</td>\n",
              "      <td>x</td>\n",
              "      <td>uCTX</td>\n",
              "      <td>3.4</td>\n",
              "      <td>pretreatment</td>\n",
              "      <td>T-score</td>\n",
              "      <td>NaN</td>\n",
              "      <td>-1.470190</td>\n",
              "    </tr>\n",
              "    <tr>\n",
              "      <th>1191</th>\n",
              "      <td>Pressac et al., 2002</td>\n",
              "      <td>M</td>\n",
              "      <td>I, III, IV</td>\n",
              "      <td>yes, ref control?</td>\n",
              "      <td>x</td>\n",
              "      <td>uCTX</td>\n",
              "      <td>3.4</td>\n",
              "      <td>pretreatment</td>\n",
              "      <td>T-score</td>\n",
              "      <td>NaN</td>\n",
              "      <td>-0.995935</td>\n",
              "    </tr>\n",
              "    <tr>\n",
              "      <th>1192</th>\n",
              "      <td>Pressac et al., 2002</td>\n",
              "      <td>F</td>\n",
              "      <td>I, III, IV</td>\n",
              "      <td>yes, ref control?</td>\n",
              "      <td>x</td>\n",
              "      <td>uCTX</td>\n",
              "      <td>3.4</td>\n",
              "      <td>pretreatment</td>\n",
              "      <td>T-score</td>\n",
              "      <td>NaN</td>\n",
              "      <td>-0.569106</td>\n",
              "    </tr>\n",
              "    <tr>\n",
              "      <th>1193</th>\n",
              "      <td>Pressac et al., 2002</td>\n",
              "      <td>F</td>\n",
              "      <td>I, III, IV</td>\n",
              "      <td>yes, ref control?</td>\n",
              "      <td>x</td>\n",
              "      <td>uCTX</td>\n",
              "      <td>3.4</td>\n",
              "      <td>pretreatment</td>\n",
              "      <td>T-score</td>\n",
              "      <td>NaN</td>\n",
              "      <td>0.426829</td>\n",
              "    </tr>\n",
              "    <tr>\n",
              "      <th>1194</th>\n",
              "      <td>Pressac et al., 2002</td>\n",
              "      <td>F</td>\n",
              "      <td>I, III, IV</td>\n",
              "      <td>yes, ref control?</td>\n",
              "      <td>x</td>\n",
              "      <td>uCTX</td>\n",
              "      <td>3.4</td>\n",
              "      <td>pretreatment</td>\n",
              "      <td>T-score</td>\n",
              "      <td>NaN</td>\n",
              "      <td>3.794038</td>\n",
              "    </tr>\n",
              "    <tr>\n",
              "      <th>1195</th>\n",
              "      <td>Pressac et al., 2002</td>\n",
              "      <td>F</td>\n",
              "      <td>I, III, IV</td>\n",
              "      <td>yes, ref control?</td>\n",
              "      <td>x</td>\n",
              "      <td>uCTX</td>\n",
              "      <td>3.4</td>\n",
              "      <td>pretreatment</td>\n",
              "      <td>T-score</td>\n",
              "      <td>NaN</td>\n",
              "      <td>5.216802</td>\n",
              "    </tr>\n",
              "  </tbody>\n",
              "</table>\n",
              "</div>\n",
              "      <button class=\"colab-df-convert\" onclick=\"convertToInteractive('df-ae5bf9bd-3b39-4900-855a-64222c157a93')\"\n",
              "              title=\"Convert this dataframe to an interactive table.\"\n",
              "              style=\"display:none;\">\n",
              "        \n",
              "  <svg xmlns=\"http://www.w3.org/2000/svg\" height=\"24px\"viewBox=\"0 0 24 24\"\n",
              "       width=\"24px\">\n",
              "    <path d=\"M0 0h24v24H0V0z\" fill=\"none\"/>\n",
              "    <path d=\"M18.56 5.44l.94 2.06.94-2.06 2.06-.94-2.06-.94-.94-2.06-.94 2.06-2.06.94zm-11 1L8.5 8.5l.94-2.06 2.06-.94-2.06-.94L8.5 2.5l-.94 2.06-2.06.94zm10 10l.94 2.06.94-2.06 2.06-.94-2.06-.94-.94-2.06-.94 2.06-2.06.94z\"/><path d=\"M17.41 7.96l-1.37-1.37c-.4-.4-.92-.59-1.43-.59-.52 0-1.04.2-1.43.59L10.3 9.45l-7.72 7.72c-.78.78-.78 2.05 0 2.83L4 21.41c.39.39.9.59 1.41.59.51 0 1.02-.2 1.41-.59l7.78-7.78 2.81-2.81c.8-.78.8-2.07 0-2.86zM5.41 20L4 18.59l7.72-7.72 1.47 1.35L5.41 20z\"/>\n",
              "  </svg>\n",
              "      </button>\n",
              "      \n",
              "  <style>\n",
              "    .colab-df-container {\n",
              "      display:flex;\n",
              "      flex-wrap:wrap;\n",
              "      gap: 12px;\n",
              "    }\n",
              "\n",
              "    .colab-df-convert {\n",
              "      background-color: #E8F0FE;\n",
              "      border: none;\n",
              "      border-radius: 50%;\n",
              "      cursor: pointer;\n",
              "      display: none;\n",
              "      fill: #1967D2;\n",
              "      height: 32px;\n",
              "      padding: 0 0 0 0;\n",
              "      width: 32px;\n",
              "    }\n",
              "\n",
              "    .colab-df-convert:hover {\n",
              "      background-color: #E2EBFA;\n",
              "      box-shadow: 0px 1px 2px rgba(60, 64, 67, 0.3), 0px 1px 3px 1px rgba(60, 64, 67, 0.15);\n",
              "      fill: #174EA6;\n",
              "    }\n",
              "\n",
              "    [theme=dark] .colab-df-convert {\n",
              "      background-color: #3B4455;\n",
              "      fill: #D2E3FC;\n",
              "    }\n",
              "\n",
              "    [theme=dark] .colab-df-convert:hover {\n",
              "      background-color: #434B5C;\n",
              "      box-shadow: 0px 1px 3px 1px rgba(0, 0, 0, 0.15);\n",
              "      filter: drop-shadow(0px 1px 2px rgba(0, 0, 0, 0.3));\n",
              "      fill: #FFFFFF;\n",
              "    }\n",
              "  </style>\n",
              "\n",
              "      <script>\n",
              "        const buttonEl =\n",
              "          document.querySelector('#df-ae5bf9bd-3b39-4900-855a-64222c157a93 button.colab-df-convert');\n",
              "        buttonEl.style.display =\n",
              "          google.colab.kernel.accessAllowed ? 'block' : 'none';\n",
              "\n",
              "        async function convertToInteractive(key) {\n",
              "          const element = document.querySelector('#df-ae5bf9bd-3b39-4900-855a-64222c157a93');\n",
              "          const dataTable =\n",
              "            await google.colab.kernel.invokeFunction('convertToInteractive',\n",
              "                                                     [key], {});\n",
              "          if (!dataTable) return;\n",
              "\n",
              "          const docLinkHtml = 'Like what you see? Visit the ' +\n",
              "            '<a target=\"_blank\" href=https://colab.research.google.com/notebooks/data_table.ipynb>data table notebook</a>'\n",
              "            + ' to learn more about interactive tables.';\n",
              "          element.innerHTML = '';\n",
              "          dataTable['output_type'] = 'display_data';\n",
              "          await google.colab.output.renderOutput(dataTable, element);\n",
              "          const docLink = document.createElement('div');\n",
              "          docLink.innerHTML = docLinkHtml;\n",
              "          element.appendChild(docLink);\n",
              "        }\n",
              "      </script>\n",
              "    </div>\n",
              "  </div>\n",
              "  "
            ]
          },
          "metadata": {},
          "execution_count": 523
        }
      ]
    },
    {
      "cell_type": "code",
      "source": [
        "# Value is a number\n",
        "df_final = df_simulated[~df_simulated.value.isna()]\n",
        "df_final"
      ],
      "metadata": {
        "colab": {
          "base_uri": "https://localhost:8080/",
          "height": 424
        },
        "id": "vVmWf7s2rLG0",
        "outputId": "b0a4ce79-a7b4-4781-9131-946bc60ab820"
      },
      "execution_count": 524,
      "outputs": [
        {
          "output_type": "execute_result",
          "data": {
            "text/plain": [
              "                           author gender            health control  \\\n",
              "0           Brunetti et al., 2016      M  Health age match     NaN   \n",
              "1           Brunetti et al., 2016      M  Health age match     NaN   \n",
              "2           Brunetti et al., 2016      F  Health age match     NaN   \n",
              "3           Brunetti et al., 2016      F  Health age match     NaN   \n",
              "4           Brunetti et al., 2016      M  Health age match     NaN   \n",
              "...                           ...    ...               ...     ...   \n",
              "1172  Zacharin & Kanumakala, 2004      F              mild      no   \n",
              "1173  Zacharin & Kanumakala, 2004      F              mild      no   \n",
              "1174  Zacharin & Kanumakala, 2004      M              mild      no   \n",
              "1175  Zacharin & Kanumakala, 2004      F              mild      no   \n",
              "1176  Zacharin & Kanumakala, 2004      M              mild      no   \n",
              "\n",
              "     intervention marker   age     timepoint   outcome_unit      value  \\\n",
              "0               x  sCTX5  10.0  no treatment          ng/ml   2.287378   \n",
              "1               x  sCTX5   9.0  no treatment          ng/ml   1.175475   \n",
              "2               x  sCTX5   6.0  no treatment          ng/ml   1.876152   \n",
              "3               x  sCTX5   4.0  no treatment          ng/ml   1.738619   \n",
              "4               x  sCTX5   9.0  no treatment          ng/ml   1.487993   \n",
              "...           ...    ...   ...           ...            ...        ...   \n",
              "1172            x   uDPD  12.0      baseline  nmol/mmol Cr   21.173902   \n",
              "1173            x   uDPD  12.0      baseline  nmol/mmol Cr   33.446417   \n",
              "1174            x   uDPD  12.0      baseline  nmol/mmol Cr    0.817329   \n",
              "1175            x   uDPD  12.0      baseline  nmol/mmol Cr    8.820201   \n",
              "1176            x   uDPD  12.0      baseline  nmol/mmol Cr   36.581864   \n",
              "\n",
              "      t_score  \n",
              "0         NaN  \n",
              "1         NaN  \n",
              "2         NaN  \n",
              "3         NaN  \n",
              "4         NaN  \n",
              "...       ...  \n",
              "1172      NaN  \n",
              "1173      NaN  \n",
              "1174      NaN  \n",
              "1175      NaN  \n",
              "1176      NaN  \n",
              "\n",
              "[1149 rows x 11 columns]"
            ],
            "text/html": [
              "\n",
              "  <div id=\"df-85890f7a-69b4-45f9-9a99-b602f772344f\">\n",
              "    <div class=\"colab-df-container\">\n",
              "      <div>\n",
              "<style scoped>\n",
              "    .dataframe tbody tr th:only-of-type {\n",
              "        vertical-align: middle;\n",
              "    }\n",
              "\n",
              "    .dataframe tbody tr th {\n",
              "        vertical-align: top;\n",
              "    }\n",
              "\n",
              "    .dataframe thead th {\n",
              "        text-align: right;\n",
              "    }\n",
              "</style>\n",
              "<table border=\"1\" class=\"dataframe\">\n",
              "  <thead>\n",
              "    <tr style=\"text-align: right;\">\n",
              "      <th></th>\n",
              "      <th>author</th>\n",
              "      <th>gender</th>\n",
              "      <th>health</th>\n",
              "      <th>control</th>\n",
              "      <th>intervention</th>\n",
              "      <th>marker</th>\n",
              "      <th>age</th>\n",
              "      <th>timepoint</th>\n",
              "      <th>outcome_unit</th>\n",
              "      <th>value</th>\n",
              "      <th>t_score</th>\n",
              "    </tr>\n",
              "  </thead>\n",
              "  <tbody>\n",
              "    <tr>\n",
              "      <th>0</th>\n",
              "      <td>Brunetti et al., 2016</td>\n",
              "      <td>M</td>\n",
              "      <td>Health age match</td>\n",
              "      <td>NaN</td>\n",
              "      <td>x</td>\n",
              "      <td>sCTX5</td>\n",
              "      <td>10.0</td>\n",
              "      <td>no treatment</td>\n",
              "      <td>ng/ml</td>\n",
              "      <td>2.287378</td>\n",
              "      <td>NaN</td>\n",
              "    </tr>\n",
              "    <tr>\n",
              "      <th>1</th>\n",
              "      <td>Brunetti et al., 2016</td>\n",
              "      <td>M</td>\n",
              "      <td>Health age match</td>\n",
              "      <td>NaN</td>\n",
              "      <td>x</td>\n",
              "      <td>sCTX5</td>\n",
              "      <td>9.0</td>\n",
              "      <td>no treatment</td>\n",
              "      <td>ng/ml</td>\n",
              "      <td>1.175475</td>\n",
              "      <td>NaN</td>\n",
              "    </tr>\n",
              "    <tr>\n",
              "      <th>2</th>\n",
              "      <td>Brunetti et al., 2016</td>\n",
              "      <td>F</td>\n",
              "      <td>Health age match</td>\n",
              "      <td>NaN</td>\n",
              "      <td>x</td>\n",
              "      <td>sCTX5</td>\n",
              "      <td>6.0</td>\n",
              "      <td>no treatment</td>\n",
              "      <td>ng/ml</td>\n",
              "      <td>1.876152</td>\n",
              "      <td>NaN</td>\n",
              "    </tr>\n",
              "    <tr>\n",
              "      <th>3</th>\n",
              "      <td>Brunetti et al., 2016</td>\n",
              "      <td>F</td>\n",
              "      <td>Health age match</td>\n",
              "      <td>NaN</td>\n",
              "      <td>x</td>\n",
              "      <td>sCTX5</td>\n",
              "      <td>4.0</td>\n",
              "      <td>no treatment</td>\n",
              "      <td>ng/ml</td>\n",
              "      <td>1.738619</td>\n",
              "      <td>NaN</td>\n",
              "    </tr>\n",
              "    <tr>\n",
              "      <th>4</th>\n",
              "      <td>Brunetti et al., 2016</td>\n",
              "      <td>M</td>\n",
              "      <td>Health age match</td>\n",
              "      <td>NaN</td>\n",
              "      <td>x</td>\n",
              "      <td>sCTX5</td>\n",
              "      <td>9.0</td>\n",
              "      <td>no treatment</td>\n",
              "      <td>ng/ml</td>\n",
              "      <td>1.487993</td>\n",
              "      <td>NaN</td>\n",
              "    </tr>\n",
              "    <tr>\n",
              "      <th>...</th>\n",
              "      <td>...</td>\n",
              "      <td>...</td>\n",
              "      <td>...</td>\n",
              "      <td>...</td>\n",
              "      <td>...</td>\n",
              "      <td>...</td>\n",
              "      <td>...</td>\n",
              "      <td>...</td>\n",
              "      <td>...</td>\n",
              "      <td>...</td>\n",
              "      <td>...</td>\n",
              "    </tr>\n",
              "    <tr>\n",
              "      <th>1172</th>\n",
              "      <td>Zacharin &amp; Kanumakala, 2004</td>\n",
              "      <td>F</td>\n",
              "      <td>mild</td>\n",
              "      <td>no</td>\n",
              "      <td>x</td>\n",
              "      <td>uDPD</td>\n",
              "      <td>12.0</td>\n",
              "      <td>baseline</td>\n",
              "      <td>nmol/mmol Cr</td>\n",
              "      <td>21.173902</td>\n",
              "      <td>NaN</td>\n",
              "    </tr>\n",
              "    <tr>\n",
              "      <th>1173</th>\n",
              "      <td>Zacharin &amp; Kanumakala, 2004</td>\n",
              "      <td>F</td>\n",
              "      <td>mild</td>\n",
              "      <td>no</td>\n",
              "      <td>x</td>\n",
              "      <td>uDPD</td>\n",
              "      <td>12.0</td>\n",
              "      <td>baseline</td>\n",
              "      <td>nmol/mmol Cr</td>\n",
              "      <td>33.446417</td>\n",
              "      <td>NaN</td>\n",
              "    </tr>\n",
              "    <tr>\n",
              "      <th>1174</th>\n",
              "      <td>Zacharin &amp; Kanumakala, 2004</td>\n",
              "      <td>M</td>\n",
              "      <td>mild</td>\n",
              "      <td>no</td>\n",
              "      <td>x</td>\n",
              "      <td>uDPD</td>\n",
              "      <td>12.0</td>\n",
              "      <td>baseline</td>\n",
              "      <td>nmol/mmol Cr</td>\n",
              "      <td>0.817329</td>\n",
              "      <td>NaN</td>\n",
              "    </tr>\n",
              "    <tr>\n",
              "      <th>1175</th>\n",
              "      <td>Zacharin &amp; Kanumakala, 2004</td>\n",
              "      <td>F</td>\n",
              "      <td>mild</td>\n",
              "      <td>no</td>\n",
              "      <td>x</td>\n",
              "      <td>uDPD</td>\n",
              "      <td>12.0</td>\n",
              "      <td>baseline</td>\n",
              "      <td>nmol/mmol Cr</td>\n",
              "      <td>8.820201</td>\n",
              "      <td>NaN</td>\n",
              "    </tr>\n",
              "    <tr>\n",
              "      <th>1176</th>\n",
              "      <td>Zacharin &amp; Kanumakala, 2004</td>\n",
              "      <td>M</td>\n",
              "      <td>mild</td>\n",
              "      <td>no</td>\n",
              "      <td>x</td>\n",
              "      <td>uDPD</td>\n",
              "      <td>12.0</td>\n",
              "      <td>baseline</td>\n",
              "      <td>nmol/mmol Cr</td>\n",
              "      <td>36.581864</td>\n",
              "      <td>NaN</td>\n",
              "    </tr>\n",
              "  </tbody>\n",
              "</table>\n",
              "<p>1149 rows × 11 columns</p>\n",
              "</div>\n",
              "      <button class=\"colab-df-convert\" onclick=\"convertToInteractive('df-85890f7a-69b4-45f9-9a99-b602f772344f')\"\n",
              "              title=\"Convert this dataframe to an interactive table.\"\n",
              "              style=\"display:none;\">\n",
              "        \n",
              "  <svg xmlns=\"http://www.w3.org/2000/svg\" height=\"24px\"viewBox=\"0 0 24 24\"\n",
              "       width=\"24px\">\n",
              "    <path d=\"M0 0h24v24H0V0z\" fill=\"none\"/>\n",
              "    <path d=\"M18.56 5.44l.94 2.06.94-2.06 2.06-.94-2.06-.94-.94-2.06-.94 2.06-2.06.94zm-11 1L8.5 8.5l.94-2.06 2.06-.94-2.06-.94L8.5 2.5l-.94 2.06-2.06.94zm10 10l.94 2.06.94-2.06 2.06-.94-2.06-.94-.94-2.06-.94 2.06-2.06.94z\"/><path d=\"M17.41 7.96l-1.37-1.37c-.4-.4-.92-.59-1.43-.59-.52 0-1.04.2-1.43.59L10.3 9.45l-7.72 7.72c-.78.78-.78 2.05 0 2.83L4 21.41c.39.39.9.59 1.41.59.51 0 1.02-.2 1.41-.59l7.78-7.78 2.81-2.81c.8-.78.8-2.07 0-2.86zM5.41 20L4 18.59l7.72-7.72 1.47 1.35L5.41 20z\"/>\n",
              "  </svg>\n",
              "      </button>\n",
              "      \n",
              "  <style>\n",
              "    .colab-df-container {\n",
              "      display:flex;\n",
              "      flex-wrap:wrap;\n",
              "      gap: 12px;\n",
              "    }\n",
              "\n",
              "    .colab-df-convert {\n",
              "      background-color: #E8F0FE;\n",
              "      border: none;\n",
              "      border-radius: 50%;\n",
              "      cursor: pointer;\n",
              "      display: none;\n",
              "      fill: #1967D2;\n",
              "      height: 32px;\n",
              "      padding: 0 0 0 0;\n",
              "      width: 32px;\n",
              "    }\n",
              "\n",
              "    .colab-df-convert:hover {\n",
              "      background-color: #E2EBFA;\n",
              "      box-shadow: 0px 1px 2px rgba(60, 64, 67, 0.3), 0px 1px 3px 1px rgba(60, 64, 67, 0.15);\n",
              "      fill: #174EA6;\n",
              "    }\n",
              "\n",
              "    [theme=dark] .colab-df-convert {\n",
              "      background-color: #3B4455;\n",
              "      fill: #D2E3FC;\n",
              "    }\n",
              "\n",
              "    [theme=dark] .colab-df-convert:hover {\n",
              "      background-color: #434B5C;\n",
              "      box-shadow: 0px 1px 3px 1px rgba(0, 0, 0, 0.15);\n",
              "      filter: drop-shadow(0px 1px 2px rgba(0, 0, 0, 0.3));\n",
              "      fill: #FFFFFF;\n",
              "    }\n",
              "  </style>\n",
              "\n",
              "      <script>\n",
              "        const buttonEl =\n",
              "          document.querySelector('#df-85890f7a-69b4-45f9-9a99-b602f772344f button.colab-df-convert');\n",
              "        buttonEl.style.display =\n",
              "          google.colab.kernel.accessAllowed ? 'block' : 'none';\n",
              "\n",
              "        async function convertToInteractive(key) {\n",
              "          const element = document.querySelector('#df-85890f7a-69b4-45f9-9a99-b602f772344f');\n",
              "          const dataTable =\n",
              "            await google.colab.kernel.invokeFunction('convertToInteractive',\n",
              "                                                     [key], {});\n",
              "          if (!dataTable) return;\n",
              "\n",
              "          const docLinkHtml = 'Like what you see? Visit the ' +\n",
              "            '<a target=\"_blank\" href=https://colab.research.google.com/notebooks/data_table.ipynb>data table notebook</a>'\n",
              "            + ' to learn more about interactive tables.';\n",
              "          element.innerHTML = '';\n",
              "          dataTable['output_type'] = 'display_data';\n",
              "          await google.colab.output.renderOutput(dataTable, element);\n",
              "          const docLink = document.createElement('div');\n",
              "          docLink.innerHTML = docLinkHtml;\n",
              "          element.appendChild(docLink);\n",
              "        }\n",
              "      </script>\n",
              "    </div>\n",
              "  </div>\n",
              "  "
            ]
          },
          "metadata": {},
          "execution_count": 524
        }
      ]
    },
    {
      "cell_type": "markdown",
      "source": [
        "## Data description"
      ],
      "metadata": {
        "id": "gE8beI1bzBqU"
      }
    },
    {
      "cell_type": "markdown",
      "source": [
        "### Gender"
      ],
      "metadata": {
        "id": "KDyJQbKvw2S_"
      }
    },
    {
      "cell_type": "code",
      "source": [
        "df_final.gender.unique()"
      ],
      "metadata": {
        "colab": {
          "base_uri": "https://localhost:8080/"
        },
        "id": "RptBuDbDwZrx",
        "outputId": "f5cab4b7-6f02-4133-fca1-3c9fe7beed39"
      },
      "execution_count": 525,
      "outputs": [
        {
          "output_type": "execute_result",
          "data": {
            "text/plain": [
              "array(['M', 'F'], dtype=object)"
            ]
          },
          "metadata": {},
          "execution_count": 525
        }
      ]
    },
    {
      "cell_type": "code",
      "source": [
        "gender_freq = df_final.groupby('gender').size()\n",
        "plt.figure(facecolor='white')\n",
        "plt.pie(gender_freq, labels = gender_freq.index, autopct='%1.1f%%')\n",
        "plt.show()"
      ],
      "metadata": {
        "colab": {
          "base_uri": "https://localhost:8080/",
          "height": 248
        },
        "id": "NltILARwwTJz",
        "outputId": "ea939748-6d11-4d2c-9927-7935a9bd9c16"
      },
      "execution_count": 526,
      "outputs": [
        {
          "output_type": "display_data",
          "data": {
            "text/plain": [
              "<Figure size 432x288 with 1 Axes>"
            ],
            "image/png": "[encoded data removed]"
          },
          "metadata": {}
        }
      ]
    },
    {
      "cell_type": "markdown",
      "source": [
        "### Age"
      ],
      "metadata": {
        "id": "FbdMSQzgw4bt"
      }
    },
    {
      "cell_type": "code",
      "source": [
        "plt.figure()\n",
        "plt.hist(df_final.age)\n",
        "plt.ylabel('Frequency')\n",
        "plt.xlabel('Age (years)')\n",
        "plt.show()"
      ],
      "metadata": {
        "colab": {
          "base_uri": "https://localhost:8080/",
          "height": 279
        },
        "id": "h9BElvm2vyf2",
        "outputId": "c8df2e4c-3676-48c6-ed8c-8d3fe36ee2de"
      },
      "execution_count": 527,
      "outputs": [
        {
          "output_type": "display_data",
          "data": {
            "text/plain": [
              "<Figure size 432x288 with 1 Axes>"
            ],
            "image/png": "[encoded data removed]"
          },
          "metadata": {
            "needs_background": "light"
          }
        }
      ]
    },
    {
      "cell_type": "markdown",
      "source": [
        "### Control"
      ],
      "metadata": {
        "id": "s8WKzO7Lw9Y9"
      }
    },
    {
      "cell_type": "code",
      "source": [
        "df_final.control.unique()"
      ],
      "metadata": {
        "colab": {
          "base_uri": "https://localhost:8080/"
        },
        "id": "1uocQssMsiC0",
        "outputId": "3771c60f-7bba-45b6-8b27-8b32e73906fd"
      },
      "execution_count": 528,
      "outputs": [
        {
          "output_type": "execute_result",
          "data": {
            "text/plain": [
              "array([nan, 'no ', 'no (Brunetti 2016?)', 'no', 'yes',\n",
              "       'yes, ref control?'], dtype=object)"
            ]
          },
          "metadata": {},
          "execution_count": 528
        }
      ]
    },
    {
      "cell_type": "code",
      "source": [
        "df_final.loc[(df_final.control == 'no ') | (df_final.control == 'no (Brunetti 2016?)'), 'control'] = 'no'\n",
        "df_final.loc[df_final.control == 'yes, ref control?', 'control'] = 'yes'\n",
        "df_final.control.unique()"
      ],
      "metadata": {
        "colab": {
          "base_uri": "https://localhost:8080/"
        },
        "id": "TC9EOToDsqYl",
        "outputId": "b0b83302-37b1-42a2-b4cc-d8ad70f3a148"
      },
      "execution_count": 529,
      "outputs": [
        {
          "output_type": "execute_result",
          "data": {
            "text/plain": [
              "array([nan, 'no', 'yes'], dtype=object)"
            ]
          },
          "metadata": {},
          "execution_count": 529
        }
      ]
    },
    {
      "cell_type": "code",
      "source": [
        "control_freq = df_final.groupby('control').size()\n",
        "control_freq"
      ],
      "metadata": {
        "colab": {
          "base_uri": "https://localhost:8080/"
        },
        "id": "zcBdctkQwy_b",
        "outputId": "521fc209-a06d-41b9-abf8-5b6a1d9ca77d"
      },
      "execution_count": 530,
      "outputs": [
        {
          "output_type": "execute_result",
          "data": {
            "text/plain": [
              "control\n",
              "no     99\n",
              "yes    62\n",
              "dtype: int64"
            ]
          },
          "metadata": {},
          "execution_count": 530
        }
      ]
    },
    {
      "cell_type": "code",
      "source": [
        "# nans\n",
        "df_final.control.isna().count()"
      ],
      "metadata": {
        "colab": {
          "base_uri": "https://localhost:8080/"
        },
        "id": "2mOZxd52tFbu",
        "outputId": "6ebfb499-5e33-423f-e2e8-58886c16d772"
      },
      "execution_count": 531,
      "outputs": [
        {
          "output_type": "execute_result",
          "data": {
            "text/plain": [
              "1149"
            ]
          },
          "metadata": {},
          "execution_count": 531
        }
      ]
    },
    {
      "cell_type": "code",
      "source": [
        "nan_series = pd.Series(df_final.control.isna().count(), index = ['nan'])\n",
        "nan_series"
      ],
      "metadata": {
        "colab": {
          "base_uri": "https://localhost:8080/"
        },
        "id": "DklyclM2umlQ",
        "outputId": "6e10078e-8cf8-48c3-d26a-e84f59ee715e"
      },
      "execution_count": 532,
      "outputs": [
        {
          "output_type": "execute_result",
          "data": {
            "text/plain": [
              "nan    1149\n",
              "dtype: int64"
            ]
          },
          "metadata": {},
          "execution_count": 532
        }
      ]
    },
    {
      "cell_type": "code",
      "source": [
        "control_freq = pd.concat([control_freq, nan_series])\n",
        "control_freq"
      ],
      "metadata": {
        "colab": {
          "base_uri": "https://localhost:8080/"
        },
        "id": "535zU7oBudgV",
        "outputId": "027e8ae1-841d-49d2-b756-19aed75222f9"
      },
      "execution_count": 533,
      "outputs": [
        {
          "output_type": "execute_result",
          "data": {
            "text/plain": [
              "no       99\n",
              "yes      62\n",
              "nan    1149\n",
              "dtype: int64"
            ]
          },
          "metadata": {},
          "execution_count": 533
        }
      ]
    },
    {
      "cell_type": "code",
      "source": [
        "plt.figure(facecolor='white')\n",
        "plt.pie(control_freq, labels = control_freq.index, autopct='%1.1f%%')\n",
        "plt.show()"
      ],
      "metadata": {
        "colab": {
          "base_uri": "https://localhost:8080/",
          "height": 248
        },
        "id": "W1gU5t8HryG6",
        "outputId": "81096c2c-a39b-4309-f43d-bb919c301f4d"
      },
      "execution_count": 534,
      "outputs": [
        {
          "output_type": "display_data",
          "data": {
            "text/plain": [
              "<Figure size 432x288 with 1 Axes>"
            ],
            "image/png": "[encoded data removed]"
          },
          "metadata": {}
        }
      ]
    },
    {
      "cell_type": "markdown",
      "source": [
        "### Marker"
      ],
      "metadata": {
        "id": "CxiRFl8kxa3M"
      }
    },
    {
      "cell_type": "code",
      "source": [
        "marker_freq = df_final.groupby('marker').size()\n",
        "marker_freq.sort_values(ascending = False, inplace = True)\n",
        "marker_freq"
      ],
      "metadata": {
        "colab": {
          "base_uri": "https://localhost:8080/"
        },
        "id": "wViCrYXOu7Pe",
        "outputId": "99b0a517-00bf-4d59-ac63-961624cb12ca"
      },
      "execution_count": 535,
      "outputs": [
        {
          "output_type": "execute_result",
          "data": {
            "text/plain": [
              "marker\n",
              "uNTX      1011\n",
              "sNTX        36\n",
              "uDPD        27\n",
              "sCTX5       21\n",
              "sCTX15      18\n",
              "sCTX6       18\n",
              "sCTX16      12\n",
              "sCTX17       6\n",
              "dtype: int64"
            ]
          },
          "metadata": {},
          "execution_count": 535
        }
      ]
    },
    {
      "cell_type": "code",
      "source": [
        "plt.figure()\n",
        "plt.bar(marker_freq.index, marker_freq)\n",
        "plt.show()"
      ],
      "metadata": {
        "colab": {
          "base_uri": "https://localhost:8080/",
          "height": 265
        },
        "id": "k2jkOni9u4R3",
        "outputId": "8396b163-6f95-421e-9853-812b1ae4c58b"
      },
      "execution_count": 536,
      "outputs": [
        {
          "output_type": "display_data",
          "data": {
            "text/plain": [
              "<Figure size 432x288 with 1 Axes>"
            ],
            "image/png": "[encoded data removed]"
          },
          "metadata": {
            "needs_background": "light"
          }
        }
      ]
    },
    {
      "cell_type": "markdown",
      "source": [
        "### Value (multiple units 😅)"
      ],
      "metadata": {
        "id": "kIC018AsxiJJ"
      }
    },
    {
      "cell_type": "code",
      "source": [
        "plt.figure()\n",
        "plt.hist(df_final.value)\n",
        "plt.ylabel('Frequency')\n",
        "plt.xlabel('Value (multiple units)')\n",
        "plt.show()"
      ],
      "metadata": {
        "colab": {
          "base_uri": "https://localhost:8080/",
          "height": 279
        },
        "id": "TbzCBdVCrdCU",
        "outputId": "2f81e844-f090-4c3d-98fc-534ce381ae56"
      },
      "execution_count": 537,
      "outputs": [
        {
          "output_type": "display_data",
          "data": {
            "text/plain": [
              "<Figure size 432x288 with 1 Axes>"
            ],
            "image/png": "[encoded data removed]"
          },
          "metadata": {
            "needs_background": "light"
          }
        }
      ]
    }
  ]
}